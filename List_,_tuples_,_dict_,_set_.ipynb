{
  "cells": [
    {
      "cell_type": "markdown",
      "metadata": {
        "id": "view-in-github",
        "colab_type": "text"
      },
      "source": [
        "<a href=\"https://colab.research.google.com/github/sourav263/Theory-/blob/main/List_%2C_tuples_%2C_dict_%2C_set_.ipynb\" target=\"_parent\"><img src=\"https://colab.research.google.com/assets/colab-badge.svg\" alt=\"Open In Colab\"/></a>"
      ]
    },
    {
      "cell_type": "code",
      "execution_count": null,
      "id": "6aa8fce0",
      "metadata": {
        "id": "6aa8fce0"
      },
      "outputs": [],
      "source": [
        "l = [1,2,3,4,5, \"sudh\" , 45.67, True]"
      ]
    },
    {
      "cell_type": "code",
      "execution_count": null,
      "id": "88a616d3",
      "metadata": {
        "id": "88a616d3",
        "outputId": "c0c4919d-b3bb-4c30-eb75-c8973ed7bf03"
      },
      "outputs": [
        {
          "data": {
            "text/plain": [
              "1"
            ]
          },
          "execution_count": 2,
          "metadata": {},
          "output_type": "execute_result"
        }
      ],
      "source": [
        "l[0]"
      ]
    },
    {
      "cell_type": "code",
      "execution_count": null,
      "id": "ba5eb6aa",
      "metadata": {
        "id": "ba5eb6aa",
        "outputId": "a8360e2d-1ce3-48a4-a6a6-0e69c5de49b5"
      },
      "outputs": [
        {
          "data": {
            "text/plain": [
              "True"
            ]
          },
          "execution_count": 3,
          "metadata": {},
          "output_type": "execute_result"
        }
      ],
      "source": [
        "l[-1]"
      ]
    },
    {
      "cell_type": "code",
      "execution_count": null,
      "id": "fed3fabb",
      "metadata": {
        "id": "fed3fabb",
        "outputId": "d9ea34ab-2005-4de8-ab3d-4537617151c8"
      },
      "outputs": [
        {
          "data": {
            "text/plain": [
              "8"
            ]
          },
          "execution_count": 4,
          "metadata": {},
          "output_type": "execute_result"
        }
      ],
      "source": [
        "len(l)"
      ]
    },
    {
      "cell_type": "code",
      "execution_count": null,
      "id": "a22593bb",
      "metadata": {
        "id": "a22593bb",
        "outputId": "edcb9582-3162-4ef6-dca4-a67c77cb09e4"
      },
      "outputs": [
        {
          "data": {
            "text/plain": [
              "[1, 2, 3, 4, 5]"
            ]
          },
          "execution_count": 5,
          "metadata": {},
          "output_type": "execute_result"
        }
      ],
      "source": [
        "l[0:5]"
      ]
    },
    {
      "cell_type": "code",
      "execution_count": null,
      "id": "9ec8246d",
      "metadata": {
        "id": "9ec8246d",
        "outputId": "0435b13c-7cbc-43c2-c23f-d1bbaa8432ac"
      },
      "outputs": [
        {
          "data": {
            "text/plain": [
              "[True, 45.67, 'sudh', 5, 4, 3, 2, 1]"
            ]
          },
          "execution_count": 6,
          "metadata": {},
          "output_type": "execute_result"
        }
      ],
      "source": [
        "l[::-1]"
      ]
    },
    {
      "cell_type": "code",
      "execution_count": null,
      "id": "325e5983",
      "metadata": {
        "id": "325e5983",
        "outputId": "574a46a7-de55-42d8-e665-923d1a86aba1"
      },
      "outputs": [
        {
          "data": {
            "text/plain": [
              "[1, 2, 3, 4, 5, 'sudh', 45.67, True]"
            ]
          },
          "execution_count": 7,
          "metadata": {},
          "output_type": "execute_result"
        }
      ],
      "source": [
        "l"
      ]
    },
    {
      "cell_type": "code",
      "execution_count": null,
      "id": "4a5c6b2d",
      "metadata": {
        "id": "4a5c6b2d",
        "outputId": "8e3b1e33-0c19-48eb-81a4-98eb8443d5ef"
      },
      "outputs": [
        {
          "data": {
            "text/plain": [
              "[1, 3, 5, 45.67]"
            ]
          },
          "execution_count": 9,
          "metadata": {},
          "output_type": "execute_result"
        }
      ],
      "source": [
        "l[0:100:2]"
      ]
    },
    {
      "cell_type": "code",
      "execution_count": null,
      "id": "7f8fa5d8",
      "metadata": {
        "id": "7f8fa5d8",
        "outputId": "8478f097-7ee7-4eb7-f279-bf291f1dd30d"
      },
      "outputs": [
        {
          "data": {
            "text/plain": [
              "[1, 2, 3, 4, 5, 'sudh', 45.67, True]"
            ]
          },
          "execution_count": 10,
          "metadata": {},
          "output_type": "execute_result"
        }
      ],
      "source": [
        "l"
      ]
    },
    {
      "cell_type": "code",
      "execution_count": null,
      "id": "31faac26",
      "metadata": {
        "id": "31faac26",
        "outputId": "b5aee82f-5832-4a57-a4ab-c764eeb33e56"
      },
      "outputs": [
        {
          "data": {
            "text/plain": [
              "[]"
            ]
          },
          "execution_count": 11,
          "metadata": {},
          "output_type": "execute_result"
        }
      ],
      "source": [
        "l[0:8:-1]"
      ]
    },
    {
      "cell_type": "code",
      "execution_count": null,
      "id": "d1ac7b2f",
      "metadata": {
        "id": "d1ac7b2f",
        "outputId": "a23be56e-3982-40b3-fe5c-65090b073b67"
      },
      "outputs": [
        {
          "data": {
            "text/plain": [
              "[1, 2, 3]"
            ]
          },
          "execution_count": 12,
          "metadata": {},
          "output_type": "execute_result"
        }
      ],
      "source": [
        "l[:3]"
      ]
    },
    {
      "cell_type": "code",
      "execution_count": null,
      "id": "f3a88528",
      "metadata": {
        "id": "f3a88528",
        "outputId": "7621941c-74e2-4049-830f-c2c96d37e95a"
      },
      "outputs": [
        {
          "data": {
            "text/plain": [
              "[1, 2, 3, 4, 5, 'sudh', 45.67, True, 'sudh']"
            ]
          },
          "execution_count": 15,
          "metadata": {},
          "output_type": "execute_result"
        }
      ],
      "source": [
        "l +[\"sudh\"]"
      ]
    },
    {
      "cell_type": "code",
      "execution_count": null,
      "id": "9c50fc6c",
      "metadata": {
        "id": "9c50fc6c",
        "outputId": "2abe25ee-b442-4648-a627-9ef60ffdda1b"
      },
      "outputs": [
        {
          "data": {
            "text/plain": [
              "[1, 2, 3, 4, 5, 'sudh', 45.67, True, 1, 2, 3, 4, 5, 'sudh', 45.67, True]"
            ]
          },
          "execution_count": 16,
          "metadata": {},
          "output_type": "execute_result"
        }
      ],
      "source": [
        "l * 2"
      ]
    },
    {
      "cell_type": "code",
      "execution_count": null,
      "id": "a8835e53",
      "metadata": {
        "id": "a8835e53",
        "outputId": "f16944f1-5ea3-4609-dc75-980130637f1f"
      },
      "outputs": [
        {
          "data": {
            "text/plain": [
              "[1, 2, 3, 4, 5, 'sudh', 45.67, True]"
            ]
          },
          "execution_count": 17,
          "metadata": {},
          "output_type": "execute_result"
        }
      ],
      "source": [
        "l"
      ]
    },
    {
      "cell_type": "code",
      "execution_count": null,
      "id": "1b7cb7ee",
      "metadata": {
        "id": "1b7cb7ee",
        "outputId": "040462a6-c114-4c71-9e29-33f74df76682"
      },
      "outputs": [
        {
          "data": {
            "text/plain": [
              "False"
            ]
          },
          "execution_count": 18,
          "metadata": {},
          "output_type": "execute_result"
        }
      ],
      "source": [
        "60 in l"
      ]
    },
    {
      "cell_type": "code",
      "execution_count": null,
      "id": "f72eae30",
      "metadata": {
        "id": "f72eae30",
        "outputId": "749eb8d3-b856-4bd5-cc94-f652c16758e8"
      },
      "outputs": [
        {
          "data": {
            "text/plain": [
              "True"
            ]
          },
          "execution_count": 19,
          "metadata": {},
          "output_type": "execute_result"
        }
      ],
      "source": [
        "2 in l"
      ]
    },
    {
      "cell_type": "code",
      "execution_count": null,
      "id": "36dcfabd",
      "metadata": {
        "id": "36dcfabd",
        "outputId": "59316205-1be6-49ec-cbf0-42706f5b687a"
      },
      "outputs": [
        {
          "ename": "TypeError",
          "evalue": "'>' not supported between instances of 'str' and 'int'",
          "output_type": "error",
          "traceback": [
            "\u001b[1;31m---------------------------------------------------------------------------\u001b[0m",
            "\u001b[1;31mTypeError\u001b[0m                                 Traceback (most recent call last)",
            "\u001b[1;32m~\\AppData\\Local\\Temp/ipykernel_28700/1790536805.py\u001b[0m in \u001b[0;36m<module>\u001b[1;34m\u001b[0m\n\u001b[1;32m----> 1\u001b[1;33m \u001b[0mmax\u001b[0m\u001b[1;33m(\u001b[0m\u001b[0ml\u001b[0m\u001b[1;33m)\u001b[0m\u001b[1;33m\u001b[0m\u001b[1;33m\u001b[0m\u001b[0m\n\u001b[0m",
            "\u001b[1;31mTypeError\u001b[0m: '>' not supported between instances of 'str' and 'int'"
          ]
        }
      ],
      "source": [
        "max(l)"
      ]
    },
    {
      "cell_type": "code",
      "execution_count": null,
      "id": "5f9d1feb",
      "metadata": {
        "id": "5f9d1feb"
      },
      "outputs": [],
      "source": [
        "l1 = [3,4,5,6,6]"
      ]
    },
    {
      "cell_type": "code",
      "execution_count": null,
      "id": "19744a16",
      "metadata": {
        "id": "19744a16",
        "outputId": "89e1be4b-1ca1-4248-aa53-8e3ff3543abe"
      },
      "outputs": [
        {
          "data": {
            "text/plain": [
              "6"
            ]
          },
          "execution_count": 23,
          "metadata": {},
          "output_type": "execute_result"
        }
      ],
      "source": [
        "max(l1)"
      ]
    },
    {
      "cell_type": "code",
      "execution_count": null,
      "id": "36d91ce0",
      "metadata": {
        "id": "36d91ce0",
        "outputId": "961e9876-a54f-4d46-f18b-23656efdea34"
      },
      "outputs": [
        {
          "data": {
            "text/plain": [
              "[1, 2, 3, 4, 5, 'sudh', 45.67, True]"
            ]
          },
          "execution_count": 24,
          "metadata": {},
          "output_type": "execute_result"
        }
      ],
      "source": [
        "l"
      ]
    },
    {
      "cell_type": "code",
      "execution_count": null,
      "id": "cb8fbcc3",
      "metadata": {
        "id": "cb8fbcc3"
      },
      "outputs": [],
      "source": [
        "l2 = [\"sudh\" , \"iNeuron\" , \"kumar\"]"
      ]
    },
    {
      "cell_type": "code",
      "execution_count": null,
      "id": "fcbb6f75",
      "metadata": {
        "id": "fcbb6f75",
        "outputId": "7b88c17b-6f2f-48d7-c9fb-e95ceef10379"
      },
      "outputs": [
        {
          "data": {
            "text/plain": [
              "'sudh'"
            ]
          },
          "execution_count": 26,
          "metadata": {},
          "output_type": "execute_result"
        }
      ],
      "source": [
        "max(l2)"
      ]
    },
    {
      "cell_type": "code",
      "execution_count": null,
      "id": "f15ead27",
      "metadata": {
        "id": "f15ead27",
        "outputId": "56053708-a7db-4893-bbd0-a7c2383714e7"
      },
      "outputs": [
        {
          "data": {
            "text/plain": [
              "3"
            ]
          },
          "execution_count": 27,
          "metadata": {},
          "output_type": "execute_result"
        }
      ],
      "source": [
        "min(l1)"
      ]
    },
    {
      "cell_type": "code",
      "execution_count": null,
      "id": "2f860bd5",
      "metadata": {
        "id": "2f860bd5",
        "outputId": "49d4a852-b517-4b24-dc73-d8396a1f6fa5"
      },
      "outputs": [
        {
          "data": {
            "text/plain": [
              "'iNeuron'"
            ]
          },
          "execution_count": 28,
          "metadata": {},
          "output_type": "execute_result"
        }
      ],
      "source": [
        "min(l2)"
      ]
    },
    {
      "cell_type": "code",
      "execution_count": null,
      "id": "0302a260",
      "metadata": {
        "id": "0302a260",
        "outputId": "fd98a51b-f052-49b6-cb2b-48b7c2de3d59"
      },
      "outputs": [
        {
          "data": {
            "text/plain": [
              "[1, 2, 3, 4, 5, 'sudh', 45.67, True]"
            ]
          },
          "execution_count": 29,
          "metadata": {},
          "output_type": "execute_result"
        }
      ],
      "source": [
        "l"
      ]
    },
    {
      "cell_type": "code",
      "execution_count": null,
      "id": "749e8146",
      "metadata": {
        "id": "749e8146"
      },
      "outputs": [],
      "source": [
        "l.append(\"kuamr\")"
      ]
    },
    {
      "cell_type": "code",
      "execution_count": null,
      "id": "3c94f99a",
      "metadata": {
        "id": "3c94f99a",
        "outputId": "6976e85c-297b-4504-be22-93d0a3f6387d"
      },
      "outputs": [
        {
          "data": {
            "text/plain": [
              "[1, 2, 3, 4, 5, 'sudh', 45.67, True, 'kuamr']"
            ]
          },
          "execution_count": 31,
          "metadata": {},
          "output_type": "execute_result"
        }
      ],
      "source": [
        "l"
      ]
    },
    {
      "cell_type": "code",
      "execution_count": null,
      "id": "79a5c295",
      "metadata": {
        "id": "79a5c295"
      },
      "outputs": [],
      "source": [
        "l.append([1,2,3,4])"
      ]
    },
    {
      "cell_type": "code",
      "execution_count": null,
      "id": "5e122777",
      "metadata": {
        "id": "5e122777",
        "outputId": "cdb3391b-c434-4604-bb20-8f08bc1fc5c5"
      },
      "outputs": [
        {
          "data": {
            "text/plain": [
              "[1, 2, 3, 4, 5, 'sudh', 45.67, True, 'kuamr', [1, 2, 3, 4]]"
            ]
          },
          "execution_count": 33,
          "metadata": {},
          "output_type": "execute_result"
        }
      ],
      "source": [
        "l"
      ]
    },
    {
      "cell_type": "code",
      "execution_count": null,
      "id": "03c9adf9",
      "metadata": {
        "id": "03c9adf9",
        "outputId": "603ebb98-02cd-4b54-ff1a-7dca2f402e79"
      },
      "outputs": [
        {
          "data": {
            "text/plain": [
              "1"
            ]
          },
          "execution_count": 34,
          "metadata": {},
          "output_type": "execute_result"
        }
      ],
      "source": [
        "l.pop(0)"
      ]
    },
    {
      "cell_type": "code",
      "execution_count": null,
      "id": "84200cd2",
      "metadata": {
        "id": "84200cd2",
        "outputId": "562508ae-3485-4572-bf6b-8c0ceac87ff9"
      },
      "outputs": [
        {
          "data": {
            "text/plain": [
              "[2, 3, 4, 5, 'sudh', 45.67, True, 'kuamr', [1, 2, 3, 4]]"
            ]
          },
          "execution_count": 35,
          "metadata": {},
          "output_type": "execute_result"
        }
      ],
      "source": [
        "l"
      ]
    },
    {
      "cell_type": "code",
      "execution_count": null,
      "id": "6edaaa25",
      "metadata": {
        "id": "6edaaa25",
        "outputId": "33e5e739-70e0-4ba6-d08b-9458470ae43b"
      },
      "outputs": [
        {
          "data": {
            "text/plain": [
              "[1, 2, 3, 4]"
            ]
          },
          "execution_count": 36,
          "metadata": {},
          "output_type": "execute_result"
        }
      ],
      "source": [
        "l.pop()"
      ]
    },
    {
      "cell_type": "code",
      "execution_count": null,
      "id": "e578afaf",
      "metadata": {
        "id": "e578afaf",
        "outputId": "4534487c-c622-42c3-f929-6b396242fcb9"
      },
      "outputs": [
        {
          "data": {
            "text/plain": [
              "[2, 3, 4, 5, 'sudh', 45.67, True, 'kuamr']"
            ]
          },
          "execution_count": 37,
          "metadata": {},
          "output_type": "execute_result"
        }
      ],
      "source": [
        "l"
      ]
    },
    {
      "cell_type": "code",
      "execution_count": null,
      "id": "77598818",
      "metadata": {
        "id": "77598818"
      },
      "outputs": [],
      "source": [
        "l.reverse()"
      ]
    },
    {
      "cell_type": "code",
      "execution_count": null,
      "id": "c630beef",
      "metadata": {
        "id": "c630beef",
        "outputId": "2f8dfff3-5354-4c50-b0f4-55a00839158b"
      },
      "outputs": [
        {
          "data": {
            "text/plain": [
              "['kuamr', True, 45.67, 'sudh', 5, 4, 3, 2]"
            ]
          },
          "execution_count": 39,
          "metadata": {},
          "output_type": "execute_result"
        }
      ],
      "source": [
        "l"
      ]
    },
    {
      "cell_type": "code",
      "execution_count": null,
      "id": "52cfc604",
      "metadata": {
        "id": "52cfc604",
        "outputId": "30a0413c-6fea-419a-80be-e14fe93b250b"
      },
      "outputs": [
        {
          "data": {
            "text/plain": [
              "[2, 3, 4, 5, 'sudh', 45.67, True, 'kuamr']"
            ]
          },
          "execution_count": 40,
          "metadata": {},
          "output_type": "execute_result"
        }
      ],
      "source": [
        "l = l[::-1]"
      ]
    },
    {
      "cell_type": "code",
      "execution_count": null,
      "id": "f8d0ef51",
      "metadata": {
        "id": "f8d0ef51"
      },
      "outputs": [],
      "source": [
        "l.reverse()"
      ]
    },
    {
      "cell_type": "code",
      "execution_count": null,
      "id": "04bdc84d",
      "metadata": {
        "id": "04bdc84d",
        "outputId": "09355a55-4103-4270-f9bd-088124449987"
      },
      "outputs": [
        {
          "data": {
            "text/plain": [
              "[2, 3, 4, 5, 'sudh', 45.67, True, 'kuamr']"
            ]
          },
          "execution_count": 42,
          "metadata": {},
          "output_type": "execute_result"
        }
      ],
      "source": [
        "l"
      ]
    },
    {
      "cell_type": "code",
      "execution_count": null,
      "id": "546a2228",
      "metadata": {
        "id": "546a2228"
      },
      "outputs": [],
      "source": [
        "l.append ([1,2,3,4])"
      ]
    },
    {
      "cell_type": "code",
      "execution_count": null,
      "id": "03d13653",
      "metadata": {
        "id": "03d13653",
        "outputId": "2d5521ca-4533-4605-d25f-bbe11bb0a47a"
      },
      "outputs": [
        {
          "data": {
            "text/plain": [
              "[2, 3, 4, 5, 'sudh', 45.67, True, 'kuamr', [1, 2, 3, 4]]"
            ]
          },
          "execution_count": 44,
          "metadata": {},
          "output_type": "execute_result"
        }
      ],
      "source": [
        "l"
      ]
    },
    {
      "cell_type": "code",
      "execution_count": null,
      "id": "9045a61f",
      "metadata": {
        "id": "9045a61f",
        "outputId": "fe3f7aa6-b757-434c-ccdc-6d1d6f27bdeb"
      },
      "outputs": [
        {
          "ename": "TypeError",
          "evalue": "'<' not supported between instances of 'str' and 'int'",
          "output_type": "error",
          "traceback": [
            "\u001b[1;31m---------------------------------------------------------------------------\u001b[0m",
            "\u001b[1;31mTypeError\u001b[0m                                 Traceback (most recent call last)",
            "\u001b[1;32m~\\AppData\\Local\\Temp/ipykernel_28700/4149526160.py\u001b[0m in \u001b[0;36m<module>\u001b[1;34m\u001b[0m\n\u001b[1;32m----> 1\u001b[1;33m \u001b[0ml\u001b[0m\u001b[1;33m.\u001b[0m\u001b[0msort\u001b[0m\u001b[1;33m(\u001b[0m\u001b[1;33m)\u001b[0m\u001b[1;33m\u001b[0m\u001b[1;33m\u001b[0m\u001b[0m\n\u001b[0m",
            "\u001b[1;31mTypeError\u001b[0m: '<' not supported between instances of 'str' and 'int'"
          ]
        }
      ],
      "source": [
        "l.sort()"
      ]
    },
    {
      "cell_type": "code",
      "execution_count": null,
      "id": "9cd32227",
      "metadata": {
        "id": "9cd32227",
        "outputId": "7c315977-0e2c-432a-8c58-c4625015bb84"
      },
      "outputs": [
        {
          "data": {
            "text/plain": [
              "[2, 3, 4, 5, 'sudh', 45.67, True, 'kuamr', [1, 2, 3, 4]]"
            ]
          },
          "execution_count": 46,
          "metadata": {},
          "output_type": "execute_result"
        }
      ],
      "source": [
        "l"
      ]
    },
    {
      "cell_type": "code",
      "execution_count": null,
      "id": "1c2e3b21",
      "metadata": {
        "id": "1c2e3b21",
        "outputId": "a91ef9f1-13e1-4cbb-801d-f4afe5909b19"
      },
      "outputs": [
        {
          "data": {
            "text/plain": [
              "[3, 4, 5, 6, 6]"
            ]
          },
          "execution_count": 47,
          "metadata": {},
          "output_type": "execute_result"
        }
      ],
      "source": [
        "l1"
      ]
    },
    {
      "cell_type": "code",
      "execution_count": null,
      "id": "0fa37a2d",
      "metadata": {
        "id": "0fa37a2d"
      },
      "outputs": [],
      "source": [
        "l1.sort()"
      ]
    },
    {
      "cell_type": "code",
      "execution_count": null,
      "id": "f0eb8ce5",
      "metadata": {
        "id": "f0eb8ce5",
        "outputId": "544d6127-b9e2-439a-ae11-5dd8c11272ae"
      },
      "outputs": [
        {
          "data": {
            "text/plain": [
              "[3, 4, 5, 6, 6]"
            ]
          },
          "execution_count": 49,
          "metadata": {},
          "output_type": "execute_result"
        }
      ],
      "source": [
        "l1"
      ]
    },
    {
      "cell_type": "code",
      "execution_count": null,
      "id": "71dbdb88",
      "metadata": {
        "id": "71dbdb88"
      },
      "outputs": [],
      "source": [
        "l3 = [8,98,34,23,1,0]"
      ]
    },
    {
      "cell_type": "code",
      "execution_count": null,
      "id": "e9df020b",
      "metadata": {
        "id": "e9df020b"
      },
      "outputs": [],
      "source": [
        "l3.sort(reverse= True )"
      ]
    },
    {
      "cell_type": "code",
      "execution_count": null,
      "id": "cb59106d",
      "metadata": {
        "id": "cb59106d",
        "outputId": "e00cf15b-c083-4334-9801-9a9110b0726f"
      },
      "outputs": [
        {
          "data": {
            "text/plain": [
              "[98, 34, 23, 8, 1, 0]"
            ]
          },
          "execution_count": 54,
          "metadata": {},
          "output_type": "execute_result"
        }
      ],
      "source": [
        "l3"
      ]
    },
    {
      "cell_type": "code",
      "execution_count": null,
      "id": "b74d99fc",
      "metadata": {
        "id": "b74d99fc"
      },
      "outputs": [],
      "source": [
        "l1 = [2,3,4]\n",
        "l2 = [6,7,8]\n",
        "l3 = [3,2,4]"
      ]
    },
    {
      "cell_type": "code",
      "execution_count": null,
      "id": "ccb0aeda",
      "metadata": {
        "id": "ccb0aeda"
      },
      "outputs": [],
      "source": [
        "l4 = [l1,l2,l3]"
      ]
    },
    {
      "cell_type": "code",
      "execution_count": null,
      "id": "f7c18d8b",
      "metadata": {
        "id": "f7c18d8b",
        "outputId": "f2604350-7e4a-403d-e67a-983b4b6a19ef"
      },
      "outputs": [
        {
          "data": {
            "text/plain": [
              "[[2, 3, 4], [6, 7, 8], [3, 2, 4]]"
            ]
          },
          "execution_count": 57,
          "metadata": {},
          "output_type": "execute_result"
        }
      ],
      "source": [
        "l4"
      ]
    },
    {
      "cell_type": "code",
      "execution_count": null,
      "id": "e3091857",
      "metadata": {
        "id": "e3091857",
        "outputId": "69f20c8f-35d1-45a5-a015-6834c10cad08"
      },
      "outputs": [
        {
          "data": {
            "text/plain": [
              "[[2, 3, 4], [6, 7, 8], [3, 2, 4]]"
            ]
          },
          "execution_count": 64,
          "metadata": {},
          "output_type": "execute_result"
        }
      ],
      "source": [
        "l4"
      ]
    },
    {
      "cell_type": "code",
      "execution_count": null,
      "id": "1c71465f",
      "metadata": {
        "id": "1c71465f",
        "outputId": "e7384245-c3eb-4748-d735-2298adaa76c9"
      },
      "outputs": [
        {
          "data": {
            "text/plain": [
              "2"
            ]
          },
          "execution_count": 66,
          "metadata": {},
          "output_type": "execute_result"
        }
      ],
      "source": [
        "l4[2][1]"
      ]
    },
    {
      "cell_type": "code",
      "execution_count": null,
      "id": "68c6c66b",
      "metadata": {
        "id": "68c6c66b",
        "outputId": "365443b6-8748-49a6-e6b5-6ad49496a953"
      },
      "outputs": [
        {
          "data": {
            "text/plain": [
              "2"
            ]
          },
          "execution_count": 59,
          "metadata": {},
          "output_type": "execute_result"
        }
      ],
      "source": [
        "l4[2][1]"
      ]
    },
    {
      "cell_type": "code",
      "execution_count": null,
      "id": "33febc15",
      "metadata": {
        "id": "33febc15",
        "outputId": "e43b7477-cca7-45cd-92e8-dc945d068901"
      },
      "outputs": [
        {
          "data": {
            "text/plain": [
              "[2, 3, 4, 5, 'sudh', 45.67, True, 'kuamr', [1, 2, 3, 4]]"
            ]
          },
          "execution_count": 60,
          "metadata": {},
          "output_type": "execute_result"
        }
      ],
      "source": [
        "l"
      ]
    },
    {
      "cell_type": "code",
      "execution_count": null,
      "id": "dfefc348",
      "metadata": {
        "id": "dfefc348",
        "outputId": "44019b70-dde2-46d8-dabb-f423bbc57844"
      },
      "outputs": [
        {
          "data": {
            "text/plain": [
              "1"
            ]
          },
          "execution_count": 61,
          "metadata": {},
          "output_type": "execute_result"
        }
      ],
      "source": [
        "l.count(2)"
      ]
    },
    {
      "cell_type": "code",
      "execution_count": null,
      "id": "bbf42cca",
      "metadata": {
        "id": "bbf42cca"
      },
      "outputs": [],
      "source": [
        "l5 = [3,4,5,3,3,3]"
      ]
    },
    {
      "cell_type": "code",
      "execution_count": null,
      "id": "94653c8e",
      "metadata": {
        "id": "94653c8e",
        "outputId": "c7d721a2-535a-4cc0-df63-11a9a7cc2b65"
      },
      "outputs": [
        {
          "data": {
            "text/plain": [
              "4"
            ]
          },
          "execution_count": 63,
          "metadata": {},
          "output_type": "execute_result"
        }
      ],
      "source": [
        "l5.count(3)"
      ]
    },
    {
      "cell_type": "code",
      "execution_count": null,
      "id": "15a1b5b8",
      "metadata": {
        "id": "15a1b5b8",
        "outputId": "3c00ebab-d2b4-444b-e987-9971e2e2798c"
      },
      "outputs": [
        {
          "data": {
            "text/plain": [
              "0"
            ]
          },
          "execution_count": 67,
          "metadata": {},
          "output_type": "execute_result"
        }
      ],
      "source": [
        "l1=[1,2,3]\n",
        "l2=[4,5,6]\n",
        "l3=[7,8,9]\n",
        "\n",
        "l4=[l1,l2,l3]\n",
        "\n",
        "l4.count(3)\n",
        "\n"
      ]
    },
    {
      "cell_type": "code",
      "execution_count": null,
      "id": "0a2a3d99",
      "metadata": {
        "id": "0a2a3d99",
        "outputId": "1437724e-e3e5-49e9-fa2e-f39d78e2e36d"
      },
      "outputs": [
        {
          "data": {
            "text/plain": [
              "[[1, 2, 3], [4, 5, 6], [7, 8, 9]]"
            ]
          },
          "execution_count": 68,
          "metadata": {},
          "output_type": "execute_result"
        }
      ],
      "source": [
        "l4"
      ]
    },
    {
      "cell_type": "code",
      "execution_count": null,
      "id": "9344afad",
      "metadata": {
        "id": "9344afad",
        "outputId": "344e1adc-c1da-41da-fb8f-59729edba698"
      },
      "outputs": [
        {
          "data": {
            "text/plain": [
              "0"
            ]
          },
          "execution_count": 69,
          "metadata": {},
          "output_type": "execute_result"
        }
      ],
      "source": [
        "l4.count(3)"
      ]
    },
    {
      "cell_type": "code",
      "execution_count": null,
      "id": "a67e216c",
      "metadata": {
        "id": "a67e216c",
        "outputId": "3ed07d7b-7a78-458c-a51a-784680f23926"
      },
      "outputs": [
        {
          "data": {
            "text/plain": [
              "[2, 3, 4, 5, 'sudh', 45.67, True, 'kuamr', [1, 2, 3, 4]]"
            ]
          },
          "execution_count": 70,
          "metadata": {},
          "output_type": "execute_result"
        }
      ],
      "source": [
        "l"
      ]
    },
    {
      "cell_type": "code",
      "execution_count": null,
      "id": "68861420",
      "metadata": {
        "id": "68861420"
      },
      "outputs": [],
      "source": [
        "l.append(\"iNeuron\")"
      ]
    },
    {
      "cell_type": "code",
      "execution_count": null,
      "id": "927a4828",
      "metadata": {
        "id": "927a4828",
        "outputId": "f33e3ab7-5c7e-48ee-8ac3-8d6f1241d300"
      },
      "outputs": [
        {
          "data": {
            "text/plain": [
              "[2, 3, 4, 5, 'sudh', 45.67, True, 'kuamr', [1, 2, 3, 4], 'iNeuron']"
            ]
          },
          "execution_count": 72,
          "metadata": {},
          "output_type": "execute_result"
        }
      ],
      "source": [
        "l"
      ]
    },
    {
      "cell_type": "code",
      "execution_count": null,
      "id": "de2bbdc9",
      "metadata": {
        "id": "de2bbdc9"
      },
      "outputs": [],
      "source": [
        "l.append([4,56 , \"sudh\"])"
      ]
    },
    {
      "cell_type": "code",
      "execution_count": null,
      "id": "fb235d9c",
      "metadata": {
        "id": "fb235d9c",
        "outputId": "dfaf468b-de54-44f4-c4a9-9ff4c936ea26"
      },
      "outputs": [
        {
          "data": {
            "text/plain": [
              "[2,\n",
              " 3,\n",
              " 4,\n",
              " 5,\n",
              " 'sudh',\n",
              " 45.67,\n",
              " True,\n",
              " 'kuamr',\n",
              " [1, 2, 3, 4],\n",
              " 'iNeuron',\n",
              " [4, 56, 'sudh']]"
            ]
          },
          "execution_count": 74,
          "metadata": {},
          "output_type": "execute_result"
        }
      ],
      "source": [
        "l"
      ]
    },
    {
      "cell_type": "code",
      "execution_count": null,
      "id": "9f139029",
      "metadata": {
        "id": "9f139029"
      },
      "outputs": [],
      "source": [
        "l.extend(\"sudh\")"
      ]
    },
    {
      "cell_type": "code",
      "execution_count": null,
      "id": "40c36ad0",
      "metadata": {
        "id": "40c36ad0",
        "outputId": "e7ccd419-4b57-4f65-c82a-d0541f1b966a"
      },
      "outputs": [
        {
          "data": {
            "text/plain": [
              "[2,\n",
              " 3,\n",
              " 4,\n",
              " 5,\n",
              " 'sudh',\n",
              " 45.67,\n",
              " True,\n",
              " 'kuamr',\n",
              " [1, 2, 3, 4],\n",
              " 'iNeuron',\n",
              " [4, 56, 'sudh'],\n",
              " 's',\n",
              " 'u',\n",
              " 'd',\n",
              " 'h']"
            ]
          },
          "execution_count": 76,
          "metadata": {},
          "output_type": "execute_result"
        }
      ],
      "source": [
        "l"
      ]
    },
    {
      "cell_type": "code",
      "execution_count": null,
      "id": "39565fb8",
      "metadata": {
        "id": "39565fb8"
      },
      "outputs": [],
      "source": [
        "l6 = [1,2,3]"
      ]
    },
    {
      "cell_type": "code",
      "execution_count": null,
      "id": "ca802d08",
      "metadata": {
        "id": "ca802d08"
      },
      "outputs": [],
      "source": [
        "l6.append([4,5,6])"
      ]
    },
    {
      "cell_type": "code",
      "execution_count": null,
      "id": "b12a528a",
      "metadata": {
        "id": "b12a528a",
        "outputId": "80fc1319-e7a0-4336-afe1-90ac810fd7ca"
      },
      "outputs": [
        {
          "data": {
            "text/plain": [
              "[1, 2, 3, [4, 5, 6]]"
            ]
          },
          "execution_count": 79,
          "metadata": {},
          "output_type": "execute_result"
        }
      ],
      "source": [
        "l6"
      ]
    },
    {
      "cell_type": "code",
      "execution_count": null,
      "id": "7388acce",
      "metadata": {
        "id": "7388acce"
      },
      "outputs": [],
      "source": [
        "l6.append(\"sudh\")"
      ]
    },
    {
      "cell_type": "code",
      "execution_count": null,
      "id": "fd0824a0",
      "metadata": {
        "id": "fd0824a0",
        "outputId": "2dc7ef2c-fab7-46cf-f3cd-eb3aaac2707f"
      },
      "outputs": [
        {
          "data": {
            "text/plain": [
              "[1, 2, 3, [4, 5, 6], 'sudh']"
            ]
          },
          "execution_count": 81,
          "metadata": {},
          "output_type": "execute_result"
        }
      ],
      "source": [
        "l6"
      ]
    },
    {
      "cell_type": "code",
      "execution_count": null,
      "id": "7907cb19",
      "metadata": {
        "id": "7907cb19",
        "outputId": "f4bea826-05e7-4161-d160-3ab385709916"
      },
      "outputs": [
        {
          "ename": "TypeError",
          "evalue": "'int' object is not iterable",
          "output_type": "error",
          "traceback": [
            "\u001b[1;31m---------------------------------------------------------------------------\u001b[0m",
            "\u001b[1;31mTypeError\u001b[0m                                 Traceback (most recent call last)",
            "\u001b[1;32m~\\AppData\\Local\\Temp/ipykernel_28700/3761217359.py\u001b[0m in \u001b[0;36m<module>\u001b[1;34m\u001b[0m\n\u001b[1;32m----> 1\u001b[1;33m \u001b[0ml6\u001b[0m\u001b[1;33m.\u001b[0m\u001b[0mextend\u001b[0m\u001b[1;33m(\u001b[0m\u001b[1;36m45\u001b[0m\u001b[1;33m)\u001b[0m\u001b[1;33m\u001b[0m\u001b[1;33m\u001b[0m\u001b[0m\n\u001b[0m",
            "\u001b[1;31mTypeError\u001b[0m: 'int' object is not iterable"
          ]
        }
      ],
      "source": [
        "l6.extend(45)"
      ]
    },
    {
      "cell_type": "code",
      "execution_count": null,
      "id": "603aba04",
      "metadata": {
        "id": "603aba04"
      },
      "outputs": [],
      "source": [
        "l6.append(45)"
      ]
    },
    {
      "cell_type": "code",
      "execution_count": null,
      "id": "dc698e27",
      "metadata": {
        "id": "dc698e27",
        "outputId": "56c94142-c2b5-43d3-80c5-a06cd6e6a994"
      },
      "outputs": [
        {
          "data": {
            "text/plain": [
              "[1, 2, 3, [4, 5, 6], 'sudh', 45]"
            ]
          },
          "execution_count": 84,
          "metadata": {},
          "output_type": "execute_result"
        }
      ],
      "source": [
        "l6"
      ]
    },
    {
      "cell_type": "code",
      "execution_count": null,
      "id": "a662edf7",
      "metadata": {
        "id": "a662edf7"
      },
      "outputs": [],
      "source": [
        "l6.extend([56,34,21])"
      ]
    },
    {
      "cell_type": "code",
      "execution_count": null,
      "id": "01527db6",
      "metadata": {
        "id": "01527db6",
        "outputId": "7ef37ec3-3abc-4953-f9a6-fef5bbca7884"
      },
      "outputs": [
        {
          "data": {
            "text/plain": [
              "[1, 2, 3, [4, 5, 6], 'sudh', 45, 56, 34, 21]"
            ]
          },
          "execution_count": 86,
          "metadata": {},
          "output_type": "execute_result"
        }
      ],
      "source": [
        "l6"
      ]
    },
    {
      "cell_type": "code",
      "execution_count": null,
      "id": "f206218d",
      "metadata": {
        "id": "f206218d"
      },
      "outputs": [],
      "source": [
        "l6.extend(\"sudh\")"
      ]
    },
    {
      "cell_type": "code",
      "execution_count": null,
      "id": "1173ec16",
      "metadata": {
        "id": "1173ec16",
        "outputId": "fc0b2ad0-4d01-43fa-f97c-5cc8655e17e0"
      },
      "outputs": [
        {
          "data": {
            "text/plain": [
              "[1, 2, 3, [4, 5, 6], 'sudh', 45, 56, 34, 21, 's', 'u', 'd', 'h']"
            ]
          },
          "execution_count": 88,
          "metadata": {},
          "output_type": "execute_result"
        }
      ],
      "source": [
        "l6"
      ]
    },
    {
      "cell_type": "code",
      "execution_count": null,
      "id": "4d38b1bd",
      "metadata": {
        "id": "4d38b1bd",
        "outputId": "f201c1ef-780d-4c81-9c62-0f05f821c7c3"
      },
      "outputs": [
        {
          "data": {
            "text/plain": [
              "[1, 2, 3, [4, 5, 6], 'sudh', 45, 56, 34, 21, 's', 'u', 'd', 'h']"
            ]
          },
          "execution_count": 89,
          "metadata": {},
          "output_type": "execute_result"
        }
      ],
      "source": [
        "l6"
      ]
    },
    {
      "cell_type": "code",
      "execution_count": null,
      "id": "84a62688",
      "metadata": {
        "id": "84a62688",
        "outputId": "cca19ff1-8172-4b20-d2b6-228f89688952"
      },
      "outputs": [
        {
          "data": {
            "text/plain": [
              "0"
            ]
          },
          "execution_count": 90,
          "metadata": {},
          "output_type": "execute_result"
        }
      ],
      "source": [
        "l6.index(1)"
      ]
    },
    {
      "cell_type": "code",
      "execution_count": null,
      "id": "bcd7b6bc",
      "metadata": {
        "id": "bcd7b6bc"
      },
      "outputs": [],
      "source": [
        "l7  = [1,2,3,4,55,6,6,7]"
      ]
    },
    {
      "cell_type": "code",
      "execution_count": null,
      "id": "543912bd",
      "metadata": {
        "id": "543912bd",
        "outputId": "30330b5f-bfb9-47e1-e08c-598043638950"
      },
      "outputs": [
        {
          "data": {
            "text/plain": [
              "5"
            ]
          },
          "execution_count": 92,
          "metadata": {},
          "output_type": "execute_result"
        }
      ],
      "source": [
        "l7.index(6)"
      ]
    },
    {
      "cell_type": "code",
      "execution_count": null,
      "id": "a0bd97b7",
      "metadata": {
        "id": "a0bd97b7"
      },
      "outputs": [],
      "source": [
        "l = [1,2,3,4,5]"
      ]
    },
    {
      "cell_type": "code",
      "execution_count": null,
      "id": "b41b0450",
      "metadata": {
        "id": "b41b0450"
      },
      "outputs": [],
      "source": [
        "l.append(45)"
      ]
    },
    {
      "cell_type": "code",
      "execution_count": null,
      "id": "f806136d",
      "metadata": {
        "id": "f806136d",
        "outputId": "ae63fa49-18b6-4a72-91b8-6c42d5d7edae"
      },
      "outputs": [
        {
          "data": {
            "text/plain": [
              "[1, 2, 3, 4, 5, 45]"
            ]
          },
          "execution_count": 95,
          "metadata": {},
          "output_type": "execute_result"
        }
      ],
      "source": [
        "l"
      ]
    },
    {
      "cell_type": "code",
      "execution_count": null,
      "id": "8b4bdb4f",
      "metadata": {
        "id": "8b4bdb4f"
      },
      "outputs": [],
      "source": [
        "l.insert(1 , [1,2,34])"
      ]
    },
    {
      "cell_type": "code",
      "execution_count": null,
      "id": "08ef3881",
      "metadata": {
        "id": "08ef3881",
        "outputId": "19d783f5-cf1b-49ac-f944-ca75d231a8d8"
      },
      "outputs": [
        {
          "data": {
            "text/plain": [
              "[1, [1, 2, 34], 2, 3, 4, 5, 45]"
            ]
          },
          "execution_count": 97,
          "metadata": {},
          "output_type": "execute_result"
        }
      ],
      "source": [
        "l"
      ]
    },
    {
      "cell_type": "code",
      "execution_count": null,
      "id": "c9c73ea0",
      "metadata": {
        "id": "c9c73ea0"
      },
      "outputs": [],
      "source": [
        "l.insert(5,\"sudh\")"
      ]
    },
    {
      "cell_type": "code",
      "execution_count": null,
      "id": "4d5fcc67",
      "metadata": {
        "id": "4d5fcc67",
        "outputId": "5c59a405-9b5b-4d35-c835-c8df2d43087c"
      },
      "outputs": [
        {
          "data": {
            "text/plain": [
              "[1, [1, 2, 34], 2, 3, 4, 'sudh', 5, 45]"
            ]
          },
          "execution_count": 99,
          "metadata": {},
          "output_type": "execute_result"
        }
      ],
      "source": [
        "l"
      ]
    },
    {
      "cell_type": "code",
      "execution_count": null,
      "id": "64f41b39",
      "metadata": {
        "id": "64f41b39",
        "outputId": "53fb6012-7db6-48e9-cfb6-89c23a0bdf3d"
      },
      "outputs": [
        {
          "data": {
            "text/plain": [
              "[1, [1, 2, 34], 2, 3, 4, 'sudh', 5, 45]"
            ]
          },
          "execution_count": 100,
          "metadata": {},
          "output_type": "execute_result"
        }
      ],
      "source": [
        "l"
      ]
    },
    {
      "cell_type": "code",
      "execution_count": null,
      "id": "a46aa65d",
      "metadata": {
        "id": "a46aa65d",
        "outputId": "a9ac8e52-2df4-4152-a2b6-9ae480a478fb"
      },
      "outputs": [
        {
          "data": {
            "text/plain": [
              "45"
            ]
          },
          "execution_count": 101,
          "metadata": {},
          "output_type": "execute_result"
        }
      ],
      "source": [
        "l.pop()"
      ]
    },
    {
      "cell_type": "code",
      "execution_count": null,
      "id": "f7e51b16",
      "metadata": {
        "id": "f7e51b16",
        "outputId": "d9ae03c2-1427-465b-9dcd-3bd2fd3ae49f"
      },
      "outputs": [
        {
          "data": {
            "text/plain": [
              "[1, [1, 2, 34], 2, 3, 4, 'sudh', 5]"
            ]
          },
          "execution_count": 102,
          "metadata": {},
          "output_type": "execute_result"
        }
      ],
      "source": [
        "l"
      ]
    },
    {
      "cell_type": "code",
      "execution_count": null,
      "id": "908f4119",
      "metadata": {
        "id": "908f4119",
        "outputId": "c0a6d1d2-0160-4951-ed6a-4b9abb27f254"
      },
      "outputs": [
        {
          "data": {
            "text/plain": [
              "2"
            ]
          },
          "execution_count": 103,
          "metadata": {},
          "output_type": "execute_result"
        }
      ],
      "source": [
        "l.pop(2)"
      ]
    },
    {
      "cell_type": "code",
      "execution_count": null,
      "id": "31839570",
      "metadata": {
        "id": "31839570",
        "outputId": "4f7d171c-60ca-4252-b7ca-12c8a17649dc"
      },
      "outputs": [
        {
          "data": {
            "text/plain": [
              "[1, [1, 2, 34], 3, 4, 'sudh', 5]"
            ]
          },
          "execution_count": 104,
          "metadata": {},
          "output_type": "execute_result"
        }
      ],
      "source": [
        "l"
      ]
    },
    {
      "cell_type": "code",
      "execution_count": null,
      "id": "9b556890",
      "metadata": {
        "id": "9b556890",
        "outputId": "9ba5a59e-fc07-4d66-fa12-cf786a3933c9"
      },
      "outputs": [
        {
          "ename": "ValueError",
          "evalue": "list.remove(x): x not in list",
          "output_type": "error",
          "traceback": [
            "\u001b[1;31m---------------------------------------------------------------------------\u001b[0m",
            "\u001b[1;31mValueError\u001b[0m                                Traceback (most recent call last)",
            "\u001b[1;32m~\\AppData\\Local\\Temp/ipykernel_28700/1079903665.py\u001b[0m in \u001b[0;36m<module>\u001b[1;34m\u001b[0m\n\u001b[1;32m----> 1\u001b[1;33m \u001b[0ml\u001b[0m\u001b[1;33m.\u001b[0m\u001b[0mremove\u001b[0m\u001b[1;33m(\u001b[0m\u001b[1;36m100\u001b[0m\u001b[1;33m)\u001b[0m\u001b[1;33m\u001b[0m\u001b[1;33m\u001b[0m\u001b[0m\n\u001b[0m",
            "\u001b[1;31mValueError\u001b[0m: list.remove(x): x not in list"
          ]
        }
      ],
      "source": [
        "l.remove(100)"
      ]
    },
    {
      "cell_type": "code",
      "execution_count": null,
      "id": "8c4c0b2e",
      "metadata": {
        "id": "8c4c0b2e"
      },
      "outputs": [],
      "source": [
        "l.remove(4)"
      ]
    },
    {
      "cell_type": "code",
      "execution_count": null,
      "id": "89b079a3",
      "metadata": {
        "id": "89b079a3",
        "outputId": "26fe58f3-552d-46f5-e161-6e2d1c70caec"
      },
      "outputs": [
        {
          "data": {
            "text/plain": [
              "[1, [1, 2, 34], 3, 'sudh', 5]"
            ]
          },
          "execution_count": 108,
          "metadata": {},
          "output_type": "execute_result"
        }
      ],
      "source": [
        "l"
      ]
    },
    {
      "cell_type": "code",
      "execution_count": null,
      "id": "4b3fa07c",
      "metadata": {
        "id": "4b3fa07c"
      },
      "outputs": [],
      "source": [
        "l.remove(3)"
      ]
    },
    {
      "cell_type": "code",
      "execution_count": null,
      "id": "bd896442",
      "metadata": {
        "id": "bd896442",
        "outputId": "3ee43d43-d533-4270-f5e8-31d864cf58b5"
      },
      "outputs": [
        {
          "data": {
            "text/plain": [
              "[1, [1, 2, 34], 'sudh', 5]"
            ]
          },
          "execution_count": 110,
          "metadata": {},
          "output_type": "execute_result"
        }
      ],
      "source": [
        "l"
      ]
    },
    {
      "cell_type": "code",
      "execution_count": null,
      "id": "a9d2dbf0",
      "metadata": {
        "id": "a9d2dbf0"
      },
      "outputs": [],
      "source": [
        "l = [1,2,3,4]"
      ]
    },
    {
      "cell_type": "code",
      "execution_count": null,
      "id": "68f3ed3d",
      "metadata": {
        "id": "68f3ed3d"
      },
      "outputs": [],
      "source": [
        "l[2] =\"sudh\""
      ]
    },
    {
      "cell_type": "code",
      "execution_count": null,
      "id": "8ae1745a",
      "metadata": {
        "id": "8ae1745a",
        "outputId": "d14e83f4-9b51-44ce-a00b-6efbe65d36d0"
      },
      "outputs": [
        {
          "data": {
            "text/plain": [
              "[1, 2, 'sudh', 4]"
            ]
          },
          "execution_count": 114,
          "metadata": {},
          "output_type": "execute_result"
        }
      ],
      "source": [
        "l"
      ]
    },
    {
      "cell_type": "code",
      "execution_count": null,
      "id": "ea4b1401",
      "metadata": {
        "id": "ea4b1401"
      },
      "outputs": [],
      "source": [
        "s = \"iNeuron\""
      ]
    },
    {
      "cell_type": "code",
      "execution_count": null,
      "id": "afa749f0",
      "metadata": {
        "id": "afa749f0",
        "outputId": "6b1ba671-78c1-4a6b-df1f-6065be27bd76"
      },
      "outputs": [
        {
          "ename": "TypeError",
          "evalue": "'str' object does not support item assignment",
          "output_type": "error",
          "traceback": [
            "\u001b[1;31m---------------------------------------------------------------------------\u001b[0m",
            "\u001b[1;31mTypeError\u001b[0m                                 Traceback (most recent call last)",
            "\u001b[1;32m~\\AppData\\Local\\Temp/ipykernel_28700/461640476.py\u001b[0m in \u001b[0;36m<module>\u001b[1;34m\u001b[0m\n\u001b[1;32m----> 1\u001b[1;33m \u001b[0ms\u001b[0m\u001b[1;33m[\u001b[0m\u001b[1;36m2\u001b[0m\u001b[1;33m]\u001b[0m \u001b[1;33m=\u001b[0m \u001b[1;34m'z'\u001b[0m\u001b[1;33m\u001b[0m\u001b[1;33m\u001b[0m\u001b[0m\n\u001b[0m",
            "\u001b[1;31mTypeError\u001b[0m: 'str' object does not support item assignment"
          ]
        }
      ],
      "source": [
        "s[2] = 'z'"
      ]
    },
    {
      "cell_type": "code",
      "execution_count": null,
      "id": "8e53c33c",
      "metadata": {
        "id": "8e53c33c"
      },
      "outputs": [],
      "source": [
        "t = (4,5,6,7,\"sudh\" ,45.67, True)"
      ]
    },
    {
      "cell_type": "code",
      "execution_count": null,
      "id": "d5a64769",
      "metadata": {
        "id": "d5a64769",
        "outputId": "f902344a-3a15-4bce-aa61-508e5068c119"
      },
      "outputs": [
        {
          "data": {
            "text/plain": [
              "tuple"
            ]
          },
          "execution_count": 119,
          "metadata": {},
          "output_type": "execute_result"
        }
      ],
      "source": [
        "type(t)"
      ]
    },
    {
      "cell_type": "code",
      "execution_count": null,
      "id": "31b1c5f6",
      "metadata": {
        "id": "31b1c5f6",
        "outputId": "be915fed-0da5-408f-e398-c5353e8f1a53"
      },
      "outputs": [
        {
          "data": {
            "text/plain": [
              "4"
            ]
          },
          "execution_count": 120,
          "metadata": {},
          "output_type": "execute_result"
        }
      ],
      "source": [
        "t[0]"
      ]
    },
    {
      "cell_type": "code",
      "execution_count": null,
      "id": "1dbc0672",
      "metadata": {
        "id": "1dbc0672",
        "outputId": "28de175a-c868-4022-f83a-5b73207f0829"
      },
      "outputs": [
        {
          "data": {
            "text/plain": [
              "(4, 5, 6, 7)"
            ]
          },
          "execution_count": 121,
          "metadata": {},
          "output_type": "execute_result"
        }
      ],
      "source": [
        "t[0:4]"
      ]
    },
    {
      "cell_type": "code",
      "execution_count": null,
      "id": "d4dc0937",
      "metadata": {
        "id": "d4dc0937",
        "outputId": "5b40dc45-5c2f-4302-ac52-54d48e01ee06"
      },
      "outputs": [
        {
          "data": {
            "text/plain": [
              "True"
            ]
          },
          "execution_count": 122,
          "metadata": {},
          "output_type": "execute_result"
        }
      ],
      "source": [
        "t[-1]"
      ]
    },
    {
      "cell_type": "code",
      "execution_count": null,
      "id": "56772e1f",
      "metadata": {
        "id": "56772e1f",
        "outputId": "800c281e-7654-4d66-91f2-b1c8679357e5"
      },
      "outputs": [
        {
          "data": {
            "text/plain": [
              "(4, 5, 6, 7, 'sudh', 45.67, True)"
            ]
          },
          "execution_count": 123,
          "metadata": {},
          "output_type": "execute_result"
        }
      ],
      "source": [
        "t"
      ]
    },
    {
      "cell_type": "code",
      "execution_count": null,
      "id": "a00177b9",
      "metadata": {
        "id": "a00177b9",
        "outputId": "0bd86555-44d6-420a-dfe1-fe0643e89438"
      },
      "outputs": [
        {
          "data": {
            "text/plain": [
              "(4, 6, 'sudh')"
            ]
          },
          "execution_count": 124,
          "metadata": {},
          "output_type": "execute_result"
        }
      ],
      "source": [
        "t[0:6:2]"
      ]
    },
    {
      "cell_type": "code",
      "execution_count": null,
      "id": "f2ce9d69",
      "metadata": {
        "id": "f2ce9d69",
        "outputId": "43ad62df-c8a8-4e1c-e77d-467231517b2f"
      },
      "outputs": [
        {
          "data": {
            "text/plain": [
              "()"
            ]
          },
          "execution_count": 125,
          "metadata": {},
          "output_type": "execute_result"
        }
      ],
      "source": [
        "t[0:4:-1]"
      ]
    },
    {
      "cell_type": "code",
      "execution_count": null,
      "id": "bae4cfcd",
      "metadata": {
        "id": "bae4cfcd"
      },
      "outputs": [],
      "source": [
        "l = [1,2,3,456,78]"
      ]
    },
    {
      "cell_type": "code",
      "execution_count": null,
      "id": "2e918dea",
      "metadata": {
        "id": "2e918dea"
      },
      "outputs": [],
      "source": [
        "l[2] = \"kumar\""
      ]
    },
    {
      "cell_type": "code",
      "execution_count": null,
      "id": "e3eab494",
      "metadata": {
        "id": "e3eab494",
        "outputId": "93abb615-f159-4cda-9e15-e48ceb87344b"
      },
      "outputs": [
        {
          "data": {
            "text/plain": [
              "[1, 2, 'kumar', 456, 78]"
            ]
          },
          "execution_count": 129,
          "metadata": {},
          "output_type": "execute_result"
        }
      ],
      "source": [
        "l"
      ]
    },
    {
      "cell_type": "code",
      "execution_count": null,
      "id": "1167cccd",
      "metadata": {
        "id": "1167cccd",
        "outputId": "cbb9950a-d681-4065-dc0f-61221652d923"
      },
      "outputs": [
        {
          "data": {
            "text/plain": [
              "(4, 5, 6, 7, 'sudh', 45.67, True)"
            ]
          },
          "execution_count": 130,
          "metadata": {},
          "output_type": "execute_result"
        }
      ],
      "source": [
        "t"
      ]
    },
    {
      "cell_type": "code",
      "execution_count": null,
      "id": "9473ba71",
      "metadata": {
        "id": "9473ba71",
        "outputId": "147f53a3-d602-416a-d9a9-9c50c94e7998"
      },
      "outputs": [
        {
          "ename": "TypeError",
          "evalue": "'tuple' object does not support item assignment",
          "output_type": "error",
          "traceback": [
            "\u001b[1;31m---------------------------------------------------------------------------\u001b[0m",
            "\u001b[1;31mTypeError\u001b[0m                                 Traceback (most recent call last)",
            "\u001b[1;32m~\\AppData\\Local\\Temp/ipykernel_28700/2030672768.py\u001b[0m in \u001b[0;36m<module>\u001b[1;34m\u001b[0m\n\u001b[1;32m----> 1\u001b[1;33m \u001b[0mt\u001b[0m\u001b[1;33m[\u001b[0m\u001b[1;36m2\u001b[0m\u001b[1;33m]\u001b[0m \u001b[1;33m=\u001b[0m \u001b[1;34m\"sudh\"\u001b[0m\u001b[1;33m\u001b[0m\u001b[1;33m\u001b[0m\u001b[0m\n\u001b[0m",
            "\u001b[1;31mTypeError\u001b[0m: 'tuple' object does not support item assignment"
          ]
        }
      ],
      "source": [
        "t[2] = \"sudh\""
      ]
    },
    {
      "cell_type": "code",
      "execution_count": null,
      "id": "9839bd9a",
      "metadata": {
        "id": "9839bd9a"
      },
      "outputs": [],
      "source": [
        "t1 = (3,4,5,6)"
      ]
    },
    {
      "cell_type": "code",
      "execution_count": null,
      "id": "435af40a",
      "metadata": {
        "id": "435af40a",
        "outputId": "1d1b8ae7-40fb-4a41-80fd-899ac0b859fd"
      },
      "outputs": [
        {
          "data": {
            "text/plain": [
              "(4, 5, 6, 7, 'sudh', 45.67, True)"
            ]
          },
          "execution_count": 134,
          "metadata": {},
          "output_type": "execute_result"
        }
      ],
      "source": [
        "t"
      ]
    },
    {
      "cell_type": "code",
      "execution_count": null,
      "id": "297d63ce",
      "metadata": {
        "id": "297d63ce",
        "outputId": "3ee07879-f922-4df9-ffae-8ec37f32ccd5"
      },
      "outputs": [
        {
          "data": {
            "text/plain": [
              "(4, 5, 6, 7, 'sudh', 45.67, True, 3, 4, 5, 6)"
            ]
          },
          "execution_count": 135,
          "metadata": {},
          "output_type": "execute_result"
        }
      ],
      "source": [
        "t +t1"
      ]
    },
    {
      "cell_type": "code",
      "execution_count": null,
      "id": "652e2a70",
      "metadata": {
        "id": "652e2a70",
        "outputId": "bd37fc62-1cb7-401c-c982-d52e29474754"
      },
      "outputs": [
        {
          "data": {
            "text/plain": [
              "0"
            ]
          },
          "execution_count": 136,
          "metadata": {},
          "output_type": "execute_result"
        }
      ],
      "source": [
        "t.count(3)"
      ]
    },
    {
      "cell_type": "code",
      "execution_count": null,
      "id": "79f9ddd9",
      "metadata": {
        "id": "79f9ddd9",
        "outputId": "f60282f6-53f7-4a67-ea33-980e54629fb5"
      },
      "outputs": [
        {
          "data": {
            "text/plain": [
              "1"
            ]
          },
          "execution_count": 138,
          "metadata": {},
          "output_type": "execute_result"
        }
      ],
      "source": [
        "t.count(4)"
      ]
    },
    {
      "cell_type": "code",
      "execution_count": null,
      "id": "7fa78fcb",
      "metadata": {
        "id": "7fa78fcb",
        "outputId": "f3b28691-b7a3-4628-859d-e4fd3c084b96"
      },
      "outputs": [
        {
          "data": {
            "text/plain": [
              "1"
            ]
          },
          "execution_count": 141,
          "metadata": {},
          "output_type": "execute_result"
        }
      ],
      "source": [
        "t.index(5)"
      ]
    },
    {
      "cell_type": "code",
      "execution_count": null,
      "id": "1cb27098",
      "metadata": {
        "id": "1cb27098"
      },
      "outputs": [],
      "source": [
        "t = t+t1"
      ]
    },
    {
      "cell_type": "code",
      "execution_count": null,
      "id": "97631a5a",
      "metadata": {
        "id": "97631a5a",
        "outputId": "68e44491-277e-4326-df9e-2325bf63e2d7"
      },
      "outputs": [
        {
          "data": {
            "text/plain": [
              "(4, 5, 6, 7, 'sudh', 45.67, True, 3, 4, 5, 6)"
            ]
          },
          "execution_count": 140,
          "metadata": {},
          "output_type": "execute_result"
        }
      ],
      "source": [
        "t"
      ]
    },
    {
      "cell_type": "code",
      "execution_count": null,
      "id": "bb941cde",
      "metadata": {
        "id": "bb941cde"
      },
      "outputs": [],
      "source": [
        "t = (3,4,56,7, \"sudh\")"
      ]
    },
    {
      "cell_type": "code",
      "execution_count": null,
      "id": "c067bd42",
      "metadata": {
        "id": "c067bd42"
      },
      "outputs": [],
      "source": [
        "t2 = list(t)"
      ]
    },
    {
      "cell_type": "code",
      "execution_count": null,
      "id": "aad7caf8",
      "metadata": {
        "id": "aad7caf8",
        "outputId": "c1d31e34-b3f0-442f-ec55-879d1dc0a09f"
      },
      "outputs": [
        {
          "data": {
            "text/plain": [
              "[3, 4, 56, 7, 'sudh']"
            ]
          },
          "execution_count": 145,
          "metadata": {},
          "output_type": "execute_result"
        }
      ],
      "source": [
        "t2"
      ]
    },
    {
      "cell_type": "code",
      "execution_count": null,
      "id": "b6f65bb5",
      "metadata": {
        "id": "b6f65bb5",
        "outputId": "6f093462-ba12-4329-ffd6-1eda24dccc41"
      },
      "outputs": [
        {
          "data": {
            "text/plain": [
              "(3, 4, 56, 7, 'sudh')"
            ]
          },
          "execution_count": 146,
          "metadata": {},
          "output_type": "execute_result"
        }
      ],
      "source": [
        "tuple(t2)"
      ]
    },
    {
      "cell_type": "code",
      "execution_count": null,
      "id": "4a8ae1c8",
      "metadata": {
        "id": "4a8ae1c8",
        "outputId": "1796e71a-654d-48ef-8d6c-e59939e58b12"
      },
      "outputs": [
        {
          "data": {
            "text/plain": [
              "\"[3, 4, 56, 7, 'sudh']\""
            ]
          },
          "execution_count": 147,
          "metadata": {},
          "output_type": "execute_result"
        }
      ],
      "source": [
        "str(t2)"
      ]
    },
    {
      "cell_type": "code",
      "execution_count": null,
      "id": "f94734a8",
      "metadata": {
        "id": "f94734a8"
      },
      "outputs": [],
      "source": [
        "d = {}"
      ]
    },
    {
      "cell_type": "code",
      "execution_count": null,
      "id": "ab59b7e6",
      "metadata": {
        "id": "ab59b7e6",
        "outputId": "1f521609-6b6b-4cd9-8608-f08bbefb657b"
      },
      "outputs": [
        {
          "data": {
            "text/plain": [
              "dict"
            ]
          },
          "execution_count": 151,
          "metadata": {},
          "output_type": "execute_result"
        }
      ],
      "source": [
        "type(d)"
      ]
    },
    {
      "cell_type": "code",
      "execution_count": null,
      "id": "91d49265",
      "metadata": {
        "id": "91d49265"
      },
      "outputs": [],
      "source": [
        "d1 = {1}"
      ]
    },
    {
      "cell_type": "code",
      "execution_count": null,
      "id": "bcdb9c91",
      "metadata": {
        "id": "bcdb9c91",
        "outputId": "9f360cf6-5df4-42ec-dfa6-9ba9549612ed"
      },
      "outputs": [
        {
          "data": {
            "text/plain": [
              "set"
            ]
          },
          "execution_count": 153,
          "metadata": {},
          "output_type": "execute_result"
        }
      ],
      "source": [
        "type(d1)"
      ]
    },
    {
      "cell_type": "code",
      "execution_count": null,
      "id": "64f5415c",
      "metadata": {
        "id": "64f5415c"
      },
      "outputs": [],
      "source": [
        "d2 = { 'key1' : \"value\"  , 234 : \"xyz\" , \"name\" : \"sudh\" , \"no\" : 34324345 }"
      ]
    },
    {
      "cell_type": "code",
      "execution_count": null,
      "id": "06836918",
      "metadata": {
        "id": "06836918",
        "outputId": "80d87a09-2655-4664-f4ef-a4d738ed4974"
      },
      "outputs": [
        {
          "data": {
            "text/plain": [
              "dict"
            ]
          },
          "execution_count": 157,
          "metadata": {},
          "output_type": "execute_result"
        }
      ],
      "source": [
        "type(d2)"
      ]
    },
    {
      "cell_type": "code",
      "execution_count": null,
      "id": "c5c796b8",
      "metadata": {
        "id": "c5c796b8",
        "outputId": "6e1efd4a-b88a-41f4-e589-cab0413965c4"
      },
      "outputs": [
        {
          "data": {
            "text/plain": [
              "'sudh'"
            ]
          },
          "execution_count": 158,
          "metadata": {},
          "output_type": "execute_result"
        }
      ],
      "source": [
        "d2['name']"
      ]
    },
    {
      "cell_type": "code",
      "execution_count": null,
      "id": "5a5e8f3f",
      "metadata": {
        "id": "5a5e8f3f",
        "outputId": "ca514e3f-f534-4c29-c129-f828965432bb"
      },
      "outputs": [
        {
          "data": {
            "text/plain": [
              "34324345"
            ]
          },
          "execution_count": 159,
          "metadata": {},
          "output_type": "execute_result"
        }
      ],
      "source": [
        "d2['no']"
      ]
    },
    {
      "cell_type": "code",
      "execution_count": null,
      "id": "cacf47c4",
      "metadata": {
        "id": "cacf47c4"
      },
      "outputs": [],
      "source": [
        "d3 = {'name': \"sudh\" , 'tech' :[\"python\" , \"ML\" , \"DL\" , \"NLP\",\"CV\" , \"Big data\" , \"data analytics\"]}"
      ]
    },
    {
      "cell_type": "code",
      "execution_count": null,
      "id": "4f178d36",
      "metadata": {
        "id": "4f178d36",
        "outputId": "5850a548-644c-415b-c5d5-88eede7ce1b1"
      },
      "outputs": [
        {
          "data": {
            "text/plain": [
              "{'name': 'sudh',\n",
              " 'tech': ['python', 'ML', 'DL', 'NLP', 'CV', 'Big data', 'data analytics']}"
            ]
          },
          "execution_count": 161,
          "metadata": {},
          "output_type": "execute_result"
        }
      ],
      "source": [
        "d3"
      ]
    },
    {
      "cell_type": "code",
      "execution_count": null,
      "id": "568e6fb3",
      "metadata": {
        "id": "568e6fb3",
        "outputId": "2ff0156c-2e18-43a9-d580-844364e80262"
      },
      "outputs": [
        {
          "data": {
            "text/plain": [
              "True"
            ]
          },
          "execution_count": 164,
          "metadata": {},
          "output_type": "execute_result"
        }
      ],
      "source": [
        "\"python\" in d3['tech']"
      ]
    },
    {
      "cell_type": "code",
      "execution_count": null,
      "id": "58048098",
      "metadata": {
        "id": "58048098"
      },
      "outputs": [],
      "source": [
        "d4 = {\"name\" :\"iNeuron\" , \"contact_info\" : 345345 , \"name\":\"sudh\"}"
      ]
    },
    {
      "cell_type": "code",
      "execution_count": null,
      "id": "4798b515",
      "metadata": {
        "id": "4798b515",
        "outputId": "e1878552-be95-4b27-d625-a9902ee6f907"
      },
      "outputs": [
        {
          "data": {
            "text/plain": [
              "{'name': 'sudh', 'contact_info': 345345}"
            ]
          },
          "execution_count": 166,
          "metadata": {},
          "output_type": "execute_result"
        }
      ],
      "source": [
        "d4"
      ]
    },
    {
      "cell_type": "code",
      "execution_count": null,
      "id": "8de717f3",
      "metadata": {
        "id": "8de717f3"
      },
      "outputs": [],
      "source": [
        "d4[\"name1\"] = \"xyz\""
      ]
    },
    {
      "cell_type": "code",
      "execution_count": null,
      "id": "18345078",
      "metadata": {
        "id": "18345078",
        "outputId": "8cbb579c-a90b-4ed3-a73b-a32e653c18e1"
      },
      "outputs": [
        {
          "data": {
            "text/plain": [
              "{'name': 'xyz', 'contact_info': 345345, 'k1': 'xyz', 'name1': 'xyz'}"
            ]
          },
          "execution_count": 172,
          "metadata": {},
          "output_type": "execute_result"
        }
      ],
      "source": [
        "d4"
      ]
    },
    {
      "cell_type": "code",
      "execution_count": null,
      "id": "6dafbc0e",
      "metadata": {
        "id": "6dafbc0e"
      },
      "outputs": [],
      "source": [
        "d4['k2'] = d2"
      ]
    },
    {
      "cell_type": "code",
      "execution_count": null,
      "id": "78e6782e",
      "metadata": {
        "id": "78e6782e",
        "outputId": "565ce5e8-bb65-432e-dcc1-98c0e28b6a6a"
      },
      "outputs": [
        {
          "data": {
            "text/plain": [
              "{'key1': 'value', 234: 'xyz', 'name': 'sudh', 'no': 34324345}"
            ]
          },
          "execution_count": 173,
          "metadata": {},
          "output_type": "execute_result"
        }
      ],
      "source": [
        "d2"
      ]
    },
    {
      "cell_type": "code",
      "execution_count": null,
      "id": "9d72711b",
      "metadata": {
        "id": "9d72711b",
        "outputId": "6ebab934-4b4b-4cfe-f107-57675281db03"
      },
      "outputs": [
        {
          "data": {
            "text/plain": [
              "{'name': 'xyz',\n",
              " 'contact_info': 345345,\n",
              " 'k1': 'xyz',\n",
              " 'name1': 'xyz',\n",
              " 'k2': {'key1': 'value', 234: 'xyz', 'name': 'sudh', 'no': 34324345}}"
            ]
          },
          "execution_count": 175,
          "metadata": {},
          "output_type": "execute_result"
        }
      ],
      "source": [
        "d4"
      ]
    },
    {
      "cell_type": "code",
      "execution_count": null,
      "id": "d533f35f",
      "metadata": {
        "id": "d533f35f",
        "outputId": "b2ff85f5-1629-40df-96a4-ef7f23061852"
      },
      "outputs": [
        {
          "data": {
            "text/plain": [
              "34324345"
            ]
          },
          "execution_count": 177,
          "metadata": {},
          "output_type": "execute_result"
        }
      ],
      "source": [
        "d4['k2']['no']"
      ]
    },
    {
      "cell_type": "code",
      "execution_count": null,
      "id": "6d5c805b",
      "metadata": {
        "id": "6d5c805b"
      },
      "outputs": [],
      "source": [
        "d5 = {_: \"sdfsd\"}"
      ]
    },
    {
      "cell_type": "code",
      "execution_count": null,
      "id": "142487c7",
      "metadata": {
        "id": "142487c7",
        "outputId": "4ed4a034-136e-454a-adee-bb00a82d7b8d"
      },
      "outputs": [
        {
          "data": {
            "text/plain": [
              "'sdfsd'"
            ]
          },
          "execution_count": 180,
          "metadata": {},
          "output_type": "execute_result"
        }
      ],
      "source": [
        "d5[_]"
      ]
    },
    {
      "cell_type": "code",
      "execution_count": null,
      "id": "31fb366d",
      "metadata": {
        "id": "31fb366d"
      },
      "outputs": [],
      "source": [
        "d6 = {(1,2,34) : \"fsdfs\"}"
      ]
    },
    {
      "cell_type": "code",
      "execution_count": null,
      "id": "f271ffa3",
      "metadata": {
        "id": "f271ffa3",
        "outputId": "f6b69b50-12d5-430b-bb7e-5844e53c8e02"
      },
      "outputs": [
        {
          "data": {
            "text/plain": [
              "'fsdfs'"
            ]
          },
          "execution_count": 182,
          "metadata": {},
          "output_type": "execute_result"
        }
      ],
      "source": [
        "d6[(1,2,34)]"
      ]
    },
    {
      "cell_type": "code",
      "execution_count": null,
      "id": "12d88c93",
      "metadata": {
        "id": "12d88c93",
        "outputId": "f33d2ed6-b9d5-4358-8a3f-4f486644b334"
      },
      "outputs": [
        {
          "ename": "TypeError",
          "evalue": "unhashable type: 'list'",
          "output_type": "error",
          "traceback": [
            "\u001b[1;31m---------------------------------------------------------------------------\u001b[0m",
            "\u001b[1;31mTypeError\u001b[0m                                 Traceback (most recent call last)",
            "\u001b[1;32m~\\AppData\\Local\\Temp/ipykernel_28700/3610375228.py\u001b[0m in \u001b[0;36m<module>\u001b[1;34m\u001b[0m\n\u001b[1;32m----> 1\u001b[1;33m \u001b[0md7\u001b[0m \u001b[1;33m=\u001b[0m \u001b[1;33m{\u001b[0m\u001b[1;33m[\u001b[0m\u001b[1;36m1\u001b[0m\u001b[1;33m,\u001b[0m\u001b[1;36m2\u001b[0m\u001b[1;33m,\u001b[0m\u001b[1;36m3\u001b[0m\u001b[1;33m,\u001b[0m\u001b[1;36m4\u001b[0m\u001b[1;33m]\u001b[0m \u001b[1;33m:\u001b[0m \u001b[1;34m\"fasdfasfas\"\u001b[0m\u001b[1;33m}\u001b[0m\u001b[1;33m\u001b[0m\u001b[1;33m\u001b[0m\u001b[0m\n\u001b[0m",
            "\u001b[1;31mTypeError\u001b[0m: unhashable type: 'list'"
          ]
        }
      ],
      "source": [
        "d7 = {[1,2,3,4] : \"fasdfasfas\"}"
      ]
    },
    {
      "cell_type": "code",
      "execution_count": null,
      "id": "104ede11",
      "metadata": {
        "id": "104ede11",
        "outputId": "10ba82af-8900-4cac-a1d6-e0550a3d2e48"
      },
      "outputs": [
        {
          "ename": "TypeError",
          "evalue": "unhashable type: 'dict'",
          "output_type": "error",
          "traceback": [
            "\u001b[1;31m---------------------------------------------------------------------------\u001b[0m",
            "\u001b[1;31mTypeError\u001b[0m                                 Traceback (most recent call last)",
            "\u001b[1;32m~\\AppData\\Local\\Temp/ipykernel_28700/2992907961.py\u001b[0m in \u001b[0;36m<module>\u001b[1;34m\u001b[0m\n\u001b[1;32m----> 1\u001b[1;33m \u001b[0md8\u001b[0m \u001b[1;33m=\u001b[0m \u001b[1;33m{\u001b[0m\u001b[1;33m{\u001b[0m\u001b[1;36m3\u001b[0m\u001b[1;33m:\u001b[0m\u001b[1;36m4\u001b[0m\u001b[1;33m}\u001b[0m \u001b[1;33m:\u001b[0m \u001b[1;34m\"fsdfs\"\u001b[0m\u001b[1;33m}\u001b[0m\u001b[1;33m\u001b[0m\u001b[1;33m\u001b[0m\u001b[0m\n\u001b[0m",
            "\u001b[1;31mTypeError\u001b[0m: unhashable type: 'dict'"
          ]
        }
      ],
      "source": [
        "d8 = {{3:4} : \"fsdfs\"}"
      ]
    },
    {
      "cell_type": "code",
      "execution_count": null,
      "id": "8c830654",
      "metadata": {
        "id": "8c830654",
        "outputId": "aff74c8d-073c-40a5-95ce-2fd4bf09b652"
      },
      "outputs": [
        {
          "data": {
            "text/plain": [
              "{'key1': 'value', 234: 'xyz', 'name': 'sudh', 'no': 34324345}"
            ]
          },
          "execution_count": 186,
          "metadata": {},
          "output_type": "execute_result"
        }
      ],
      "source": [
        "d2"
      ]
    },
    {
      "cell_type": "code",
      "execution_count": null,
      "id": "8e4d10b2",
      "metadata": {
        "id": "8e4d10b2",
        "outputId": "f211330c-5d07-4839-fe67-4c0162d25dd7"
      },
      "outputs": [
        {
          "data": {
            "text/plain": [
              "{'key1': 'value', 234: 'xyz', 'name': 'sudh', 'no': 34324345}"
            ]
          },
          "execution_count": 187,
          "metadata": {},
          "output_type": "execute_result"
        }
      ],
      "source": [
        "d2"
      ]
    },
    {
      "cell_type": "code",
      "execution_count": null,
      "id": "ffe45689",
      "metadata": {
        "id": "ffe45689",
        "outputId": "d70707aa-b2c5-4bd4-d284-6b2f3a223bd1"
      },
      "outputs": [
        {
          "data": {
            "text/plain": [
              "{'name': 'sudh',\n",
              " 'tech': ['python', 'ML', 'DL', 'NLP', 'CV', 'Big data', 'data analytics']}"
            ]
          },
          "execution_count": 188,
          "metadata": {},
          "output_type": "execute_result"
        }
      ],
      "source": [
        "d3"
      ]
    },
    {
      "cell_type": "code",
      "execution_count": null,
      "id": "91d8669f",
      "metadata": {
        "id": "91d8669f",
        "outputId": "21d1a3f1-c591-4084-c231-ff482add7222"
      },
      "outputs": [
        {
          "ename": "TypeError",
          "evalue": "unsupported operand type(s) for +: 'dict' and 'dict'",
          "output_type": "error",
          "traceback": [
            "\u001b[1;31m---------------------------------------------------------------------------\u001b[0m",
            "\u001b[1;31mTypeError\u001b[0m                                 Traceback (most recent call last)",
            "\u001b[1;32m~\\AppData\\Local\\Temp/ipykernel_28700/1153330958.py\u001b[0m in \u001b[0;36m<module>\u001b[1;34m\u001b[0m\n\u001b[1;32m----> 1\u001b[1;33m \u001b[0md2\u001b[0m \u001b[1;33m+\u001b[0m\u001b[0md3\u001b[0m\u001b[1;33m\u001b[0m\u001b[1;33m\u001b[0m\u001b[0m\n\u001b[0m",
            "\u001b[1;31mTypeError\u001b[0m: unsupported operand type(s) for +: 'dict' and 'dict'"
          ]
        }
      ],
      "source": [
        "d2 +d3"
      ]
    },
    {
      "cell_type": "code",
      "execution_count": null,
      "id": "578323f7",
      "metadata": {
        "id": "578323f7",
        "outputId": "4c5829a4-9fc2-485f-ddca-0fee4c2d7955"
      },
      "outputs": [
        {
          "data": {
            "text/plain": [
              "{'key1': 'value', 234: 'xyz', 'name': 'sudh', 'no': 34324345}"
            ]
          },
          "execution_count": 190,
          "metadata": {},
          "output_type": "execute_result"
        }
      ],
      "source": [
        "d2"
      ]
    },
    {
      "cell_type": "code",
      "execution_count": null,
      "id": "106267a3",
      "metadata": {
        "id": "106267a3",
        "outputId": "8b332e8a-de87-4a6f-a306-4713621a7460"
      },
      "outputs": [
        {
          "data": {
            "text/plain": [
              "dict_keys(['key1', 234, 'name', 'no'])"
            ]
          },
          "execution_count": 192,
          "metadata": {},
          "output_type": "execute_result"
        }
      ],
      "source": [
        "d2.keys()"
      ]
    },
    {
      "cell_type": "code",
      "execution_count": null,
      "id": "27a9df33",
      "metadata": {
        "id": "27a9df33",
        "outputId": "4148710a-f6a4-4839-c87d-9420e1fe5387"
      },
      "outputs": [
        {
          "data": {
            "text/plain": [
              "dict_values(['value', 'xyz', 'sudh', 34324345])"
            ]
          },
          "execution_count": 193,
          "metadata": {},
          "output_type": "execute_result"
        }
      ],
      "source": [
        "d2.values()"
      ]
    },
    {
      "cell_type": "code",
      "execution_count": null,
      "id": "7e55f5cc",
      "metadata": {
        "id": "7e55f5cc",
        "outputId": "0af0748b-9913-4919-be89-0d87b2ccaf39"
      },
      "outputs": [
        {
          "data": {
            "text/plain": [
              "dict_items([('key1', 'value'), (234, 'xyz'), ('name', 'sudh'), ('no', 34324345)])"
            ]
          },
          "execution_count": 194,
          "metadata": {},
          "output_type": "execute_result"
        }
      ],
      "source": [
        "d2.items()"
      ]
    },
    {
      "cell_type": "code",
      "execution_count": null,
      "id": "5e99acaf",
      "metadata": {
        "id": "5e99acaf"
      },
      "outputs": [],
      "source": [
        "s = {3,4,5,6,7,8}"
      ]
    },
    {
      "cell_type": "code",
      "execution_count": null,
      "id": "e4a109b4",
      "metadata": {
        "id": "e4a109b4",
        "outputId": "cb4feeea-b5d4-480e-f8c9-675b1e8c12e3"
      },
      "outputs": [
        {
          "data": {
            "text/plain": [
              "set"
            ]
          },
          "execution_count": 196,
          "metadata": {},
          "output_type": "execute_result"
        }
      ],
      "source": [
        "type(s)"
      ]
    },
    {
      "cell_type": "code",
      "execution_count": null,
      "id": "f458842a",
      "metadata": {
        "id": "f458842a"
      },
      "outputs": [],
      "source": [
        "s1 = {3,4,4,5,6,6,7,7,8,8,9,9,0,0,0}"
      ]
    },
    {
      "cell_type": "code",
      "execution_count": null,
      "id": "bade3af3",
      "metadata": {
        "id": "bade3af3",
        "outputId": "f0dea2a9-6f67-445f-c50a-d275722b2b02"
      },
      "outputs": [
        {
          "data": {
            "text/plain": [
              "{0, 3, 4, 5, 6, 7, 8, 9}"
            ]
          },
          "execution_count": 198,
          "metadata": {},
          "output_type": "execute_result"
        }
      ],
      "source": [
        "s1"
      ]
    },
    {
      "cell_type": "code",
      "execution_count": null,
      "id": "6b5d0bcb",
      "metadata": {
        "id": "6b5d0bcb"
      },
      "outputs": [],
      "source": [
        "s2 = { 3245,4545,6456,5645,675,6234,345}"
      ]
    },
    {
      "cell_type": "code",
      "execution_count": null,
      "id": "1e28b01a",
      "metadata": {
        "id": "1e28b01a",
        "outputId": "12e2af37-133d-4a42-c9f0-226422a541cf"
      },
      "outputs": [
        {
          "data": {
            "text/plain": [
              "{345, 675, 3245, 4545, 5645, 6234, 6456}"
            ]
          },
          "execution_count": 201,
          "metadata": {},
          "output_type": "execute_result"
        }
      ],
      "source": [
        "s2"
      ]
    },
    {
      "cell_type": "code",
      "execution_count": null,
      "id": "29073bac",
      "metadata": {
        "id": "29073bac"
      },
      "outputs": [],
      "source": [
        "s3 = {\"sudh\" , 324,34,12,645,12,5,'b' , '6'}"
      ]
    },
    {
      "cell_type": "code",
      "execution_count": null,
      "id": "82b7b14f",
      "metadata": {
        "id": "82b7b14f",
        "outputId": "f33fc4e2-6bfa-4699-c9c8-05881d3ffa5c"
      },
      "outputs": [
        {
          "data": {
            "text/plain": [
              "{12, 324, 34, 5, '6', 645, 'b', 'sudh'}"
            ]
          },
          "execution_count": 203,
          "metadata": {},
          "output_type": "execute_result"
        }
      ],
      "source": [
        "s3"
      ]
    },
    {
      "cell_type": "code",
      "execution_count": null,
      "id": "cb028d0d",
      "metadata": {
        "id": "cb028d0d",
        "outputId": "155b7004-a623-4e6f-8c63-c5749e9ebabf"
      },
      "outputs": [
        {
          "ename": "TypeError",
          "evalue": "'set' object is not subscriptable",
          "output_type": "error",
          "traceback": [
            "\u001b[1;31m---------------------------------------------------------------------------\u001b[0m",
            "\u001b[1;31mTypeError\u001b[0m                                 Traceback (most recent call last)",
            "\u001b[1;32m~\\AppData\\Local\\Temp/ipykernel_28700/397937684.py\u001b[0m in \u001b[0;36m<module>\u001b[1;34m\u001b[0m\n\u001b[1;32m----> 1\u001b[1;33m \u001b[0ms3\u001b[0m\u001b[1;33m[\u001b[0m\u001b[1;36m0\u001b[0m\u001b[1;33m]\u001b[0m\u001b[1;33m\u001b[0m\u001b[1;33m\u001b[0m\u001b[0m\n\u001b[0m",
            "\u001b[1;31mTypeError\u001b[0m: 'set' object is not subscriptable"
          ]
        }
      ],
      "source": [
        "s3[0]"
      ]
    },
    {
      "cell_type": "code",
      "execution_count": null,
      "id": "77f5a2db",
      "metadata": {
        "id": "77f5a2db",
        "outputId": "510856ad-379d-4309-d5ee-41399a0dcb3e"
      },
      "outputs": [
        {
          "data": {
            "text/plain": [
              "['b', 34, 324, 5, 645, '6', 'sudh', 12]"
            ]
          },
          "execution_count": 205,
          "metadata": {},
          "output_type": "execute_result"
        }
      ],
      "source": [
        "list(s3)"
      ]
    },
    {
      "cell_type": "code",
      "execution_count": null,
      "id": "763168c1",
      "metadata": {
        "id": "763168c1",
        "outputId": "ab3d5b26-a9e3-4368-bc46-a712802108b6"
      },
      "outputs": [
        {
          "data": {
            "text/plain": [
              "('b', 34, 324, 5, 645, '6', 'sudh', 12)"
            ]
          },
          "execution_count": 206,
          "metadata": {},
          "output_type": "execute_result"
        }
      ],
      "source": [
        "tuple(s3)"
      ]
    },
    {
      "cell_type": "code",
      "execution_count": null,
      "id": "397aad48",
      "metadata": {
        "id": "397aad48"
      },
      "outputs": [],
      "source": [
        " l = [2,3,4,5656,7,6,7,7,7,77,7,7,7,7,7,7,7,7,7,7,7,7,7,7,7,7]"
      ]
    },
    {
      "cell_type": "code",
      "execution_count": null,
      "id": "765debb1",
      "metadata": {
        "id": "765debb1"
      },
      "outputs": [],
      "source": [
        "l = list(set(l))"
      ]
    },
    {
      "cell_type": "code",
      "execution_count": null,
      "id": "e7fe1064",
      "metadata": {
        "id": "e7fe1064",
        "outputId": "58516af1-4398-45ed-e35c-8f088a0f3900"
      },
      "outputs": [
        {
          "data": {
            "text/plain": [
              "[2, 3, 4, 6, 7, 77, 5656]"
            ]
          },
          "execution_count": 210,
          "metadata": {},
          "output_type": "execute_result"
        }
      ],
      "source": [
        "l"
      ]
    },
    {
      "cell_type": "code",
      "execution_count": null,
      "id": "d9ed309c",
      "metadata": {
        "id": "d9ed309c",
        "outputId": "6e4f49b0-0501-4bf6-e1cc-9d2d08bd9136"
      },
      "outputs": [
        {
          "data": {
            "text/plain": [
              "{345, 675, 3245, 4545, 5645, 6234, 6456}"
            ]
          },
          "execution_count": 211,
          "metadata": {},
          "output_type": "execute_result"
        }
      ],
      "source": [
        "s2"
      ]
    },
    {
      "cell_type": "code",
      "execution_count": null,
      "id": "08082aff",
      "metadata": {
        "id": "08082aff"
      },
      "outputs": [],
      "source": [
        "s2.add(34)"
      ]
    },
    {
      "cell_type": "code",
      "execution_count": null,
      "id": "01783c98",
      "metadata": {
        "id": "01783c98",
        "outputId": "7db193fd-968b-4b92-a3e7-22da6029b54c"
      },
      "outputs": [
        {
          "data": {
            "text/plain": [
              "{34, 345, 675, 3245, 4545, 5645, 6234, 6456}"
            ]
          },
          "execution_count": 213,
          "metadata": {},
          "output_type": "execute_result"
        }
      ],
      "source": [
        "s2"
      ]
    },
    {
      "cell_type": "code",
      "execution_count": null,
      "id": "67f99607",
      "metadata": {
        "id": "67f99607",
        "outputId": "7957862e-1b0a-46dd-93f3-f1e91804392b"
      },
      "outputs": [
        {
          "ename": "TypeError",
          "evalue": "unhashable type: 'list'",
          "output_type": "error",
          "traceback": [
            "\u001b[1;31m---------------------------------------------------------------------------\u001b[0m",
            "\u001b[1;31mTypeError\u001b[0m                                 Traceback (most recent call last)",
            "\u001b[1;32m~\\AppData\\Local\\Temp/ipykernel_28700/1499940319.py\u001b[0m in \u001b[0;36m<module>\u001b[1;34m\u001b[0m\n\u001b[1;32m----> 1\u001b[1;33m \u001b[0ms2\u001b[0m\u001b[1;33m.\u001b[0m\u001b[0madd\u001b[0m\u001b[1;33m(\u001b[0m\u001b[1;33m[\u001b[0m\u001b[1;36m1\u001b[0m\u001b[1;33m,\u001b[0m\u001b[1;36m2\u001b[0m\u001b[1;33m,\u001b[0m\u001b[1;36m3\u001b[0m\u001b[1;33m,\u001b[0m\u001b[1;36m4\u001b[0m\u001b[1;33m,\u001b[0m\u001b[1;36m5\u001b[0m\u001b[1;33m]\u001b[0m\u001b[1;33m)\u001b[0m\u001b[1;33m\u001b[0m\u001b[1;33m\u001b[0m\u001b[0m\n\u001b[0m",
            "\u001b[1;31mTypeError\u001b[0m: unhashable type: 'list'"
          ]
        }
      ],
      "source": [
        "s2.add([1,2,3,4,5])"
      ]
    },
    {
      "cell_type": "code",
      "execution_count": null,
      "id": "5cb18521",
      "metadata": {
        "id": "5cb18521"
      },
      "outputs": [],
      "source": [
        "s = {(1,2,3,4,5) , 3,4,45,65,6}"
      ]
    },
    {
      "cell_type": "code",
      "execution_count": null,
      "id": "6f89af80",
      "metadata": {
        "id": "6f89af80",
        "outputId": "cdeb286d-4f8e-4b77-ff9f-8edda2e2370d"
      },
      "outputs": [
        {
          "data": {
            "text/plain": [
              "{(1, 2, 3, 4, 5), 3, 4, 45, 6, 65}"
            ]
          },
          "execution_count": 216,
          "metadata": {},
          "output_type": "execute_result"
        }
      ],
      "source": [
        "s"
      ]
    },
    {
      "cell_type": "code",
      "execution_count": null,
      "id": "6605f9c0",
      "metadata": {
        "id": "6605f9c0",
        "outputId": "bdca8349-32a7-4813-a263-ec377d819995"
      },
      "outputs": [
        {
          "ename": "TypeError",
          "evalue": "unhashable type: 'list'",
          "output_type": "error",
          "traceback": [
            "\u001b[1;31m---------------------------------------------------------------------------\u001b[0m",
            "\u001b[1;31mTypeError\u001b[0m                                 Traceback (most recent call last)",
            "\u001b[1;32m~\\AppData\\Local\\Temp/ipykernel_28700/1121764547.py\u001b[0m in \u001b[0;36m<module>\u001b[1;34m\u001b[0m\n\u001b[1;32m----> 1\u001b[1;33m \u001b[0ms1\u001b[0m \u001b[1;33m=\u001b[0m \u001b[1;33m{\u001b[0m\u001b[1;33m[\u001b[0m\u001b[1;36m1\u001b[0m\u001b[1;33m,\u001b[0m\u001b[1;36m2\u001b[0m\u001b[1;33m,\u001b[0m\u001b[1;36m3\u001b[0m\u001b[1;33m,\u001b[0m\u001b[1;36m4\u001b[0m\u001b[1;33m]\u001b[0m \u001b[1;33m,\u001b[0m \u001b[1;36m345\u001b[0m \u001b[1;33m,\u001b[0m\u001b[1;36m345\u001b[0m\u001b[1;33m}\u001b[0m\u001b[1;33m\u001b[0m\u001b[1;33m\u001b[0m\u001b[0m\n\u001b[0m",
            "\u001b[1;31mTypeError\u001b[0m: unhashable type: 'list'"
          ]
        }
      ],
      "source": [
        "s1 = {[1,2,3,4] , 345 ,345}"
      ]
    },
    {
      "cell_type": "code",
      "execution_count": null,
      "id": "a7486de5",
      "metadata": {
        "id": "a7486de5",
        "outputId": "370cb16a-52c4-416c-ee6b-f41d3dcb88db"
      },
      "outputs": [
        {
          "data": {
            "text/plain": [
              "{(1, 2, 3, 4, 5), 3, 4, 45, 6, 65}"
            ]
          },
          "execution_count": 218,
          "metadata": {},
          "output_type": "execute_result"
        }
      ],
      "source": [
        "s"
      ]
    },
    {
      "cell_type": "code",
      "execution_count": null,
      "id": "6b80fb6c",
      "metadata": {
        "id": "6b80fb6c",
        "outputId": "5bc3cc67-a4bd-4e73-9d9c-a9203e47e613"
      },
      "outputs": [
        {
          "ename": "KeyError",
          "evalue": "35345",
          "output_type": "error",
          "traceback": [
            "\u001b[1;31m---------------------------------------------------------------------------\u001b[0m",
            "\u001b[1;31mKeyError\u001b[0m                                  Traceback (most recent call last)",
            "\u001b[1;32m~\\AppData\\Local\\Temp/ipykernel_28700/3668842940.py\u001b[0m in \u001b[0;36m<module>\u001b[1;34m\u001b[0m\n\u001b[1;32m----> 1\u001b[1;33m \u001b[0ms\u001b[0m\u001b[1;33m.\u001b[0m\u001b[0mremove\u001b[0m\u001b[1;33m(\u001b[0m\u001b[1;36m35345\u001b[0m\u001b[1;33m)\u001b[0m\u001b[1;33m\u001b[0m\u001b[1;33m\u001b[0m\u001b[0m\n\u001b[0m",
            "\u001b[1;31mKeyError\u001b[0m: 35345"
          ]
        }
      ],
      "source": [
        "s.remove(35345)"
      ]
    },
    {
      "cell_type": "code",
      "execution_count": null,
      "id": "1cfdf0d1",
      "metadata": {
        "id": "1cfdf0d1",
        "outputId": "2e6ff057-f236-4ace-8b2f-98266049c637"
      },
      "outputs": [
        {
          "data": {
            "text/plain": [
              "{(1, 2, 3, 4, 5), 4, 45, 6, 65}"
            ]
          },
          "execution_count": 220,
          "metadata": {},
          "output_type": "execute_result"
        }
      ],
      "source": [
        "s"
      ]
    },
    {
      "cell_type": "code",
      "execution_count": null,
      "id": "5f422bcf",
      "metadata": {
        "id": "5f422bcf"
      },
      "outputs": [],
      "source": [
        "s.discard(3452646)"
      ]
    },
    {
      "cell_type": "code",
      "execution_count": null,
      "id": "58d36049",
      "metadata": {
        "id": "58d36049",
        "outputId": "91866f2e-9b49-47c8-d658-9a1577940d11"
      },
      "outputs": [
        {
          "data": {
            "text/plain": [
              "65"
            ]
          },
          "execution_count": 226,
          "metadata": {},
          "output_type": "execute_result"
        }
      ],
      "source": [
        "s.pop()"
      ]
    },
    {
      "cell_type": "code",
      "execution_count": null,
      "id": "97be1482",
      "metadata": {
        "id": "97be1482",
        "outputId": "011e6864-4d80-47ef-e62d-4fbeefcd9cfd"
      },
      "outputs": [
        {
          "data": {
            "text/plain": [
              "{(1, 2, 3, 4, 5), 45, 6}"
            ]
          },
          "execution_count": 227,
          "metadata": {},
          "output_type": "execute_result"
        }
      ],
      "source": [
        "s"
      ]
    },
    {
      "cell_type": "code",
      "execution_count": null,
      "id": "b313243a",
      "metadata": {
        "id": "b313243a",
        "outputId": "e3644cec-e7bc-418f-ec81-36a78dd6a69d"
      },
      "outputs": [
        {
          "data": {
            "text/plain": [
              "set"
            ]
          },
          "execution_count": 228,
          "metadata": {},
          "output_type": "execute_result"
        }
      ],
      "source": [
        "type(s)"
      ]
    },
    {
      "cell_type": "code",
      "execution_count": null,
      "id": "58558c61",
      "metadata": {
        "id": "58558c61"
      },
      "outputs": [],
      "source": [
        "l = list(s)"
      ]
    },
    {
      "cell_type": "code",
      "execution_count": null,
      "id": "4ebbf5eb",
      "metadata": {
        "id": "4ebbf5eb",
        "outputId": "e3286830-d279-4a9d-9cad-9566395987fc"
      },
      "outputs": [
        {
          "data": {
            "text/plain": [
              "[6, (1, 2, 3, 4, 5), 45]"
            ]
          },
          "execution_count": 231,
          "metadata": {},
          "output_type": "execute_result"
        }
      ],
      "source": [
        "l"
      ]
    },
    {
      "cell_type": "code",
      "execution_count": null,
      "id": "7d81401f",
      "metadata": {
        "id": "7d81401f",
        "outputId": "8cdab5b6-7365-49bf-e9f7-cd896df77fcc"
      },
      "outputs": [
        {
          "data": {
            "text/plain": [
              "{(1, 2, 3, 4, 5), 45, 6}"
            ]
          },
          "execution_count": 232,
          "metadata": {},
          "output_type": "execute_result"
        }
      ],
      "source": [
        "set(l)"
      ]
    },
    {
      "cell_type": "code",
      "execution_count": null,
      "id": "93463c95",
      "metadata": {
        "id": "93463c95"
      },
      "outputs": [],
      "source": []
    },
    {
      "cell_type": "code",
      "execution_count": null,
      "id": "97f2fe7e",
      "metadata": {
        "id": "97f2fe7e"
      },
      "outputs": [],
      "source": [
        "str\n",
        "list \n",
        "tuple\n",
        "dict\n",
        "set"
      ]
    },
    {
      "cell_type": "code",
      "execution_count": null,
      "id": "a4c3b614",
      "metadata": {
        "id": "a4c3b614",
        "outputId": "513ada68-e30a-41ba-db83-7ff33d6288a2"
      },
      "outputs": [
        {
          "data": {
            "text/plain": [
              "{'key1': 'value', 234: 'xyz', 'name': 'sudh', 'no': 34324345}"
            ]
          },
          "execution_count": 234,
          "metadata": {},
          "output_type": "execute_result"
        }
      ],
      "source": [
        "d2"
      ]
    },
    {
      "cell_type": "code",
      "execution_count": null,
      "id": "64e6705d",
      "metadata": {
        "id": "64e6705d"
      },
      "outputs": [],
      "source": [
        "d2[\"key4\"] = \"sdfsf\""
      ]
    },
    {
      "cell_type": "code",
      "execution_count": null,
      "id": "68cd3b00",
      "metadata": {
        "id": "68cd3b00",
        "outputId": "29ee246e-6d44-4e91-f84a-67b7639fb58c"
      },
      "outputs": [
        {
          "data": {
            "text/plain": [
              "{'key1': 'value', 234: 'xyz', 'name': 'sudh', 'no': 34324345, 'key4': 'sdfsf'}"
            ]
          },
          "execution_count": 236,
          "metadata": {},
          "output_type": "execute_result"
        }
      ],
      "source": [
        "d2"
      ]
    },
    {
      "cell_type": "code",
      "execution_count": null,
      "id": "560d9678",
      "metadata": {
        "id": "560d9678"
      },
      "outputs": [],
      "source": [
        "d2[\"key1\"]  = \"ineuron\""
      ]
    },
    {
      "cell_type": "code",
      "execution_count": null,
      "id": "9fbd13e1",
      "metadata": {
        "id": "9fbd13e1",
        "outputId": "e81f5bb1-408b-481b-af2b-95ce16b08b7e"
      },
      "outputs": [
        {
          "data": {
            "text/plain": [
              "{'key1': 'ineuron',\n",
              " 234: 'xyz',\n",
              " 'name': 'sudh',\n",
              " 'no': 34324345,\n",
              " 'key4': 'sdfsf'}"
            ]
          },
          "execution_count": 238,
          "metadata": {},
          "output_type": "execute_result"
        }
      ],
      "source": [
        "d2"
      ]
    },
    {
      "cell_type": "code",
      "execution_count": null,
      "id": "2f69f179",
      "metadata": {
        "id": "2f69f179"
      },
      "outputs": [],
      "source": [
        "l3.sort(reverse=True) \n"
      ]
    },
    {
      "cell_type": "code",
      "execution_count": null,
      "id": "d6a0cee8",
      "metadata": {
        "id": "d6a0cee8",
        "outputId": "ca10dcbd-1106-4964-c2d0-38cc37926694"
      },
      "outputs": [
        {
          "data": {
            "text/plain": [
              "[9, 8, 7]"
            ]
          },
          "execution_count": 240,
          "metadata": {},
          "output_type": "execute_result"
        }
      ],
      "source": [
        "l3"
      ]
    },
    {
      "cell_type": "code",
      "execution_count": null,
      "id": "7f943f23",
      "metadata": {
        "id": "7f943f23"
      },
      "outputs": [],
      "source": [
        "#Questions \n",
        "\n",
        "l = [3,4,5,6,7 , [23,456,67,8,78,78] , [345,56,87,8,98,9] , (234,6657,6) , {\"key1\" :\"sudh\" , 234:[23,45,656]}]\n",
        "1 . Try to reverse a list \n",
        "2. try to access 234 out of this list \n",
        "3 . try to access 456 \n",
        "4 . Try to extract only a list collection form list l \n",
        "5 . Try to extract \"sudh\"\n",
        "6 . Try to list all the key in dict element avaible in list \n",
        "7 . Try to extract all the value element form dict available in list "
      ]
    },
    {
      "cell_type": "code",
      "execution_count": null,
      "id": "9200213c",
      "metadata": {
        "id": "9200213c"
      },
      "outputs": [],
      "source": [
        "s = \"surya\"\n",
        "s1 = \"su\""
      ]
    },
    {
      "cell_type": "code",
      "execution_count": null,
      "id": "49a6fc4b",
      "metadata": {
        "id": "49a6fc4b",
        "outputId": "161d1ac9-4531-4bc5-978f-9e00f906322e"
      },
      "outputs": [
        {
          "data": {
            "text/plain": [
              "'suryasu'"
            ]
          },
          "execution_count": 242,
          "metadata": {},
          "output_type": "execute_result"
        }
      ],
      "source": [
        "s+s1"
      ]
    },
    {
      "cell_type": "code",
      "execution_count": null,
      "id": "56b07f96",
      "metadata": {
        "id": "56b07f96",
        "outputId": "fbd29213-6df3-4aed-ef5d-e20396fb7803"
      },
      "outputs": [
        {
          "data": {
            "text/plain": [
              "{'key1': 'ineuron',\n",
              " 234: 'xyz',\n",
              " 'name': 'sudh',\n",
              " 'no': 34324345,\n",
              " 'key4': 'sdfsf'}"
            ]
          },
          "execution_count": 243,
          "metadata": {},
          "output_type": "execute_result"
        }
      ],
      "source": [
        "d2\n"
      ]
    },
    {
      "cell_type": "code",
      "execution_count": null,
      "id": "16a048a3",
      "metadata": {
        "id": "16a048a3",
        "outputId": "88bcf54d-94e3-4007-f101-62baffae5258"
      },
      "outputs": [
        {
          "data": {
            "text/plain": [
              "{'k': None, '1': None}"
            ]
          },
          "execution_count": 245,
          "metadata": {},
          "output_type": "execute_result"
        }
      ],
      "source": [
        "d2.fromkeys(\"k1\")"
      ]
    },
    {
      "cell_type": "code",
      "execution_count": null,
      "id": "e86c7f90",
      "metadata": {
        "id": "e86c7f90"
      },
      "outputs": [],
      "source": [
        "d2['k'] = \"sudh\""
      ]
    },
    {
      "cell_type": "code",
      "execution_count": null,
      "id": "ec5e82db",
      "metadata": {
        "id": "ec5e82db",
        "outputId": "b1d4a452-e8c9-41ee-86c1-fe384e4eb1b2"
      },
      "outputs": [
        {
          "data": {
            "text/plain": [
              "{'key1': 'ineuron',\n",
              " 234: 'xyz',\n",
              " 'name': 'sudh',\n",
              " 'no': 34324345,\n",
              " 'key4': 'sdfsf',\n",
              " 'k': 'sudh'}"
            ]
          },
          "execution_count": 247,
          "metadata": {},
          "output_type": "execute_result"
        }
      ],
      "source": [
        "d2"
      ]
    },
    {
      "cell_type": "code",
      "execution_count": null,
      "id": "6ad8c275",
      "metadata": {
        "id": "6ad8c275",
        "outputId": "a7baca59-a6b8-4981-f6dc-1a18e0a32a99"
      },
      "outputs": [
        {
          "name": "stdout",
          "output_type": "stream",
          "text": [
            "Enter first side of triangle34\n",
            "Enter second side of triangle56\n",
            "Enter third side of triangle34\n",
            "Area of the triangle is,  540.0444426156055\n"
          ]
        }
      ],
      "source": [
        "side1 = float(input(\"Enter first side of triangle\"))\n",
        "side2 = float(input(\"Enter second side of triangle\"))\n",
        "side3 = float(input(\"Enter third side of triangle\"))\n",
        "s = (side1+side2+side3)/2\n",
        "ar = (s*(s-side1)*(s-side2)*(s-side3)) ** 0.5\n",
        "print(\"Area of the triangle is, \", ar)"
      ]
    },
    {
      "cell_type": "code",
      "execution_count": null,
      "id": "332f7e8d",
      "metadata": {
        "id": "332f7e8d"
      },
      "outputs": [],
      "source": [
        "l = [1,2,3,4,5]"
      ]
    },
    {
      "cell_type": "code",
      "execution_count": null,
      "id": "4a8936d5",
      "metadata": {
        "id": "4a8936d5"
      },
      "outputs": [],
      "source": [
        "l.insert(-1 , \"sudh\")"
      ]
    },
    {
      "cell_type": "code",
      "execution_count": null,
      "id": "d5c73400",
      "metadata": {
        "id": "d5c73400",
        "outputId": "b4d889ce-e4b5-47b5-ea05-a94c3541401f"
      },
      "outputs": [
        {
          "data": {
            "text/plain": [
              "[1, 2, 3, 4, 'sudh', 5]"
            ]
          },
          "execution_count": 252,
          "metadata": {},
          "output_type": "execute_result"
        }
      ],
      "source": [
        "l"
      ]
    },
    {
      "cell_type": "code",
      "execution_count": null,
      "id": "507c5394",
      "metadata": {
        "id": "507c5394"
      },
      "outputs": [],
      "source": [
        "for i in l:\n",
        "    if type(i)==list:\n",
        "        print(i)\n",
        "    else:\n",
        "        if type(i)==dict:\n",
        "            if type(i.values()==list):\n",
        "                for j in i.values():\n",
        "                    if type(j)==list:\n",
        "                        print(list(j))"
      ]
    },
    {
      "cell_type": "code",
      "execution_count": null,
      "id": "a92567e4",
      "metadata": {
        "id": "a92567e4"
      },
      "outputs": [],
      "source": [
        "d6 = {_ : \"fdsdf\"}"
      ]
    },
    {
      "cell_type": "code",
      "execution_count": null,
      "id": "dd0fe47b",
      "metadata": {
        "id": "dd0fe47b",
        "outputId": "dc53aac3-8ff7-4c4e-bbb5-e4efac035707"
      },
      "outputs": [
        {
          "data": {
            "text/plain": [
              "{'': 'fdsdf'}"
            ]
          },
          "execution_count": 2,
          "metadata": {},
          "output_type": "execute_result"
        }
      ],
      "source": [
        "d6"
      ]
    },
    {
      "cell_type": "code",
      "execution_count": null,
      "id": "5f315ca0",
      "metadata": {
        "id": "5f315ca0"
      },
      "outputs": [],
      "source": [
        "t = ( 4,5,6)"
      ]
    },
    {
      "cell_type": "code",
      "execution_count": null,
      "id": "209d4327",
      "metadata": {
        "id": "209d4327"
      },
      "outputs": [],
      "source": [
        "t1 =( 6 )"
      ]
    },
    {
      "cell_type": "code",
      "execution_count": null,
      "id": "8269c970",
      "metadata": {
        "id": "8269c970",
        "outputId": "deebeed0-ed7b-4120-bc55-33a69aca3299"
      },
      "outputs": [
        {
          "data": {
            "text/plain": [
              "int"
            ]
          },
          "execution_count": 6,
          "metadata": {},
          "output_type": "execute_result"
        }
      ],
      "source": [
        "type(t1)"
      ]
    },
    {
      "cell_type": "code",
      "execution_count": null,
      "id": "5e8fca84",
      "metadata": {
        "id": "5e8fca84",
        "outputId": "6558b4be-4851-46b6-dd87-ba2dbf063455"
      },
      "outputs": [
        {
          "name": "stdout",
          "output_type": "stream",
          "text": [
            "Vishnu\n",
            "{'name': 'Vishnu', 'title': 'Data Analyst', 'course': 'FSDS', 'key1': {...}}\n"
          ]
        }
      ],
      "source": [
        "#Question\n",
        "D_NEW = {'name':'Vishnu','title':'Data Analyst','course':'FSDS'}\n",
        "D_NEW['key1'] = D_NEW\n",
        "print(D_NEW['name'])\n",
        "print(D_NEW['key1'])"
      ]
    },
    {
      "cell_type": "code",
      "execution_count": null,
      "id": "3d3e8a32",
      "metadata": {
        "id": "3d3e8a32",
        "outputId": "92dfb782-be58-4697-d365-00dde4acf988"
      },
      "outputs": [
        {
          "name": "stdout",
          "output_type": "stream",
          "text": [
            "Vishnu\n",
            "{'name': 'Vishnu', 'title': 'Data Analyst', 'course': 'FSDS', 'key1': {...}}\n"
          ]
        }
      ],
      "source": [
        "print(D_NEW['name'])\n",
        "print(D_NEW['key1'])"
      ]
    },
    {
      "cell_type": "code",
      "execution_count": null,
      "id": "c9908776",
      "metadata": {
        "id": "c9908776",
        "outputId": "bbc5e9c2-5ab0-40e0-8b99-64ce77466498"
      },
      "outputs": [
        {
          "data": {
            "text/plain": [
              "{'name': 'Vishnu', 'title': 'Data Analyst', 'course': 'FSDS', 'key1': {...}}"
            ]
          },
          "execution_count": 10,
          "metadata": {},
          "output_type": "execute_result"
        }
      ],
      "source": [
        "D_NEW"
      ]
    },
    {
      "cell_type": "code",
      "execution_count": null,
      "id": "d267e698",
      "metadata": {
        "id": "d267e698",
        "outputId": "bb24af84-c78b-4909-9b66-1f2e064971de"
      },
      "outputs": [
        {
          "data": {
            "text/plain": [
              "list"
            ]
          },
          "execution_count": 11,
          "metadata": {},
          "output_type": "execute_result"
        }
      ],
      "source": [
        "t1=(3,5,67.8,789,'876dfghj')\n",
        "t=t+t1\n",
        "type(t)\n",
        "t.count(3)\n",
        "t2=list(t)\n",
        "t2\n",
        "tuple(t2)\n",
        "str(t2)\n",
        "tuple(t2)\n",
        "type(t2)"
      ]
    },
    {
      "cell_type": "code",
      "execution_count": null,
      "id": "efe61ca0",
      "metadata": {
        "id": "efe61ca0"
      },
      "outputs": [],
      "source": [
        "s = {3,4,5,6,7,7}"
      ]
    },
    {
      "cell_type": "code",
      "execution_count": null,
      "id": "80bedec8",
      "metadata": {
        "id": "80bedec8",
        "outputId": "bcea05d8-95e6-4be4-bfe9-fa44272890c0"
      },
      "outputs": [
        {
          "data": {
            "text/plain": [
              "{3, 4, 5, 6, 7}"
            ]
          },
          "execution_count": 14,
          "metadata": {},
          "output_type": "execute_result"
        }
      ],
      "source": [
        "s"
      ]
    },
    {
      "cell_type": "code",
      "execution_count": null,
      "id": "a1e96e0d",
      "metadata": {
        "id": "a1e96e0d",
        "outputId": "ed38a5a2-759f-4ea2-e64e-57216d16bac9"
      },
      "outputs": [
        {
          "data": {
            "text/plain": [
              "3"
            ]
          },
          "execution_count": 18,
          "metadata": {},
          "output_type": "execute_result"
        }
      ],
      "source": [
        "list(s)[0]"
      ]
    },
    {
      "cell_type": "code",
      "execution_count": null,
      "id": "43d5ede3",
      "metadata": {
        "id": "43d5ede3",
        "outputId": "ba59cee8-c17d-4f90-8fee-1a139141afeb"
      },
      "outputs": [
        {
          "data": {
            "text/plain": [
              "34.57"
            ]
          },
          "execution_count": 19,
          "metadata": {},
          "output_type": "execute_result"
        }
      ],
      "source": [
        "round(34.5656567 , 2)"
      ]
    },
    {
      "cell_type": "code",
      "execution_count": null,
      "id": "c8c4163c",
      "metadata": {
        "id": "c8c4163c"
      },
      "outputs": [],
      "source": [
        "###### MY QUESTIONS #####\n",
        "d4={\"name\":\"iNeuron\", \"contact_info\":34345,\"name\":\"rupe\"}\n",
        "d4['loc']='Calgary'\n",
        "d4['check'] = d4\n",
        "#### LOOP ####\n",
        "print(d4['check'])\n",
        "#### TYPE ####\n",
        "print(d4.keys())\n",
        "print(d4.items())\n",
        "print(type(d2.keys()))\n",
        "print(type(d2.items()))\n",
        "#### SIGNATURE #########\n",
        "n=[4, 5, 7, 9, 2, 3, 4, 5, 2, 1, 9, 6, 7, 0]\n",
        "n.pop()\n",
        "n.sort()\n"
      ]
    },
    {
      "cell_type": "code",
      "execution_count": null,
      "id": "a64cb675",
      "metadata": {
        "id": "a64cb675"
      },
      "outputs": [],
      "source": [
        "d2 = { \"k1\" :\"fsdfs\" , \"k2 \" : [4,5,56]}"
      ]
    },
    {
      "cell_type": "code",
      "execution_count": null,
      "id": "98a20a59",
      "metadata": {
        "id": "98a20a59"
      },
      "outputs": [],
      "source": [
        "l = d2.keys()"
      ]
    },
    {
      "cell_type": "code",
      "execution_count": null,
      "id": "185a92a9",
      "metadata": {
        "id": "185a92a9",
        "outputId": "64c96c09-ceaf-4969-b430-659ecf864a76"
      },
      "outputs": [
        {
          "data": {
            "text/plain": [
              "'k1'"
            ]
          },
          "execution_count": 29,
          "metadata": {},
          "output_type": "execute_result"
        }
      ],
      "source": [
        "list(l)[0]"
      ]
    },
    {
      "cell_type": "code",
      "execution_count": null,
      "id": "7d41c824",
      "metadata": {
        "id": "7d41c824"
      },
      "outputs": [],
      "source": [
        "n=[4, 5, 7, 9, 2, 3, 4, 5, 2, 1, 9, 6, 7, 0]\n",
        "n.pop()\n",
        "n.sort()"
      ]
    },
    {
      "cell_type": "code",
      "execution_count": null,
      "id": "93683d30",
      "metadata": {
        "id": "93683d30"
      },
      "outputs": [],
      "source": [
        "s = { 1,2,None, 3,4}"
      ]
    },
    {
      "cell_type": "code",
      "execution_count": null,
      "id": "a2142043",
      "metadata": {
        "id": "a2142043"
      },
      "outputs": [],
      "source": [
        "l = [3,4,5,6,7, [23,456,67,8,78,78], [345,56,87,8,98,9],(234,6657,6),{'key1':'sudh', 234:[]}]\n",
        "umesh\n",
        "1\n",
        "l = [1,2,3,4,5,6,7,[11,22,33,44,55,66],111,222,333,'umesh']\n",
        "l\n",
        "1\n",
        "l\n",
        "[1, 2, 3, 4, 5, 6, 7, [11, 22, 33, 44, 55, 66], 111, 222, 333, 'umesh']\n",
        "3\n",
        "1\n",
        "l.remove(3)\n",
        "l\n",
        "1\n",
        "l\n",
        "[1, 2, 4, 5, 6, 7, [11, 22, 33, 44, 55, 66], 111, 222, 333, 'umesh']\n",
        "2\n",
        "1\n",
        "l.remove(2)\n",
        "l\n",
        "1\n",
        "l\n",
        "[1, 4, 5, 6, 7, [11, 22, 33, 44, 55, 66], 111, 222, 333, 'umesh']\n"
      ]
    },
    {
      "cell_type": "code",
      "execution_count": null,
      "id": "148512dd",
      "metadata": {
        "id": "148512dd"
      },
      "outputs": [],
      "source": [
        "l = [10,2,3,4,5,6,7,[11,22,33,44,55,66],111,222,333,'umesh']"
      ]
    },
    {
      "cell_type": "code",
      "execution_count": null,
      "id": "9f725819",
      "metadata": {
        "id": "9f725819"
      },
      "outputs": [],
      "source": [
        "l.remove(10)"
      ]
    },
    {
      "cell_type": "code",
      "execution_count": null,
      "id": "95328172",
      "metadata": {
        "id": "95328172",
        "outputId": "7a197312-f28b-4db9-cd71-69e6d2a6d1cf"
      },
      "outputs": [
        {
          "data": {
            "text/plain": [
              "[2, 3, 4, 5, 6, 7, [11, 22, 33, 44, 55, 66], 111, 222, 333, 'umesh']"
            ]
          },
          "execution_count": 39,
          "metadata": {},
          "output_type": "execute_result"
        }
      ],
      "source": [
        "l"
      ]
    },
    {
      "cell_type": "code",
      "execution_count": null,
      "id": "c1b6beae",
      "metadata": {
        "id": "c1b6beae",
        "outputId": "ec06e9f5-31b8-4b6d-cde4-060d092b7af3"
      },
      "outputs": [
        {
          "name": "stdout",
          "output_type": "stream",
          "text": [
            "1\n",
            "5\n",
            "asdf\n"
          ]
        },
        {
          "ename": "IndexError",
          "evalue": "list index out of range",
          "output_type": "error",
          "traceback": [
            "\u001b[1;31m---------------------------------------------------------------------------\u001b[0m",
            "\u001b[1;31mIndexError\u001b[0m                                Traceback (most recent call last)",
            "\u001b[1;32m~\\AppData\\Local\\Temp/ipykernel_17348/1981221033.py\u001b[0m in \u001b[0;36m<module>\u001b[1;34m\u001b[0m\n\u001b[0;32m      3\u001b[0m     \u001b[1;32mif\u001b[0m \u001b[0mtype\u001b[0m\u001b[1;33m(\u001b[0m\u001b[0mi\u001b[0m\u001b[1;33m)\u001b[0m \u001b[1;33m==\u001b[0m \u001b[0mlist\u001b[0m\u001b[1;33m:\u001b[0m\u001b[1;33m\u001b[0m\u001b[1;33m\u001b[0m\u001b[0m\n\u001b[0;32m      4\u001b[0m         \u001b[1;32mfor\u001b[0m \u001b[0mj\u001b[0m \u001b[1;32min\u001b[0m \u001b[0mrange\u001b[0m\u001b[1;33m(\u001b[0m\u001b[0mlen\u001b[0m\u001b[1;33m(\u001b[0m\u001b[0mi\u001b[0m\u001b[1;33m)\u001b[0m\u001b[1;33m-\u001b[0m\u001b[1;36m1\u001b[0m\u001b[1;33m)\u001b[0m\u001b[1;33m:\u001b[0m\u001b[1;33m\u001b[0m\u001b[1;33m\u001b[0m\u001b[0m\n\u001b[1;32m----> 5\u001b[1;33m             \u001b[0mprint\u001b[0m\u001b[1;33m(\u001b[0m\u001b[0mi\u001b[0m\u001b[1;33m[\u001b[0m\u001b[0mj\u001b[0m\u001b[1;33m]\u001b[0m\u001b[1;33m)\u001b[0m\u001b[1;33m\u001b[0m\u001b[1;33m\u001b[0m\u001b[0m\n\u001b[0m\u001b[0;32m      6\u001b[0m             \u001b[1;32mwhile\u001b[0m \u001b[0mtype\u001b[0m\u001b[1;33m(\u001b[0m\u001b[0mi\u001b[0m\u001b[1;33m[\u001b[0m\u001b[0mj\u001b[0m\u001b[1;33m]\u001b[0m\u001b[1;33m)\u001b[0m \u001b[1;33m==\u001b[0m \u001b[0mstr\u001b[0m\u001b[1;33m:\u001b[0m\u001b[1;33m\u001b[0m\u001b[1;33m\u001b[0m\u001b[0m\n\u001b[0;32m      7\u001b[0m                 \u001b[0mi\u001b[0m\u001b[1;33m.\u001b[0m\u001b[0mremove\u001b[0m\u001b[1;33m(\u001b[0m\u001b[0mi\u001b[0m\u001b[1;33m[\u001b[0m\u001b[0mj\u001b[0m\u001b[1;33m]\u001b[0m\u001b[1;33m)\u001b[0m\u001b[1;33m\u001b[0m\u001b[1;33m\u001b[0m\u001b[0m\n",
            "\u001b[1;31mIndexError\u001b[0m: list index out of range"
          ]
        }
      ],
      "source": [
        "l=[1,'a','d',[1,5,'asdf','zswe','aa',345],45,\"dfg\",['s','d',1,2,3],'k']\n",
        "for i in l:\n",
        "    if type(i) == list:\n",
        "        for j in range(len(i)-1):\n",
        "            print(i[j])\n",
        "            while type(i[j]) == str:\n",
        "                i.remove(i[j])\n",
        "print(l)"
      ]
    },
    {
      "cell_type": "code",
      "execution_count": null,
      "id": "96e1aa6e",
      "metadata": {
        "id": "96e1aa6e"
      },
      "outputs": [],
      "source": []
    }
  ],
  "metadata": {
    "kernelspec": {
      "display_name": "Python 3 (ipykernel)",
      "language": "python",
      "name": "python3"
    },
    "language_info": {
      "codemirror_mode": {
        "name": "ipython",
        "version": 3
      },
      "file_extension": ".py",
      "mimetype": "text/x-python",
      "name": "python",
      "nbconvert_exporter": "python",
      "pygments_lexer": "ipython3",
      "version": "3.9.7"
    },
    "colab": {
      "provenance": [],
      "include_colab_link": true
    }
  },
  "nbformat": 4,
  "nbformat_minor": 5
}