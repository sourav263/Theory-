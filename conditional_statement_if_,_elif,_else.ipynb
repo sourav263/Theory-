{
  "cells": [
    {
      "cell_type": "markdown",
      "metadata": {
        "id": "view-in-github",
        "colab_type": "text"
      },
      "source": [
        "<a href=\"https://colab.research.google.com/github/sourav263/Theory-/blob/main/conditional_statement_if_%2C_elif%2C_else.ipynb\" target=\"_parent\"><img src=\"https://colab.research.google.com/assets/colab-badge.svg\" alt=\"Open In Colab\"/></a>"
      ]
    },
    {
      "cell_type": "code",
      "execution_count": null,
      "id": "07ae68cd",
      "metadata": {
        "id": "07ae68cd"
      },
      "outputs": [],
      "source": [
        "a = 10 \n",
        "if a == 11 :\n",
        "    print(\"this is my first condition\")\n",
        "    \n"
      ]
    },
    {
      "cell_type": "code",
      "execution_count": null,
      "id": "2aa2337a",
      "metadata": {
        "id": "2aa2337a"
      },
      "outputs": [],
      "source": [
        "a = 10\n",
        "if a >5 :\n",
        "    pass"
      ]
    },
    {
      "cell_type": "code",
      "execution_count": null,
      "id": "2367014d",
      "metadata": {
        "id": "2367014d"
      },
      "outputs": [],
      "source": [
        "a = 10 \n",
        "if a <8:\n",
        "    print(\"print this if condition is true \")"
      ]
    },
    {
      "cell_type": "code",
      "execution_count": null,
      "id": "4e186e58",
      "metadata": {
        "id": "4e186e58"
      },
      "outputs": [],
      "source": [
        "a = 10\n",
        "if a == 11:\n",
        "    print(\"my condition is false\")\n",
        "else :\n",
        "    print(\"print this \")"
      ]
    },
    {
      "cell_type": "code",
      "execution_count": null,
      "id": "9f99ff47",
      "metadata": {
        "id": "9f99ff47"
      },
      "outputs": [],
      "source": [
        "a = 10 \n",
        "if a == 12 :\n",
        "    print(\"here we are trying to compare 10 with 12\")\n",
        "elif a ==10:\n",
        "    print(\"we are trying to compare 10 with 11\")\n",
        "else :\n",
        "    print(\"if all the blocks wil fail then do this \")"
      ]
    },
    {
      "cell_type": "code",
      "execution_count": null,
      "id": "a120c605",
      "metadata": {
        "id": "a120c605"
      },
      "outputs": [],
      "source": [
        "price = 500\n",
        "\n",
        "if price > 500 : \n",
        "    print(\" may b i wont be able to buy a jacket \")\n",
        "elif price < 500 :\n",
        "    print(\"i will be able to buy a jacket\")\n",
        "elif  price == 500 :\n",
        "    print(\"for sure i will be able to buy\")\n",
        "\n",
        "else  :\n",
        "    print(\"i dont know\")\n",
        "    "
      ]
    },
    {
      "cell_type": "code",
      "execution_count": null,
      "id": "13fe70d0",
      "metadata": {
        "id": "13fe70d0"
      },
      "outputs": [],
      "source": [
        "price > 500"
      ]
    },
    {
      "cell_type": "code",
      "execution_count": null,
      "id": "162c2a51",
      "metadata": {
        "id": "162c2a51"
      },
      "outputs": [],
      "source": [
        "price < 500"
      ]
    },
    {
      "cell_type": "code",
      "execution_count": null,
      "id": "4fb33716",
      "metadata": {
        "id": "4fb33716"
      },
      "outputs": [],
      "source": [
        " price == 500"
      ]
    },
    {
      "cell_type": "code",
      "execution_count": null,
      "id": "d650f78a",
      "metadata": {
        "id": "d650f78a"
      },
      "outputs": [],
      "source": [
        "l = [1,2,3,4,5,6]\n",
        "2 in l"
      ]
    },
    {
      "cell_type": "code",
      "execution_count": null,
      "id": "2c84bcb2",
      "metadata": {
        "id": "2c84bcb2"
      },
      "outputs": [],
      "source": [
        "if 60 in l :\n",
        "    print(\"try to perform a task \")\n",
        "else :\n",
        "    print(\"do not perform this task\")"
      ]
    },
    {
      "cell_type": "code",
      "execution_count": null,
      "id": "740c73fd",
      "metadata": {
        "id": "740c73fd"
      },
      "outputs": [],
      "source": [
        "60 in l"
      ]
    },
    {
      "cell_type": "code",
      "execution_count": null,
      "id": "0f1d7f3d",
      "metadata": {
        "id": "0f1d7f3d"
      },
      "outputs": [],
      "source": [
        "l"
      ]
    },
    {
      "cell_type": "code",
      "execution_count": null,
      "id": "6f4ad9ab",
      "metadata": {
        "id": "6f4ad9ab"
      },
      "outputs": [],
      "source": [
        "if 10 in l :\n",
        "    print(\"thy to do a addition\")\n",
        "elif 2 in l :\n",
        "    print(\"try to do sub\")\n",
        "elif 3 in l :\n",
        "    print(\"try to do mul\")\n",
        "if 4 in l :\n",
        "    print(\"this is new statement\")"
      ]
    },
    {
      "cell_type": "code",
      "execution_count": null,
      "id": "4ae964c6",
      "metadata": {
        "id": "4ae964c6"
      },
      "outputs": [],
      "source": [
        "a = 400"
      ]
    },
    {
      "cell_type": "code",
      "execution_count": null,
      "id": "3b4020dc",
      "metadata": {
        "id": "3b4020dc"
      },
      "outputs": [],
      "source": [
        "b = int(input())"
      ]
    },
    {
      "cell_type": "code",
      "execution_count": null,
      "id": "b0234101",
      "metadata": {
        "id": "b0234101"
      },
      "outputs": [],
      "source": [
        "type(b)\n"
      ]
    },
    {
      "cell_type": "code",
      "execution_count": null,
      "id": "772cf77a",
      "metadata": {
        "id": "772cf77a"
      },
      "outputs": [],
      "source": [
        "price  = int(input())\n",
        "if price  <500 :\n",
        "    print(\"i will be able to buy something\")\n",
        "    if price < 400 :\n",
        "        print(\"i will be able to buy a jacket\")\n",
        "    elif price < 300 :\n",
        "        \n",
        "        print(\"i will be able to buy a shirt\")\n",
        "        if price < 200 :\n",
        "            print(\"i would like to do sometign\")\n",
        "    else :\n",
        "        print(\"i wont be able to buy anyting\")\n",
        "else :\n",
        "     print(\"i wont be able to buy anything with this price tag\")\n",
        "     if price >500:\n",
        "        print(\"lets try someting else \")\n",
        "        "
      ]
    },
    {
      "cell_type": "code",
      "execution_count": null,
      "id": "a1c62e14",
      "metadata": {
        "id": "a1c62e14"
      },
      "outputs": [],
      "source": [
        "marks = int(input())\n",
        "if marks < 600:\n",
        "    print(\"NO GRE\")\n",
        "    if marks < 500:\n",
        "        print(\"TOFEL\")\n",
        "        if marks < 400:\n",
        "            print(\"Try something else\")\n",
        "    else:\n",
        "        print(\"YOU GOT TOFEL\")\n",
        "else:\n",
        "    print(\"You got GRE congratulations\")\n"
      ]
    },
    {
      "cell_type": "code",
      "execution_count": null,
      "id": "bee988ed",
      "metadata": {
        "id": "bee988ed"
      },
      "outputs": [],
      "source": [
        "val  = float(input(\"enter a floating point number\"))\n",
        "if val >= 0 :\n",
        "    if val == 0 :\n",
        "        print(\"entered value is zero\")\n",
        "    else :\n",
        "        print(\"enter value is a positive number \")\n",
        "else :\n",
        "    print(\"entered number is a negative number\")"
      ]
    },
    {
      "cell_type": "code",
      "execution_count": null,
      "id": "f16fd943",
      "metadata": {
        "id": "f16fd943"
      },
      "outputs": [],
      "source": [
        "a = 10\n",
        "if a <10  and a == 10 :\n",
        "    print(\"try to do someting \")"
      ]
    },
    {
      "cell_type": "code",
      "execution_count": null,
      "id": "3acc4a2f",
      "metadata": {
        "id": "3acc4a2f"
      },
      "outputs": [],
      "source": [
        "a = \"sudh\"\n",
        "if a == \"sudh\" or a == \"Sudh\":\n",
        "    print(\"this is sudh \")"
      ]
    },
    {
      "cell_type": "code",
      "execution_count": null,
      "id": "56b7a084",
      "metadata": {
        "id": "56b7a084"
      },
      "outputs": [],
      "source": [
        "a = 10 \n",
        "b = 11\n",
        "c = 12\n",
        "d = 13\n",
        "if a == 9 or b == 11 and c == 12 and d ==13:\n",
        "    print(\"lets do something\")"
      ]
    },
    {
      "cell_type": "code",
      "execution_count": null,
      "id": "63112035",
      "metadata": {
        "id": "63112035"
      },
      "outputs": [],
      "source": [
        "d = {'key1' :\"value\" , \"key2\" : \"sudh\" , \"key3\" : \"iNeuron\"}"
      ]
    },
    {
      "cell_type": "code",
      "execution_count": null,
      "id": "16839f82",
      "metadata": {
        "id": "16839f82"
      },
      "outputs": [],
      "source": [
        "if d['key1'] == \"value\" and d['key2'] == \"Sudh\" and d['key3'] == \"iNeuron\":\n",
        "    print(\"all the values are verified \")\n",
        "    print(d.values())\n",
        "else :\n",
        "    print(\"all the values are not verified \")"
      ]
    },
    {
      "cell_type": "code",
      "execution_count": null,
      "id": "032d1b6d",
      "metadata": {
        "id": "032d1b6d"
      },
      "outputs": [],
      "source": [
        "d['key1']"
      ]
    },
    {
      "cell_type": "code",
      "execution_count": null,
      "id": "20101f30",
      "metadata": {
        "id": "20101f30"
      },
      "outputs": [],
      "source": [
        "l = [1,2,3,4,5,\"sudh\" ,234.45]"
      ]
    },
    {
      "cell_type": "code",
      "execution_count": null,
      "id": "f1bfcbb1",
      "metadata": {
        "id": "f1bfcbb1"
      },
      "outputs": [],
      "source": [
        "l[0]"
      ]
    },
    {
      "cell_type": "code",
      "execution_count": null,
      "id": "e0d07b4c",
      "metadata": {
        "id": "e0d07b4c"
      },
      "outputs": [],
      "source": [
        "l[1]"
      ]
    },
    {
      "cell_type": "code",
      "execution_count": null,
      "id": "8b099ed8",
      "metadata": {
        "id": "8b099ed8"
      },
      "outputs": [],
      "source": [
        "l[2:5]"
      ]
    },
    {
      "cell_type": "code",
      "execution_count": null,
      "id": "2f925627",
      "metadata": {
        "id": "2f925627"
      },
      "outputs": [],
      "source": [
        "l"
      ]
    },
    {
      "cell_type": "code",
      "execution_count": null,
      "id": "1072abce",
      "metadata": {
        "id": "1072abce"
      },
      "outputs": [],
      "source": [
        "for i in l :\n",
        "    if type(i) == int or type(i) == float:\n",
        "        print(i+1)\n",
        "    elif type(i) == str:\n",
        "        print(i + str(1))\n",
        "    "
      ]
    },
    {
      "cell_type": "code",
      "execution_count": null,
      "id": "57621ff5",
      "metadata": {
        "id": "57621ff5"
      },
      "outputs": [],
      "source": [
        "l"
      ]
    },
    {
      "cell_type": "code",
      "execution_count": null,
      "id": "b89d5e3f",
      "metadata": {
        "id": "b89d5e3f"
      },
      "outputs": [],
      "source": [
        "a=[9, 8,7,6,5,4,3,2,10]\n",
        "for i in a :\n",
        "       print(i ,end=' ') "
      ]
    },
    {
      "cell_type": "code",
      "execution_count": null,
      "id": "3533c6e5",
      "metadata": {
        "id": "3533c6e5"
      },
      "outputs": [],
      "source": [
        "l "
      ]
    },
    {
      "cell_type": "code",
      "execution_count": null,
      "id": "b02db6a0",
      "metadata": {
        "id": "b02db6a0"
      },
      "outputs": [],
      "source": [
        "l1 = []\n",
        "for i in l :\n",
        "    if type(i) == int:\n",
        "        l1.append(i)"
      ]
    },
    {
      "cell_type": "code",
      "execution_count": null,
      "id": "cd6a0fc6",
      "metadata": {
        "id": "cd6a0fc6"
      },
      "outputs": [],
      "source": [
        "l1"
      ]
    },
    {
      "cell_type": "code",
      "execution_count": null,
      "id": "4e334d0b",
      "metadata": {
        "id": "4e334d0b"
      },
      "outputs": [],
      "source": [
        "for a in l:\n",
        "    if type(a)==int:\n",
        "        print(a+1)\n",
        "    elif type(a)==str:\n",
        "        print(a+str(1))\n",
        "    elif type(a)==float:\n",
        "        print(a+float(1))\n"
      ]
    },
    {
      "cell_type": "code",
      "execution_count": null,
      "id": "191d395b",
      "metadata": {
        "id": "191d395b"
      },
      "outputs": [],
      "source": [
        "for i in l:\n",
        "    if type(i)==int  or type(i) == float:\n",
        "        print(i+1)\n",
        "    elif type(i)== str:    \n",
        "        print(i+ str(1))"
      ]
    },
    {
      "cell_type": "code",
      "execution_count": null,
      "id": "a89fb784",
      "metadata": {
        "id": "a89fb784"
      },
      "outputs": [],
      "source": [
        "for i in l :\n",
        "    if type(i) ==  int or type(i) == float :\n",
        "        print(i+1) \n",
        "    elif type(i) == str:\n",
        "        print(i + str(1))\n"
      ]
    },
    {
      "cell_type": "code",
      "execution_count": null,
      "id": "904cdf5b",
      "metadata": {
        "id": "904cdf5b"
      },
      "outputs": [],
      "source": [
        "l = [1,2,3,4,5 ,\"car\",5,6,7]\n",
        "\n",
        "for i in l:\n",
        "    if i.isnumeric():\n",
        "        print(i)"
      ]
    },
    {
      "cell_type": "code",
      "execution_count": null,
      "id": "5184ef4d",
      "metadata": {
        "id": "5184ef4d"
      },
      "outputs": [],
      "source": [
        "if d['key1']==\"value\" and d['key2']==\"amrit\" and d['key3']==\"ineuron\":\n",
        "    print (\"all the values aree verified\")\n",
        "    print(d.value())\n",
        "if d['key1']==\"value\" and d['key2']==\"amrit\" and d['key3']==\"ineuron\":\n",
        "    print (\"all the values aree verified\")\n",
        "    print(d.value())"
      ]
    },
    {
      "cell_type": "code",
      "execution_count": null,
      "id": "eb1cbab9",
      "metadata": {
        "id": "eb1cbab9"
      },
      "outputs": [],
      "source": [
        "list=[]\n",
        "name=input(\"Enter a name:-\")\n",
        "while name!=\"Chandan\":\n",
        "    list.append(name)\n",
        "#print(\"Thanks for the confirmation\")\n",
        "    print(list)\n"
      ]
    },
    {
      "cell_type": "code",
      "execution_count": null,
      "id": "9624d6df",
      "metadata": {
        "id": "9624d6df"
      },
      "outputs": [],
      "source": [
        "l = [1,2,3,4,5465,67,\"sudh\"]"
      ]
    },
    {
      "cell_type": "code",
      "execution_count": null,
      "id": "76c62111",
      "metadata": {
        "id": "76c62111"
      },
      "outputs": [],
      "source": [
        "for i in l:\n",
        "    if type(i)==str:\n",
        "        if i=='d':\n",
        "            break\n",
        "        print(i)\n",
        "        \n"
      ]
    },
    {
      "cell_type": "code",
      "execution_count": null,
      "id": "9a6d6b93",
      "metadata": {
        "id": "9a6d6b93"
      },
      "outputs": [],
      "source": [
        "l = [1,2,3,4,'CK',2020.12]\n",
        "for i in l:\n",
        "    if type(i) == int :\n",
        "        print(i+1)\n",
        "    elif type(i) == str:\n",
        "        print(i +str(1))\n",
        "    elif type(i) == float:\n",
        "        print(i + float(1))\n",
        "\n"
      ]
    },
    {
      "cell_type": "code",
      "execution_count": null,
      "id": "e7f2a0f7",
      "metadata": {
        "id": "e7f2a0f7"
      },
      "outputs": [],
      "source": [
        "a = 10 \n",
        "if a < 8 :\n",
        "    print(\"print this if condition is true\")"
      ]
    },
    {
      "cell_type": "code",
      "execution_count": null,
      "id": "61d7bf12",
      "metadata": {
        "id": "61d7bf12"
      },
      "outputs": [],
      "source": [
        "marks =int(input())\n",
        "if marks  > 600:\n",
        "    print(\"Able to clear GRE \")\n",
        "elif marks < 600:\n",
        "        print(\"No Gre\")\n",
        "elif marks <500:\n",
        "    pass"
      ]
    },
    {
      "cell_type": "code",
      "execution_count": null,
      "id": "a4b56fff",
      "metadata": {
        "id": "a4b56fff"
      },
      "outputs": [],
      "source": [
        "val = float(input(\"enter a floating number\"))\n",
        "if val>=0:\n",
        "    if val== 0:\n",
        "        print(\"entered number is zero\")\n",
        "    else:\n",
        "        print(\"value is a positive number\")\n",
        "else :\n",
        "    print(\"value is a negative number\")\n"
      ]
    },
    {
      "cell_type": "code",
      "execution_count": null,
      "id": "bcc85e27",
      "metadata": {
        "id": "bcc85e27"
      },
      "outputs": [],
      "source": [
        "a,b,c,d=10,11,12,13\n",
        "####### Question 01 #######\n",
        "if a==10 or b==11 and c==12 and d==113: #### Case 1\n",
        "    # this is equal to a==10 or (b==11 and c==12 and d==113)\n",
        "    print('lets do something 1')\n",
        "if (a==10 and b==11 ) or (c==12 and d==113):  #### Case 2\n",
        "    # this is equal to (a==10 and b==11) or (c==12 and d==113)\n",
        "    print('lets do something 2')\n",
        "if a==10 and b==11 and c==12 and d==13 or a==9:   #### Case 3\n",
        "    # this is equal to (a==10 and b==11 and c==12 and d==13) or a==9\n",
        "    print('lets do something 3')\n",
        "if a==9 or b==11 and c==12 and d==13:   #### Case 4\n",
        "    print('lets do something 4')\n",
        "############# Question 2 #########\n",
        "# What is the difference between:\n",
        "print(type(a) == int)\n",
        "print(type(a) is int)\n"
      ]
    },
    {
      "cell_type": "code",
      "execution_count": null,
      "id": "775d752a",
      "metadata": {
        "id": "775d752a"
      },
      "outputs": [],
      "source": [
        "\n",
        "type(a) == int"
      ]
    },
    {
      "cell_type": "code",
      "execution_count": null,
      "id": "225806cc",
      "metadata": {
        "id": "225806cc"
      },
      "outputs": [],
      "source": [
        "a "
      ]
    },
    {
      "cell_type": "code",
      "execution_count": null,
      "id": "855a9eaf",
      "metadata": {
        "id": "855a9eaf"
      },
      "outputs": [],
      "source": [
        "type(a) is int"
      ]
    },
    {
      "cell_type": "code",
      "execution_count": null,
      "id": "0846aaf5",
      "metadata": {
        "id": "0846aaf5"
      },
      "outputs": [],
      "source": [
        "l = [0,0,0,0,0,0,0,1324,0,0,0,0,0]\n",
        "\n",
        "for i in l:\n",
        "    if i > 0 :\n",
        "        print(\"We have an active alarm Number:\",i)         \n",
        "else:\n",
        "    print (\"No alarm\")\n",
        "    "
      ]
    },
    {
      "cell_type": "code",
      "execution_count": null,
      "id": "4700d795",
      "metadata": {
        "id": "4700d795"
      },
      "outputs": [],
      "source": [
        "l=[1,2,3,4,5,\"sudh\",234.45]\n",
        "\n",
        "a=0\n",
        "l1=[]\n",
        "for i in l:\n",
        "    if type(i) == int:\n",
        "          l1 = l1 + [i]\n",
        "print(l1)"
      ]
    },
    {
      "cell_type": "code",
      "execution_count": null,
      "id": "8be19a06",
      "metadata": {
        "id": "8be19a06"
      },
      "outputs": [],
      "source": [
        "l1"
      ]
    },
    {
      "cell_type": "code",
      "execution_count": null,
      "id": "1d537040",
      "metadata": {
        "id": "1d537040"
      },
      "outputs": [],
      "source": [
        "a=int(input(\"Input a number from 1 to 40-------\"))\n",
        "if a >=1 or a <=9:\n",
        "    print (\"white\")\n",
        "if 10<=a>=20:\n",
        "    print (\"yellow\")\n",
        "if 21<=a>=30:\n",
        "        print (\"blue\")\n",
        "elif 31<=a>=40:\n",
        "        print (\"red\")\n",
        "else :\n",
        "    print(\"Please enter number from 1 to 40\")"
      ]
    },
    {
      "cell_type": "code",
      "execution_count": null,
      "id": "c9a3d9a9",
      "metadata": {
        "id": "c9a3d9a9"
      },
      "outputs": [],
      "source": [
        "for i in l :\n",
        "    if type(i) == int or type(i) == float :\n",
        "        print(i+1)\n",
        "    elif type(i) == str :\n",
        "        print(i + str(1))\n"
      ]
    },
    {
      "cell_type": "code",
      "execution_count": null,
      "id": "7dcf5214",
      "metadata": {
        "id": "7dcf5214"
      },
      "outputs": [],
      "source": [
        "for i in l :\n",
        "    if type(i) == int or type(i) == float :\n",
        "        print(i+1)\n",
        "    elif type(i) == str :\n",
        "        print(i+ str(1))"
      ]
    },
    {
      "cell_type": "code",
      "execution_count": null,
      "id": "d3b70082",
      "metadata": {
        "id": "d3b70082"
      },
      "outputs": [],
      "source": [
        "price = int(input(\"enter an integer\"))\n",
        "if price < 5000 :\n",
        "    print(\"I can buy a Jacket\")\n",
        "elif price > 5000 and price <= 10000 :\n",
        "    print(\"I can buy a shirt and Jacket\")\n",
        "elif price > 10000 :\n",
        "    print(\"I can buy 2 pairs\")\n",
        "else :\n",
        "    print(\"leave it\")\n"
      ]
    },
    {
      "cell_type": "code",
      "execution_count": null,
      "id": "613f4306",
      "metadata": {
        "id": "613f4306"
      },
      "outputs": [],
      "source": [
        "l=[[2,56,43],['sad','sad',234,'forty','rest',734],[2-8j,3.065,7,'tinku'],'welcome']\n",
        "l.insert(2,[12,39,67])\n",
        "\n",
        "print(l,'\\n')\n",
        "print('Q1')\n",
        "for i in l :\n",
        "    if type(i) == list :\n",
        "        \n",
        "        for j in range(len(i)) :\n",
        "            if type(i[j]) == str :\n",
        "                print('Sublist :',i,'\\n','index= ',j,', value = ',i[j],'\\n')\n",
        "                \n",
        "print(l,'\\n' )\n",
        "print('Q2')\n",
        "for i in l :\n",
        "    if type(i) == list :\n",
        "        for j in range(len(i)) :\n",
        "            if type(i[j]) == str :\n",
        "                i[j]=' '\n",
        "                \n",
        "                \n",
        "print('final list after removing all str in nested list:',l)\n"
      ]
    },
    {
      "cell_type": "code",
      "execution_count": null,
      "id": "ea655cf9",
      "metadata": {
        "id": "ea655cf9"
      },
      "outputs": [],
      "source": [
        "#3. Write a Python program to display calendar?\n",
        "\n",
        "import calendar\n",
        "n=int(input('Type 1 for monthly calendar or Type 2 for yearly calendar'))\n",
        "\n",
        "if n==1 :\n",
        "    yy=int(input('Enter the Year: '))\n",
        "    mm=int(input('Enter the month number: '))\n",
        "    print(calendar.month(yy,mm))\n",
        "elif n==2:\n",
        "    yy=int(input('Enter the Year: '))\n",
        "    for m in range(1,13):\n",
        "        print(calendar.month(yy,m))\n",
        "        \n",
        "#Doubt: Can i change the layout of the o/p?for example, 3 months in a row\n"
      ]
    },
    {
      "cell_type": "code",
      "execution_count": null,
      "id": "b12ffa80",
      "metadata": {
        "id": "b12ffa80"
      },
      "outputs": [],
      "source": [
        "Marks = int(input())\n",
        "if Marks > 600 :\n",
        "    print(\"I am pass in GRE\")\n",
        "elif Marks<600 or Marks>=500:\n",
        "        print(\"I am pass in TOFEL\")\n",
        "elif Marks<=500 or Marks>=400:\n",
        "        print(\"I am pass in Python\")\n",
        "else :\n",
        "    print(\"please try further examination\")\n"
      ]
    },
    {
      "cell_type": "code",
      "execution_count": null,
      "id": "235bbaaf",
      "metadata": {
        "id": "235bbaaf"
      },
      "outputs": [],
      "source": [
        "marks = int(input())\n",
        "\n",
        "if marks < 600:\n",
        "    print('No Gre admission')\n",
        "    if marks < 500:\n",
        "        print('TOEFL')\n",
        "    elif marks < 400:\n",
        "        print('try something else')\n",
        "    else:\n",
        "        print('got ')\n",
        "else:\n",
        "    print('gre admission')\n"
      ]
    },
    {
      "cell_type": "code",
      "execution_count": null,
      "id": "aa06f54e",
      "metadata": {
        "id": "aa06f54e"
      },
      "outputs": [],
      "source": [
        "l = [3,4,5,6,7 , [23,456,67,8,78,78] , [345,56,87,8,98,9] , (234,6657,6) , {\"key1\" :\"sudh\" , 234:[23,45,656]}]\n",
        "\n",
        "l[-1]['key1']"
      ]
    },
    {
      "cell_type": "code",
      "execution_count": null,
      "id": "a84cdf80",
      "metadata": {
        "id": "a84cdf80"
      },
      "outputs": [],
      "source": [
        "l=[1,2,3,4,5,\"sudh\",23.55]\n",
        "l1 = []\n",
        "for i in l:\n",
        "    if type(i)==int:\n",
        "        l1.append(i)\n"
      ]
    },
    {
      "cell_type": "code",
      "execution_count": null,
      "id": "0742c290",
      "metadata": {
        "id": "0742c290",
        "outputId": "28cca8e5-6d20-4f8c-8c73-df44cfe152f3"
      },
      "outputs": [
        {
          "data": {
            "text/plain": [
              "[1, 2, 3, 4, 5]"
            ]
          },
          "execution_count": 2,
          "metadata": {},
          "output_type": "execute_result"
        }
      ],
      "source": [
        "l1"
      ]
    },
    {
      "cell_type": "code",
      "execution_count": null,
      "id": "563f5a58",
      "metadata": {
        "id": "563f5a58",
        "outputId": "757c267f-12d2-4f5b-ae10-2ef30c6812c1"
      },
      "outputs": [
        {
          "name": "stdout",
          "output_type": "stream",
          "text": [
            "nothing \n"
          ]
        }
      ],
      "source": [
        "a=10\n",
        "b=11\n",
        "c=12\n",
        "d=12\n",
        "if a==9 or (b==11 and c==12 and d==13):\n",
        "    print(\"lets do something\")\n",
        "else :\n",
        "    print(\"nothing \")"
      ]
    },
    {
      "cell_type": "code",
      "execution_count": null,
      "id": "e013b376",
      "metadata": {
        "id": "e013b376",
        "outputId": "bb3c73ee-0118-4904-ccb2-f757a25e930d"
      },
      "outputs": [
        {
          "name": "stdout",
          "output_type": "stream",
          "text": [
            "all the values are verified\n",
            "dict_values(['value', 'sudh', 'ineuron'])\n"
          ]
        }
      ],
      "source": [
        "d ={\"key1\": \"value\", \"key2\":\"sudh\",\"key3\":\"ineuron\"}\n",
        "if d['key1'] == \"value\" and d['key2'] == \"sudh\" and d['key3'] == \"ineuron\":\n",
        "    print(\"all the values are verified\")\n",
        "    print(d.values())\n"
      ]
    },
    {
      "cell_type": "code",
      "execution_count": null,
      "id": "cd41b43b",
      "metadata": {
        "id": "cd41b43b"
      },
      "outputs": [],
      "source": [
        "l = [{'key1': 'sudh', 234: [23, 45, 656]},\n",
        " (234, 6657, 6),\n",
        " [345, 56, 87, 8, 98, 9],\n",
        " [23, 456, 67, 8, 78, 78],\n",
        " 7,\n",
        " 6,\n",
        " 5,\n",
        " 4,\n",
        " 3]\n"
      ]
    },
    {
      "cell_type": "code",
      "execution_count": null,
      "id": "6e8f4bc4",
      "metadata": {
        "id": "6e8f4bc4",
        "outputId": "42a90fdc-f28c-4d4f-fb04-1d9da9a10960"
      },
      "outputs": [
        {
          "data": {
            "text/plain": [
              "['key1', 234]"
            ]
          },
          "execution_count": 13,
          "metadata": {},
          "output_type": "execute_result"
        }
      ],
      "source": [
        "list(l[0].keys())"
      ]
    },
    {
      "cell_type": "code",
      "execution_count": null,
      "id": "be54ae3b",
      "metadata": {
        "id": "be54ae3b",
        "outputId": "23c2163f-f500-476b-f9c0-889babcb98a4"
      },
      "outputs": [
        {
          "name": "stdout",
          "output_type": "stream",
          "text": [
            "['key1', 234]\n"
          ]
        }
      ],
      "source": [
        "for i in l :\n",
        "    if type(i) == dict :\n",
        "        print(list(i.keys()))"
      ]
    },
    {
      "cell_type": "code",
      "execution_count": null,
      "id": "9c8bd9a3",
      "metadata": {
        "id": "9c8bd9a3",
        "outputId": "a9a37106-b76c-4d30-f8d6-00fcc5d1e0a7"
      },
      "outputs": [
        {
          "name": "stdout",
          "output_type": "stream",
          "text": [
            "The original list : [3, 5, 6, 8, 10]\n",
            "The list of missing elements : [0, 1, 2, 4, 7, 9]\n"
          ]
        }
      ],
      "source": [
        "test_list = [3, 5, 6, 8, 10]\n",
        "  \n",
        "# printing original list\n",
        "print(\"The original list : \" + str(test_list))\n",
        "  \n",
        "# using list comprehension\n",
        "# Finding missing elements in List\n",
        "res = [ele for ele in range(max(test_list)+1) if ele not in test_list]\n",
        "  \n",
        "# print result\n",
        "print(\"The list of missing elements : \" + str(res))\n"
      ]
    },
    {
      "cell_type": "code",
      "execution_count": null,
      "id": "5955ca8c",
      "metadata": {
        "id": "5955ca8c"
      },
      "outputs": [],
      "source": [
        "Q. Identify the three blocks in this code:\n",
        "spam = 0\n",
        "if spam == 10:\n",
        "    print('eggs')\n",
        "\n",
        "if spam >5:\n",
        "    print('bacon')\n",
        "else:\n",
        "    print('ham')\n",
        "print('spam')\n",
        "print('spam')\n"
      ]
    },
    {
      "cell_type": "code",
      "execution_count": null,
      "id": "bdc810ea",
      "metadata": {
        "id": "bdc810ea",
        "outputId": "9c985a5a-ce72-498d-cebd-9b80d98b5629"
      },
      "outputs": [
        {
          "data": {
            "text/plain": [
              "dict_values(['surendra', 'sudh', 'ineuron'])"
            ]
          },
          "execution_count": 20,
          "metadata": {},
          "output_type": "execute_result"
        }
      ],
      "source": [
        "d={'key1':\"surendra\", 'key2':\"sudh\", 'key3':\"ineuron\"}\n",
        "\n",
        "d.values()"
      ]
    },
    {
      "cell_type": "code",
      "execution_count": null,
      "id": "59f0fc3b",
      "metadata": {
        "id": "59f0fc3b",
        "outputId": "90a08f4f-1b9d-434f-ac37-187a7eaad37e"
      },
      "outputs": [
        {
          "name": "stdout",
          "output_type": "stream",
          "text": [
            "300\n",
            "i will be able to buy somthing\n",
            "i will be able to buy a jacket\n"
          ]
        }
      ],
      "source": [
        "price = int(input())\n",
        "if price < 500:\n",
        "    print(\"i will be able to buy somthing\")\n",
        "    if price < 300 :\n",
        "        print(\"i will be able to buy a shirt\")    \n",
        "    elif price < 400 :\n",
        "        print(\"i will be able to buy a jacket\")\n",
        "        if price < 200 :\n",
        "            print(\"i would like to do somthig\")\n",
        "    else :\n",
        "        print(\"i wont be able to buy anything\")\n",
        "else :\n",
        "    print(\"i wont be able to buy anything with this price tag\")\n",
        "    if price > 500:\n",
        "        print(\"lets try something else\")\n"
      ]
    },
    {
      "cell_type": "code",
      "execution_count": null,
      "id": "2238fbb2",
      "metadata": {
        "id": "2238fbb2",
        "outputId": "b2d89323-8c67-4839-cbb0-6eb2f59ec0d4"
      },
      "outputs": [
        {
          "name": "stdout",
          "output_type": "stream",
          "text": [
            "2\n",
            "3\n",
            "trip\n"
          ]
        },
        {
          "ename": "TypeError",
          "evalue": "list indices must be integers or slices, not str",
          "output_type": "error",
          "traceback": [
            "\u001b[1;31m---------------------------------------------------------------------------\u001b[0m",
            "\u001b[1;31mTypeError\u001b[0m                                 Traceback (most recent call last)",
            "\u001b[1;32m~\\AppData\\Local\\Temp/ipykernel_20492/336476774.py\u001b[0m in \u001b[0;36m<module>\u001b[1;34m\u001b[0m\n\u001b[0;32m      1\u001b[0m \u001b[0ml\u001b[0m\u001b[1;33m=\u001b[0m\u001b[1;33m[\u001b[0m\u001b[1;36m1\u001b[0m\u001b[1;33m,\u001b[0m\u001b[1;36m2\u001b[0m\u001b[1;33m,\u001b[0m\u001b[1;36m3\u001b[0m\u001b[1;33m,\u001b[0m\u001b[1;34m\"trip\"\u001b[0m\u001b[1;33m,\u001b[0m\u001b[1;36m234.6\u001b[0m\u001b[1;33m]\u001b[0m\u001b[1;33m\u001b[0m\u001b[1;33m\u001b[0m\u001b[0m\n\u001b[0;32m      2\u001b[0m \u001b[1;32mfor\u001b[0m \u001b[0mi\u001b[0m \u001b[1;32min\u001b[0m \u001b[0ml\u001b[0m\u001b[1;33m:\u001b[0m\u001b[1;33m\u001b[0m\u001b[1;33m\u001b[0m\u001b[0m\n\u001b[1;32m----> 3\u001b[1;33m     \u001b[0mprint\u001b[0m\u001b[1;33m(\u001b[0m\u001b[0ml\u001b[0m\u001b[1;33m[\u001b[0m\u001b[0mi\u001b[0m\u001b[1;33m]\u001b[0m\u001b[1;33m)\u001b[0m\u001b[1;33m\u001b[0m\u001b[1;33m\u001b[0m\u001b[0m\n\u001b[0m",
            "\u001b[1;31mTypeError\u001b[0m: list indices must be integers or slices, not str"
          ]
        }
      ],
      "source": [
        "l=[1,2,3,\"trip\",234.6]\n",
        "for i in l:\n",
        "    print(l[i])\n"
      ]
    },
    {
      "cell_type": "code",
      "execution_count": null,
      "id": "98c002c0",
      "metadata": {
        "id": "98c002c0",
        "outputId": "9548ca22-d0f2-4761-d2cc-79d5d360bcb1"
      },
      "outputs": [
        {
          "name": "stdout",
          "output_type": "stream",
          "text": [
            "345\n",
            "no GRE\n",
            "ToFEl\n"
          ]
        }
      ],
      "source": [
        "marks=int(input())\n",
        "if marks>600:\n",
        "    print('i would get admission in GRE')\n",
        "elif marks< 600:\n",
        "    print(\"no GRE\")\n",
        "    if marks< 500:\n",
        "        print(\"ToFEl\")\n",
        "    elif marks<400:\n",
        "        print(\"try something else\")\n"
      ]
    },
    {
      "cell_type": "code",
      "execution_count": null,
      "id": "15bf459e",
      "metadata": {
        "id": "15bf459e",
        "outputId": "3eb987c2-89e0-4270-824a-60c4e95b12b6"
      },
      "outputs": [
        {
          "name": "stdout",
          "output_type": "stream",
          "text": [
            " this is Sudh\n"
          ]
        }
      ],
      "source": [
        "a = \"sudh\"\n",
        "if a == \"sudh\" or a == \"Sudh\":\n",
        "    print (\" this is Sudh\")\n",
        "else:\n",
        "    print (\"nothing\")\n"
      ]
    },
    {
      "cell_type": "code",
      "execution_count": null,
      "id": "6fcd969b",
      "metadata": {
        "id": "6fcd969b",
        "outputId": "19711692-0159-43c1-c00f-bb4a7aa6bee2"
      },
      "outputs": [
        {
          "name": "stdout",
          "output_type": "stream",
          "text": [
            "34\n",
            "int\n",
            "invalid\n"
          ]
        }
      ],
      "source": [
        "i = int(input())\n",
        "if type(i) == int : \n",
        "    print(\"int\")\n",
        "if type(i) == float : \n",
        "    print(\"float\") \n",
        "else :\n",
        "    print (\"invalid\")"
      ]
    },
    {
      "cell_type": "code",
      "execution_count": null,
      "id": "a68086a8",
      "metadata": {
        "id": "a68086a8",
        "outputId": "c83f4a78-946f-4479-9867-fb033d7e957f"
      },
      "outputs": [
        {
          "name": "stdout",
          "output_type": "stream",
          "text": [
            "400\n",
            " you can use metro train service\n"
          ]
        }
      ],
      "source": [
        "travel_allowance=int(input()) \n",
        "if travel_allowance>1000 :\n",
        "    print (\"you can use petrol cab\")\n",
        "elif travel_allowance < 500 :\n",
        "    print (\" you can use metro train service\")\n"
      ]
    },
    {
      "cell_type": "code",
      "execution_count": null,
      "id": "6c530883",
      "metadata": {
        "id": "6c530883",
        "outputId": "dafeba9e-b4ca-4d05-dc8e-9e159ad9e909"
      },
      "outputs": [
        {
          "name": "stdout",
          "output_type": "stream",
          "text": [
            "Enter the marks  700\n",
            "tofel\n"
          ]
        }
      ],
      "source": [
        "x=int(input(\"Enter the marks  \"))\n",
        "if x<600:\n",
        "    print(\"no gre\")\n",
        "elif x<500 or x>400:\n",
        "    print(\"tofel\")\n",
        "elif x<400:\n",
        "    print(\"try something else\")\n",
        "else:\n",
        "    print(\"you got tofel\")\n"
      ]
    },
    {
      "cell_type": "code",
      "execution_count": null,
      "id": "31b6857c",
      "metadata": {
        "id": "31b6857c",
        "outputId": "e744a792-ed7c-438e-aec9-bbd942aac72f"
      },
      "outputs": [
        {
          "data": {
            "text/plain": [
              "True"
            ]
          },
          "execution_count": 34,
          "metadata": {},
          "output_type": "execute_result"
        }
      ],
      "source": [
        "x = 100\n",
        "y = 100\n",
        "x is y"
      ]
    },
    {
      "cell_type": "code",
      "execution_count": null,
      "id": "2d80a505",
      "metadata": {
        "id": "2d80a505",
        "outputId": "96a2690d-d04d-48eb-81e9-70be3774b0c8"
      },
      "outputs": [
        {
          "data": {
            "text/plain": [
              "False"
            ]
          },
          "execution_count": 35,
          "metadata": {},
          "output_type": "execute_result"
        }
      ],
      "source": [
        "z = 1000\n",
        "m = 1000\n",
        "m is z"
      ]
    },
    {
      "cell_type": "code",
      "execution_count": null,
      "id": "2cd191fe",
      "metadata": {
        "id": "2cd191fe"
      },
      "outputs": [],
      "source": [
        "l = [1,2,3,4,5]"
      ]
    },
    {
      "cell_type": "code",
      "execution_count": null,
      "id": "d111e76a",
      "metadata": {
        "id": "d111e76a",
        "outputId": "03cd723f-0607-4964-8861-40bbaed2bf9b"
      },
      "outputs": [
        {
          "data": {
            "text/plain": [
              "15"
            ]
          },
          "execution_count": 37,
          "metadata": {},
          "output_type": "execute_result"
        }
      ],
      "source": [
        "sum(l)"
      ]
    },
    {
      "cell_type": "code",
      "execution_count": null,
      "id": "41a8bac1",
      "metadata": {
        "id": "41a8bac1"
      },
      "outputs": [],
      "source": [
        "t = (\"a\", 658, \"sudh\", 23.45) "
      ]
    },
    {
      "cell_type": "code",
      "execution_count": null,
      "id": "c30647ed",
      "metadata": {
        "id": "c30647ed",
        "outputId": "3c2961dc-7bd0-4fe5-c14c-665b3a94a0e2"
      },
      "outputs": [
        {
          "name": "stdout",
          "output_type": "stream",
          "text": [
            "Enter a floating point number 345.67\n",
            "Entered values is positive number\n"
          ]
        }
      ],
      "source": [
        "val = float(input(\"Enter a floating point number \"))\n",
        "\n",
        "if val >=0:\n",
        "    if val ==0:\n",
        "        print(\"Entered value is zero\")\n",
        "    elif val < 0:\n",
        "        print(\"Number is smaller than zero\")\n",
        "    else:\n",
        "        print(\"Entered values is positive number\")\n",
        "else:\n",
        "    print(\"None\")\n"
      ]
    },
    {
      "cell_type": "code",
      "execution_count": null,
      "id": "4e0171e4",
      "metadata": {
        "id": "4e0171e4",
        "outputId": "1ec0f9a4-aab6-4b77-a6c4-6afa772b81bc"
      },
      "outputs": [
        {
          "name": "stdout",
          "output_type": "stream",
          "text": [
            "6\n",
            "7\n",
            "8\n",
            "9\n",
            "10\n"
          ]
        },
        {
          "ename": "AttributeError",
          "evalue": "'list' object has no attribute 'replace'",
          "output_type": "error",
          "traceback": [
            "\u001b[1;31m---------------------------------------------------------------------------\u001b[0m",
            "\u001b[1;31mAttributeError\u001b[0m                            Traceback (most recent call last)",
            "\u001b[1;32m~\\AppData\\Local\\Temp/ipykernel_20492/3336393149.py\u001b[0m in \u001b[0;36m<module>\u001b[1;34m\u001b[0m\n\u001b[0;32m      7\u001b[0m             \u001b[0mprint\u001b[0m\u001b[1;33m(\u001b[0m\u001b[0mi\u001b[0m\u001b[1;33m+\u001b[0m\u001b[1;36m10\u001b[0m\u001b[1;33m)\u001b[0m\u001b[1;33m\u001b[0m\u001b[1;33m\u001b[0m\u001b[0m\n\u001b[0;32m      8\u001b[0m     \u001b[1;32melif\u001b[0m \u001b[0mtype\u001b[0m\u001b[1;33m(\u001b[0m\u001b[0mi\u001b[0m\u001b[1;33m)\u001b[0m\u001b[1;33m==\u001b[0m\u001b[0mstr\u001b[0m\u001b[1;33m:\u001b[0m\u001b[1;33m\u001b[0m\u001b[1;33m\u001b[0m\u001b[0m\n\u001b[1;32m----> 9\u001b[1;33m         \u001b[0mprint\u001b[0m\u001b[1;33m(\u001b[0m\u001b[0ml\u001b[0m\u001b[1;33m.\u001b[0m\u001b[0mreplace\u001b[0m\u001b[1;33m(\u001b[0m\u001b[1;34m\"ineuron\"\u001b[0m\u001b[1;33m)\u001b[0m\u001b[1;33m)\u001b[0m\u001b[1;33m\u001b[0m\u001b[1;33m\u001b[0m\u001b[0m\n\u001b[0m",
            "\u001b[1;31mAttributeError\u001b[0m: 'list' object has no attribute 'replace'"
          ]
        }
      ],
      "source": [
        "l= [1,2,3,4,5,\"sudh\", 234.45]\n",
        "\n",
        "for i in l:\n",
        "    if type(i)== int:\n",
        "        print(i+5)\n",
        "    elif type(i)==float:\n",
        "            print(i+10)\n",
        "    elif type(i)==str:\n",
        "        print(l.replace(\"ineuron\"))\n"
      ]
    },
    {
      "cell_type": "code",
      "execution_count": null,
      "id": "e58a4c2e",
      "metadata": {
        "id": "e58a4c2e",
        "outputId": "412b6633-9f20-4e20-ae6d-26f1f23f0323"
      },
      "outputs": [
        {
          "name": "stdout",
          "output_type": "stream",
          "text": [
            "sum 500\n"
          ]
        }
      ],
      "source": [
        "d = {\"a\":200,\"b\":300}\n",
        "s =sum(d.values())\n",
        "print(\"sum\",s)"
      ]
    },
    {
      "cell_type": "code",
      "execution_count": null,
      "id": "5c5df21a",
      "metadata": {
        "id": "5c5df21a",
        "outputId": "9dbfd3e4-6a3a-4092-fcba-095419c61ea7"
      },
      "outputs": [
        {
          "name": "stdout",
          "output_type": "stream",
          "text": [
            "this is an interger\n"
          ]
        }
      ],
      "source": [
        "def number(i):\n",
        "    if type(i) == int:\n",
        "        print(\"this is an interger\")\n",
        "    elif type(i) == float:\n",
        "        print(\"this is a float\")\n",
        "    else:\n",
        "        print(\"Invalid\")\n",
        "\n",
        "number(5)\n"
      ]
    },
    {
      "cell_type": "code",
      "execution_count": null,
      "id": "fa755965",
      "metadata": {
        "id": "fa755965",
        "outputId": "b90f440a-5a93-4c78-e098-31d35c913091"
      },
      "outputs": [
        {
          "name": "stdout",
          "output_type": "stream",
          "text": [
            "456\n",
            "Didn't clear Gre\n",
            "Tofel\n"
          ]
        }
      ],
      "source": [
        "\n",
        "m=int(input())\n",
        "if m>600:\n",
        "    print(\"I will be able to clear Gre\")\n",
        "elif m<=600:\n",
        "    print(\"Didn't clear Gre\")\n",
        "    if m<500 and m>=400:\n",
        "        print(\"Tofel\")\n",
        "    elif m<400:\n",
        "        print(\"try something else\")\n"
      ]
    },
    {
      "cell_type": "code",
      "execution_count": null,
      "id": "3bb2e21b",
      "metadata": {
        "id": "3bb2e21b"
      },
      "outputs": [],
      "source": []
    }
  ],
  "metadata": {
    "kernelspec": {
      "display_name": "Python 3 (ipykernel)",
      "language": "python",
      "name": "python3"
    },
    "language_info": {
      "codemirror_mode": {
        "name": "ipython",
        "version": 3
      },
      "file_extension": ".py",
      "mimetype": "text/x-python",
      "name": "python",
      "nbconvert_exporter": "python",
      "pygments_lexer": "ipython3",
      "version": "3.9.7"
    },
    "colab": {
      "provenance": [],
      "include_colab_link": true
    }
  },
  "nbformat": 4,
  "nbformat_minor": 5
}