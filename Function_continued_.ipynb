{
  "cells": [
    {
      "cell_type": "markdown",
      "metadata": {
        "id": "view-in-github",
        "colab_type": "text"
      },
      "source": [
        "<a href=\"https://colab.research.google.com/github/sourav263/Theory-/blob/main/Function_continued_.ipynb\" target=\"_parent\"><img src=\"https://colab.research.google.com/assets/colab-badge.svg\" alt=\"Open In Colab\"/></a>"
      ]
    },
    {
      "cell_type": "code",
      "execution_count": null,
      "id": "8c4ac194",
      "metadata": {
        "id": "8c4ac194"
      },
      "outputs": [],
      "source": [
        "def test(a , b) :\n",
        "    \"\"\"this is my function for concatination or addition \"\"\"\n",
        "    return a + b\n",
        "    "
      ]
    },
    {
      "cell_type": "code",
      "execution_count": null,
      "id": "57c9e144",
      "metadata": {
        "id": "57c9e144",
        "outputId": "282235fe-4a9e-4915-a362-0a92e3efa012"
      },
      "outputs": [
        {
          "data": {
            "text/plain": [
              "10"
            ]
          },
          "execution_count": 10,
          "metadata": {},
          "output_type": "execute_result"
        }
      ],
      "source": [
        "test(4,6)"
      ]
    },
    {
      "cell_type": "code",
      "execution_count": null,
      "id": "4a8f16e3",
      "metadata": {
        "id": "4a8f16e3",
        "outputId": "73162139-9351-4c47-b2c8-84db7f97b590"
      },
      "outputs": [
        {
          "data": {
            "text/plain": [
              "'sudhkumar'"
            ]
          },
          "execution_count": 4,
          "metadata": {},
          "output_type": "execute_result"
        }
      ],
      "source": [
        "test(\"sudh\" , \"kumar\")"
      ]
    },
    {
      "cell_type": "code",
      "execution_count": null,
      "id": "b2c7ba78",
      "metadata": {
        "id": "b2c7ba78",
        "outputId": "da19f824-1d2e-4f36-8197-26290f0d881c"
      },
      "outputs": [
        {
          "data": {
            "text/plain": [
              "15"
            ]
          },
          "execution_count": 5,
          "metadata": {},
          "output_type": "execute_result"
        }
      ],
      "source": [
        "test(a = 9  , b = 6 )"
      ]
    },
    {
      "cell_type": "code",
      "execution_count": null,
      "id": "8dfdf9f5",
      "metadata": {
        "id": "8dfdf9f5",
        "outputId": "0f4f65d1-7274-444f-dee3-9462773508fd"
      },
      "outputs": [
        {
          "data": {
            "text/plain": [
              "48"
            ]
          },
          "execution_count": 6,
          "metadata": {},
          "output_type": "execute_result"
        }
      ],
      "source": [
        "test(b = 45 , a = 3)"
      ]
    },
    {
      "cell_type": "code",
      "execution_count": null,
      "id": "efdfc7a0",
      "metadata": {
        "id": "efdfc7a0"
      },
      "outputs": [],
      "source": [
        "print()"
      ]
    },
    {
      "cell_type": "code",
      "execution_count": null,
      "id": "dd9fd2e6",
      "metadata": {
        "id": "dd9fd2e6"
      },
      "outputs": [],
      "source": [
        "def test1(a,b,c,d,e) :\n",
        "    return a ,b ,c,d,e\n",
        "    "
      ]
    },
    {
      "cell_type": "code",
      "execution_count": null,
      "id": "21deeecc",
      "metadata": {
        "id": "21deeecc",
        "outputId": "de13590b-8b2c-429a-f6c8-e49db51c4a60"
      },
      "outputs": [
        {
          "ename": "TypeError",
          "evalue": "test1() missing 1 required positional argument: 'e'",
          "output_type": "error",
          "traceback": [
            "\u001b[1;31m---------------------------------------------------------------------------\u001b[0m",
            "\u001b[1;31mTypeError\u001b[0m                                 Traceback (most recent call last)",
            "\u001b[1;32m~\\AppData\\Local\\Temp/ipykernel_7960/2630490214.py\u001b[0m in \u001b[0;36m<module>\u001b[1;34m\u001b[0m\n\u001b[1;32m----> 1\u001b[1;33m \u001b[0mtest1\u001b[0m\u001b[1;33m(\u001b[0m\u001b[1;36m3\u001b[0m\u001b[1;33m,\u001b[0m\u001b[1;36m4\u001b[0m\u001b[1;33m,\u001b[0m\u001b[1;36m5\u001b[0m\u001b[1;33m,\u001b[0m\u001b[1;36m6\u001b[0m\u001b[1;33m)\u001b[0m\u001b[1;33m\u001b[0m\u001b[1;33m\u001b[0m\u001b[0m\n\u001b[0m",
            "\u001b[1;31mTypeError\u001b[0m: test1() missing 1 required positional argument: 'e'"
          ]
        }
      ],
      "source": [
        "test1(3,4,5,6)"
      ]
    },
    {
      "cell_type": "code",
      "execution_count": null,
      "id": "e4bbced7",
      "metadata": {
        "id": "e4bbced7"
      },
      "outputs": [],
      "source": [
        "def test(*a):\n",
        "    return a"
      ]
    },
    {
      "cell_type": "code",
      "execution_count": null,
      "id": "1c32c74c",
      "metadata": {
        "id": "1c32c74c",
        "outputId": "ea3306ba-3d41-4d34-a1b7-2051b2c33e79"
      },
      "outputs": [
        {
          "data": {
            "text/plain": [
              "(34, 56)"
            ]
          },
          "execution_count": 16,
          "metadata": {},
          "output_type": "execute_result"
        }
      ],
      "source": [
        "test(34,56)"
      ]
    },
    {
      "cell_type": "code",
      "execution_count": null,
      "id": "a1622430",
      "metadata": {
        "id": "a1622430",
        "outputId": "85ab88d5-0467-4316-8819-daf8716c010f"
      },
      "outputs": [
        {
          "data": {
            "text/plain": [
              "(2, 3, 4, 4)"
            ]
          },
          "execution_count": 17,
          "metadata": {},
          "output_type": "execute_result"
        }
      ],
      "source": [
        "test(2,3,4,4)"
      ]
    },
    {
      "cell_type": "code",
      "execution_count": null,
      "id": "cb36ee2e",
      "metadata": {
        "id": "cb36ee2e",
        "outputId": "022d39a5-a8a6-4743-e1cd-f3eaafbdd840"
      },
      "outputs": [
        {
          "data": {
            "text/plain": [
              "(4, 5, 6, 6, 6, [3, 4, 5, 5, 5, 6])"
            ]
          },
          "execution_count": 18,
          "metadata": {},
          "output_type": "execute_result"
        }
      ],
      "source": [
        "test(4,5,6,6,6,[3,4,5,5,5,6])"
      ]
    },
    {
      "cell_type": "code",
      "execution_count": null,
      "id": "035bb9ff",
      "metadata": {
        "id": "035bb9ff"
      },
      "outputs": [],
      "source": [
        "def test4(*args):\n",
        "    return args"
      ]
    },
    {
      "cell_type": "code",
      "execution_count": null,
      "id": "15c5b0af",
      "metadata": {
        "id": "15c5b0af",
        "outputId": "8ba39841-4d64-4abf-997b-5240c6b4327d"
      },
      "outputs": [
        {
          "data": {
            "text/plain": [
              "(34, 56, 6, 76, 7)"
            ]
          },
          "execution_count": 20,
          "metadata": {},
          "output_type": "execute_result"
        }
      ],
      "source": [
        "test4(34,56,6,76,7)"
      ]
    },
    {
      "cell_type": "code",
      "execution_count": null,
      "id": "35ff9563",
      "metadata": {
        "id": "35ff9563"
      },
      "outputs": [],
      "source": [
        "def test5(*a) :\n",
        "    l = []\n",
        "    for i in a :\n",
        "        l.append(i)\n",
        "    return l"
      ]
    },
    {
      "cell_type": "code",
      "execution_count": null,
      "id": "5cb6b9a9",
      "metadata": {
        "id": "5cb6b9a9",
        "outputId": "10e2fe85-105f-46b3-bd66-69015c731b80"
      },
      "outputs": [
        {
          "data": {
            "text/plain": [
              "[2, 3, 4, 45, 5, [345, 56, 5, 6]]"
            ]
          },
          "execution_count": 22,
          "metadata": {},
          "output_type": "execute_result"
        }
      ],
      "source": [
        "test5(2,3,4,45,5,[345,56,5,6])"
      ]
    },
    {
      "cell_type": "code",
      "execution_count": null,
      "id": "a7d303e8",
      "metadata": {
        "id": "a7d303e8",
        "outputId": "250b73f5-1d36-4000-803a-f743aed20e48"
      },
      "outputs": [
        {
          "data": {
            "text/plain": [
              "[3, 4, 5, 56]"
            ]
          },
          "execution_count": 23,
          "metadata": {},
          "output_type": "execute_result"
        }
      ],
      "source": [
        "test5(3,4,5,56)"
      ]
    },
    {
      "cell_type": "code",
      "execution_count": null,
      "id": "6506865d",
      "metadata": {
        "id": "6506865d"
      },
      "outputs": [],
      "source": [
        "def test6(a,b,c,d , *m):\n",
        "    return a , b, c,d, m"
      ]
    },
    {
      "cell_type": "code",
      "execution_count": null,
      "id": "9e46bda9",
      "metadata": {
        "id": "9e46bda9",
        "outputId": "8968440f-c67e-42bc-d6d4-79e9ae49ae29"
      },
      "outputs": [
        {
          "data": {
            "text/plain": [
              "(3, 4, 5, 5, (6, 6, 7, 7, 8, 8))"
            ]
          },
          "execution_count": 25,
          "metadata": {},
          "output_type": "execute_result"
        }
      ],
      "source": [
        "test6(3,4,5,5,6,6,7,7,8,8)"
      ]
    },
    {
      "cell_type": "code",
      "execution_count": null,
      "id": "dbcee1ef",
      "metadata": {
        "id": "dbcee1ef"
      },
      "outputs": [],
      "source": [
        "def test7(*m,a,b,c,d,e):\n",
        "    return m , a,b,c,d,e"
      ]
    },
    {
      "cell_type": "code",
      "execution_count": null,
      "id": "48971316",
      "metadata": {
        "id": "48971316",
        "outputId": "4a9f078d-137b-48b6-8b4b-e7a1dda7ea66"
      },
      "outputs": [
        {
          "data": {
            "text/plain": [
              "((4, 5, 65, 6, 6, 7, 7, 56), 67, 34, 54, 67, 78)"
            ]
          },
          "execution_count": 29,
          "metadata": {},
          "output_type": "execute_result"
        }
      ],
      "source": [
        "test7(4,5,65,6,6,7,7,56,a = 67,b  = 34,c = 54,d= 67,e = 78)"
      ]
    },
    {
      "cell_type": "code",
      "execution_count": null,
      "id": "93d66303",
      "metadata": {
        "id": "93d66303"
      },
      "outputs": [],
      "source": [
        "def test8(**sudh):\n",
        "    return sudh"
      ]
    },
    {
      "cell_type": "code",
      "execution_count": null,
      "id": "f81d76f0",
      "metadata": {
        "id": "f81d76f0",
        "outputId": "af8fc3a6-1518-4ef7-ecd8-043a34b0c73c"
      },
      "outputs": [
        {
          "data": {
            "text/plain": [
              "{'b': 4, 'c': 5, 'd': 6, 'e': 6, 'n': [3, 4, 45, 5, 6, 6, 6]}"
            ]
          },
          "execution_count": 39,
          "metadata": {},
          "output_type": "execute_result"
        }
      ],
      "source": [
        "test8(b = 4,c = 5,d =  6,e = 6 , n = [3,4,45,5,6,6,6])"
      ]
    },
    {
      "cell_type": "code",
      "execution_count": null,
      "id": "df0bb162",
      "metadata": {
        "id": "df0bb162"
      },
      "outputs": [],
      "source": [
        "def test11(*m):\n",
        "    n=1\n",
        "    for i in m:\n",
        "        if type(i)==int:\n",
        "            n=n*i\n",
        "        return n\n"
      ]
    },
    {
      "cell_type": "code",
      "execution_count": null,
      "id": "3861be80",
      "metadata": {
        "id": "3861be80"
      },
      "outputs": [],
      "source": [
        "test11(2,3,4,5,6,7,8)\n"
      ]
    },
    {
      "cell_type": "code",
      "execution_count": null,
      "id": "27ecf375",
      "metadata": {
        "id": "27ecf375"
      },
      "outputs": [],
      "source": []
    },
    {
      "cell_type": "code",
      "execution_count": null,
      "id": "8f4b1257",
      "metadata": {
        "id": "8f4b1257"
      },
      "outputs": [],
      "source": [
        "d = {'b': 4, 'c': 5, 'd': 6, 'e': 6}"
      ]
    },
    {
      "cell_type": "code",
      "execution_count": null,
      "id": "f70f758c",
      "metadata": {
        "id": "f70f758c",
        "outputId": "f09c51bd-5cc1-415c-88d4-7ef33075d04e"
      },
      "outputs": [
        {
          "ename": "TypeError",
          "evalue": "test8() takes 0 positional arguments but 1 was given",
          "output_type": "error",
          "traceback": [
            "\u001b[1;31m---------------------------------------------------------------------------\u001b[0m",
            "\u001b[1;31mTypeError\u001b[0m                                 Traceback (most recent call last)",
            "\u001b[1;32m~\\AppData\\Local\\Temp/ipykernel_7960/2123698705.py\u001b[0m in \u001b[0;36m<module>\u001b[1;34m\u001b[0m\n\u001b[1;32m----> 1\u001b[1;33m \u001b[0mtest8\u001b[0m\u001b[1;33m(\u001b[0m\u001b[0md\u001b[0m\u001b[1;33m)\u001b[0m\u001b[1;33m\u001b[0m\u001b[1;33m\u001b[0m\u001b[0m\n\u001b[0m",
            "\u001b[1;31mTypeError\u001b[0m: test8() takes 0 positional arguments but 1 was given"
          ]
        }
      ],
      "source": [
        "test8(d)"
      ]
    },
    {
      "cell_type": "code",
      "execution_count": null,
      "id": "144b1dcf",
      "metadata": {
        "id": "144b1dcf"
      },
      "outputs": [],
      "source": [
        "def test9(*m , **s) :\n",
        "    return m , s"
      ]
    },
    {
      "cell_type": "code",
      "execution_count": null,
      "id": "a4644925",
      "metadata": {
        "id": "a4644925",
        "outputId": "e8cd3486-a69d-4a50-ebb1-e2c680158ffc"
      },
      "outputs": [
        {
          "data": {
            "text/plain": [
              "((345, 45, 56, 5, 6, 56), {'b': 4, 'c': 6, 'd': 7, 'g': 9})"
            ]
          },
          "execution_count": 42,
          "metadata": {},
          "output_type": "execute_result"
        }
      ],
      "source": [
        "test9(345,45,56,5,6,56,b= 4,c= 6, d = 7 , g = 9)"
      ]
    },
    {
      "cell_type": "code",
      "execution_count": null,
      "id": "7967d620",
      "metadata": {
        "id": "7967d620"
      },
      "outputs": [],
      "source": [
        "def test10(*m):\n",
        "    n = 0\n",
        "    for i in m :\n",
        "        if type(i) == int :\n",
        "            n = n+i\n",
        "    return n\n",
        "            "
      ]
    },
    {
      "cell_type": "code",
      "execution_count": null,
      "id": "3aa2bfb8",
      "metadata": {
        "id": "3aa2bfb8",
        "outputId": "3a5a7865-bc0d-4faa-9938-b5b0725279b9"
      },
      "outputs": [
        {
          "data": {
            "text/plain": [
              "31"
            ]
          },
          "execution_count": 45,
          "metadata": {},
          "output_type": "execute_result"
        }
      ],
      "source": [
        "test10(2,3,4,5,5,6,6)"
      ]
    },
    {
      "cell_type": "code",
      "execution_count": null,
      "id": "5fdeb17d",
      "metadata": {
        "id": "5fdeb17d",
        "outputId": "1b3c0e0d-b117-4352-dc7b-1c149ef64666"
      },
      "outputs": [
        {
          "data": {
            "text/plain": [
              "9"
            ]
          },
          "execution_count": 46,
          "metadata": {},
          "output_type": "execute_result"
        }
      ],
      "source": [
        "test10(2,3,4)"
      ]
    },
    {
      "cell_type": "code",
      "execution_count": null,
      "id": "633e2a4d",
      "metadata": {
        "id": "633e2a4d"
      },
      "outputs": [],
      "source": [
        "def test1(*m):\n",
        "    n = 1\n",
        "    for i in m :\n",
        "        if type(i) == int :\n",
        "            n = n*i\n",
        "    return n\n",
        "            "
      ]
    },
    {
      "cell_type": "code",
      "execution_count": null,
      "id": "9a7b3f3c",
      "metadata": {
        "id": "9a7b3f3c",
        "outputId": "81bf1fd8-f658-4838-b282-3049aab6444c"
      },
      "outputs": [
        {
          "data": {
            "text/plain": [
              "3507840"
            ]
          },
          "execution_count": 48,
          "metadata": {},
          "output_type": "execute_result"
        }
      ],
      "source": [
        "test1(4,5,6,6,7,87,8)"
      ]
    },
    {
      "cell_type": "code",
      "execution_count": null,
      "id": "a240987d",
      "metadata": {
        "id": "a240987d"
      },
      "outputs": [],
      "source": [
        "n = lambda a , b : a + b "
      ]
    },
    {
      "cell_type": "code",
      "execution_count": null,
      "id": "24747816",
      "metadata": {
        "id": "24747816",
        "outputId": "50bd4baa-eafe-456d-bc94-03d9f16acd7c"
      },
      "outputs": [
        {
          "data": {
            "text/plain": [
              "9"
            ]
          },
          "execution_count": 52,
          "metadata": {},
          "output_type": "execute_result"
        }
      ],
      "source": [
        "n(4,5)"
      ]
    },
    {
      "cell_type": "code",
      "execution_count": null,
      "id": "1a6f8606",
      "metadata": {
        "id": "1a6f8606"
      },
      "outputs": [],
      "source": [
        "def test5(a,b):\n",
        "    return a + b "
      ]
    },
    {
      "cell_type": "code",
      "execution_count": null,
      "id": "c438cd09",
      "metadata": {
        "id": "c438cd09",
        "outputId": "e171a266-bb05-49a5-d00d-93e3eab05f24"
      },
      "outputs": [
        {
          "data": {
            "text/plain": [
              "9"
            ]
          },
          "execution_count": 54,
          "metadata": {},
          "output_type": "execute_result"
        }
      ],
      "source": [
        "test5(4,5)"
      ]
    },
    {
      "cell_type": "code",
      "execution_count": null,
      "id": "f1274c0b",
      "metadata": {
        "id": "f1274c0b",
        "outputId": "d47c8789-1534-4f9b-a877-7af26444c7c5"
      },
      "outputs": [
        {
          "data": {
            "text/plain": [
              "11"
            ]
          },
          "execution_count": 55,
          "metadata": {},
          "output_type": "execute_result"
        }
      ],
      "source": [
        "n(5,6)"
      ]
    },
    {
      "cell_type": "code",
      "execution_count": null,
      "id": "a33a46c7",
      "metadata": {
        "id": "a33a46c7"
      },
      "outputs": [],
      "source": [
        "b = lambda *sudh : sudh"
      ]
    },
    {
      "cell_type": "code",
      "execution_count": null,
      "id": "8661cc0a",
      "metadata": {
        "id": "8661cc0a",
        "outputId": "87a43a83-291b-4697-88d8-9235febc79b9"
      },
      "outputs": [
        {
          "data": {
            "text/plain": [
              "(45, 5, 4, 5, 5, 6, 677)"
            ]
          },
          "execution_count": 57,
          "metadata": {},
          "output_type": "execute_result"
        }
      ],
      "source": [
        "b(45,5,4,5,5,6,677)"
      ]
    },
    {
      "cell_type": "code",
      "execution_count": null,
      "id": "c9cd5a0a",
      "metadata": {
        "id": "c9cd5a0a"
      },
      "outputs": [],
      "source": [
        "t = (3,4,4,5,5,6,67,7,7)\n",
        "l = []\n",
        "for i in t :\n",
        "    l.append(i)"
      ]
    },
    {
      "cell_type": "code",
      "execution_count": null,
      "id": "8f655ead",
      "metadata": {
        "id": "8f655ead",
        "outputId": "3a506933-eb25-4832-9825-75ab99a47980"
      },
      "outputs": [
        {
          "data": {
            "text/plain": [
              "[3, 4, 4, 5, 5, 6, 67, 7, 7]"
            ]
          },
          "execution_count": 59,
          "metadata": {},
          "output_type": "execute_result"
        }
      ],
      "source": [
        "l"
      ]
    },
    {
      "cell_type": "code",
      "execution_count": null,
      "id": "83753bad",
      "metadata": {
        "id": "83753bad",
        "outputId": "fff22fff-361c-459c-9cab-81184293c02b"
      },
      "outputs": [
        {
          "data": {
            "text/plain": [
              "[3, 4, 4, 5, 5, 6, 67, 7, 7]"
            ]
          },
          "execution_count": 61,
          "metadata": {},
          "output_type": "execute_result"
        }
      ],
      "source": [
        "[i for i in t]"
      ]
    },
    {
      "cell_type": "code",
      "execution_count": null,
      "id": "ee397949",
      "metadata": {
        "id": "ee397949"
      },
      "outputs": [],
      "source": [
        "s = \"sudh\""
      ]
    },
    {
      "cell_type": "code",
      "execution_count": null,
      "id": "aa8d745b",
      "metadata": {
        "id": "aa8d745b",
        "outputId": "b3cb86ed-3560-45f5-fdcb-0cf43a46f1b1"
      },
      "outputs": [
        {
          "data": {
            "text/plain": [
              "['s', 'u', 'd', 'h']"
            ]
          },
          "execution_count": 63,
          "metadata": {},
          "output_type": "execute_result"
        }
      ],
      "source": [
        "[i for i in s ]"
      ]
    },
    {
      "cell_type": "code",
      "execution_count": null,
      "id": "282fb8ab",
      "metadata": {
        "id": "282fb8ab",
        "outputId": "d7339a1f-d420-4a65-eb45-e693b8eeb1ea"
      },
      "outputs": [
        {
          "data": {
            "text/plain": [
              "[0, 1, 4, 9, 16, 25, 36, 49, 64, 81]"
            ]
          },
          "execution_count": 64,
          "metadata": {},
          "output_type": "execute_result"
        }
      ],
      "source": [
        "[i*i for i in range(10)]"
      ]
    },
    {
      "cell_type": "code",
      "execution_count": null,
      "id": "a6312326",
      "metadata": {
        "id": "a6312326"
      },
      "outputs": [],
      "source": [
        "l = []\n",
        "for i in range(10):\n",
        "    l.append(i*i)"
      ]
    },
    {
      "cell_type": "code",
      "execution_count": null,
      "id": "9a63b637",
      "metadata": {
        "id": "9a63b637",
        "outputId": "3b8235b2-0a1d-41d5-babb-7a06f30dc260"
      },
      "outputs": [
        {
          "data": {
            "text/plain": [
              "[0, 1, 4, 9, 16, 25, 36, 49, 64, 81]"
            ]
          },
          "execution_count": 66,
          "metadata": {},
          "output_type": "execute_result"
        }
      ],
      "source": [
        "l\n"
      ]
    },
    {
      "cell_type": "code",
      "execution_count": null,
      "id": "7ab81a42",
      "metadata": {
        "id": "7ab81a42"
      },
      "outputs": [],
      "source": [
        "l = lambda *x : [i**2 for i in x ]"
      ]
    },
    {
      "cell_type": "code",
      "execution_count": null,
      "id": "937a9e1a",
      "metadata": {
        "id": "937a9e1a",
        "outputId": "4f45f077-d3c5-44ba-fad2-26c5660337af"
      },
      "outputs": [
        {
          "data": {
            "text/plain": [
              "[16, 2025, 25, 36, 36, 49, 64, 81]"
            ]
          },
          "execution_count": 70,
          "metadata": {},
          "output_type": "execute_result"
        }
      ],
      "source": [
        "l(4,45,5,6,6,7,8,9)"
      ]
    },
    {
      "cell_type": "code",
      "execution_count": null,
      "id": "fbd6fb88",
      "metadata": {
        "id": "fbd6fb88"
      },
      "outputs": [],
      "source": [
        "test14(a = 7 , b = \"sudh\" , c = 345 , d = \"sudh\" , l = [2,3,4,45 , \"sudh\"])"
      ]
    },
    {
      "cell_type": "code",
      "execution_count": null,
      "id": "dfc97462",
      "metadata": {
        "id": "dfc97462"
      },
      "outputs": [],
      "source": [
        "def test14(**kwargs) : \n",
        "    "
      ]
    },
    {
      "cell_type": "code",
      "execution_count": null,
      "id": "b773de2d",
      "metadata": {
        "id": "b773de2d"
      },
      "outputs": [],
      "source": [
        "l = lambda *x : [i for i in x]\n"
      ]
    },
    {
      "cell_type": "code",
      "execution_count": null,
      "id": "3399aaa6",
      "metadata": {
        "id": "3399aaa6"
      },
      "outputs": [],
      "source": []
    },
    {
      "cell_type": "code",
      "execution_count": null,
      "id": "6236b359",
      "metadata": {
        "id": "6236b359"
      },
      "outputs": [],
      "source": []
    },
    {
      "cell_type": "code",
      "execution_count": null,
      "id": "bcdb3ea2",
      "metadata": {
        "id": "bcdb3ea2"
      },
      "outputs": [],
      "source": []
    },
    {
      "cell_type": "code",
      "execution_count": null,
      "id": "47852a10",
      "metadata": {
        "id": "47852a10"
      },
      "outputs": [],
      "source": [
        "def test14(**kwargs):\n",
        "    count = 0\n",
        "    print(kwargs)\n",
        "    print(kwargs.values())\n",
        "    for v in kwargs.values():\n",
        "        if type(v) == str:\n",
        "            count += 1\n",
        "        if type(v) == list :\n",
        "            for i in v :\n",
        "                if type(i) == str :\n",
        "                    count+= 1\n",
        "    return count\n",
        "\n"
      ]
    },
    {
      "cell_type": "code",
      "execution_count": null,
      "id": "1431d350",
      "metadata": {
        "id": "1431d350",
        "outputId": "8d9232c9-a6b3-4648-fb3b-df27269c1492"
      },
      "outputs": [
        {
          "name": "stdout",
          "output_type": "stream",
          "text": [
            "{'a': 7, 'b': 'sudh', 'c': 345, 'd': 'sudh', 'l': [2, 3, 4, 45, 'sudh']}\n",
            "dict_values([7, 'sudh', 345, 'sudh', [2, 3, 4, 45, 'sudh']])\n"
          ]
        },
        {
          "data": {
            "text/plain": [
              "3"
            ]
          },
          "execution_count": 82,
          "metadata": {},
          "output_type": "execute_result"
        }
      ],
      "source": [
        "test14(a = 7 , b = \"sudh\" , c = 345 , d = \"sudh\" , l = [2,3,4,45 , \"sudh\"])"
      ]
    },
    {
      "cell_type": "code",
      "execution_count": null,
      "id": "79ac42cf",
      "metadata": {
        "id": "79ac42cf"
      },
      "outputs": [],
      "source": [
        "def test15(**kwargs) :\n",
        "    return list(kwargs.values())"
      ]
    },
    {
      "cell_type": "code",
      "execution_count": null,
      "id": "8830ef2c",
      "metadata": {
        "id": "8830ef2c",
        "outputId": "a4a5384d-9387-474a-ebd6-f33b7bc2141f"
      },
      "outputs": [
        {
          "data": {
            "text/plain": [
              "[7, 'sudh', 345, 'sudh', [2, 3, 4, 45, 'sudh']]"
            ]
          },
          "execution_count": 84,
          "metadata": {},
          "output_type": "execute_result"
        }
      ],
      "source": [
        "test15(a = 7 , b = \"sudh\" , c = 345 , d = \"sudh\" , l = [2,3,4,45 , \"sudh\"])"
      ]
    },
    {
      "cell_type": "code",
      "execution_count": null,
      "id": "495c47e2",
      "metadata": {
        "id": "495c47e2"
      },
      "outputs": [],
      "source": [
        "Todays task :\n",
        "    q1 : Try to print a prime number in between 1 to 1000\n",
        "    q2 : Try to write a function which  is equivalent  to print function in python\n",
        "    q3 : Try to write a function which is a replica of list append , extend and pop function \n",
        "    q4 : Try to write a lambda function which can return a concatination of all the string that we will pass\n",
        "    q5 : Try to write a lambda function which can return list of square of all the data between 1-100 \n",
        "    q6 : Try to write a 10 Different different example of lambda function with a choice of your taks \n",
        "    q7 : Try to wwrite a funtion whihc can perform a read operation from .txt file \n",
        "        \n",
        "        shivan@ineuron.ai\n",
        "        sudhashu@ineuron.ai"
      ]
    },
    {
      "cell_type": "code",
      "execution_count": null,
      "id": "8a9d2977",
      "metadata": {
        "id": "8a9d2977",
        "outputId": "16594b2b-56d9-4308-80de-3923e5064bf1"
      },
      "outputs": [
        {
          "data": {
            "text/plain": [
              "(5, 6, 2, (4, [5, 2]))"
            ]
          },
          "execution_count": 85,
          "metadata": {},
          "output_type": "execute_result"
        }
      ],
      "source": [
        "def test4(a, b, c, *m):\n",
        "  return a, b, c, m\n",
        "\n",
        "test4(5,6,2,4,[5,2])\n",
        "\n"
      ]
    },
    {
      "cell_type": "code",
      "execution_count": null,
      "id": "49abd649",
      "metadata": {
        "id": "49abd649",
        "outputId": "f087cef7-309b-4175-c20f-374bb603fd1c"
      },
      "outputs": [
        {
          "data": {
            "text/plain": [
              "(1, 2, 3)"
            ]
          },
          "execution_count": 88,
          "metadata": {},
          "output_type": "execute_result"
        }
      ],
      "source": [
        "b= lambda *a : a \n",
        "b(1,2,3)"
      ]
    },
    {
      "cell_type": "code",
      "execution_count": null,
      "id": "46ae7092",
      "metadata": {
        "id": "46ae7092",
        "outputId": "35179a01-883e-4c0e-f5b4-f56a313624b3"
      },
      "outputs": [
        {
          "ename": "TypeError",
          "evalue": "'int' object is not iterable",
          "output_type": "error",
          "traceback": [
            "\u001b[1;31m---------------------------------------------------------------------------\u001b[0m",
            "\u001b[1;31mTypeError\u001b[0m                                 Traceback (most recent call last)",
            "\u001b[1;32m~\\AppData\\Local\\Temp/ipykernel_7960/283666077.py\u001b[0m in \u001b[0;36m<module>\u001b[1;34m\u001b[0m\n\u001b[0;32m      1\u001b[0m \u001b[0mn\u001b[0m\u001b[1;33m=\u001b[0m\u001b[1;36m10\u001b[0m\u001b[1;33m\u001b[0m\u001b[1;33m\u001b[0m\u001b[0m\n\u001b[1;32m----> 2\u001b[1;33m \u001b[1;33m[\u001b[0m\u001b[0mi\u001b[0m \u001b[1;32mfor\u001b[0m \u001b[0mi\u001b[0m \u001b[1;32min\u001b[0m \u001b[0mn\u001b[0m\u001b[1;33m]\u001b[0m\u001b[1;33m\u001b[0m\u001b[1;33m\u001b[0m\u001b[0m\n\u001b[0m",
            "\u001b[1;31mTypeError\u001b[0m: 'int' object is not iterable"
          ]
        }
      ],
      "source": [
        "n=10\n",
        "[i for i in n]\n"
      ]
    },
    {
      "cell_type": "code",
      "execution_count": null,
      "id": "1b078bae",
      "metadata": {
        "id": "1b078bae",
        "outputId": "c6a1ae18-62b1-4bba-9c9e-241d55282778"
      },
      "outputs": [
        {
          "ename": "SyntaxError",
          "evalue": "expression cannot contain assignment, perhaps you meant \"==\"? (Temp/ipykernel_7960/1148533526.py, line 3)",
          "output_type": "error",
          "traceback": [
            "\u001b[1;36m  File \u001b[1;32m\"C:\\Users\\win10\\AppData\\Local\\Temp/ipykernel_7960/1148533526.py\"\u001b[1;36m, line \u001b[1;32m3\u001b[0m\n\u001b[1;33m    test15(a1=1,12=2,13=12)\u001b[0m\n\u001b[1;37m                ^\u001b[0m\n\u001b[1;31mSyntaxError\u001b[0m\u001b[1;31m:\u001b[0m expression cannot contain assignment, perhaps you meant \"==\"?\n"
          ]
        }
      ],
      "source": [
        "def test15(**kwargs):\n",
        "    return list(kwargs.values())\n",
        "test15(a1=1,12=2,13=12)\n"
      ]
    },
    {
      "cell_type": "code",
      "execution_count": null,
      "id": "1c961733",
      "metadata": {
        "id": "1c961733",
        "outputId": "28ca4e2d-bcd2-4af7-8f80-69f3b9b9750a"
      },
      "outputs": [
        {
          "data": {
            "text/plain": [
              "[1, 2, 3, 4]"
            ]
          },
          "execution_count": 93,
          "metadata": {},
          "output_type": "execute_result"
        }
      ],
      "source": [
        "t=(1,2,3,4)\n",
        "[i for i in t]"
      ]
    },
    {
      "cell_type": "code",
      "execution_count": null,
      "id": "ec423820",
      "metadata": {
        "id": "ec423820"
      },
      "outputs": [],
      "source": [
        "l = lambda *x: [i**2 for i in x]"
      ]
    },
    {
      "cell_type": "code",
      "execution_count": null,
      "id": "253dd7bc",
      "metadata": {
        "id": "253dd7bc",
        "outputId": "4254fdc0-e8ba-4bef-ced2-6cc6cdb8acd2"
      },
      "outputs": [
        {
          "data": {
            "text/plain": [
              "[16, 25, 36, 49]"
            ]
          },
          "execution_count": 95,
          "metadata": {},
          "output_type": "execute_result"
        }
      ],
      "source": [
        "l(4,5,6,7)"
      ]
    },
    {
      "cell_type": "code",
      "execution_count": null,
      "id": "15d4db6a",
      "metadata": {
        "id": "15d4db6a"
      },
      "outputs": [],
      "source": [
        "def test10(*m):\n",
        "    n=1\n",
        "    for i in m:\n",
        "        if type(i) == int :\n",
        "            n=n*i\n",
        "    return n\n"
      ]
    },
    {
      "cell_type": "code",
      "execution_count": null,
      "id": "3081e626",
      "metadata": {
        "id": "3081e626",
        "outputId": "fa8d3961-ee63-4962-9839-264ec0b5556a"
      },
      "outputs": [
        {
          "data": {
            "text/plain": [
              "2400"
            ]
          },
          "execution_count": 99,
          "metadata": {},
          "output_type": "execute_result"
        }
      ],
      "source": [
        "test10(4,4,5,5,6)"
      ]
    },
    {
      "cell_type": "code",
      "execution_count": null,
      "id": "46763bfc",
      "metadata": {
        "id": "46763bfc",
        "outputId": "f5c9aa42-4781-4e46-b018-e2dbf1b78b27"
      },
      "outputs": [
        {
          "data": {
            "text/plain": [
              "[1, 2, 5, [1, 3, 4, 6]]"
            ]
          },
          "execution_count": 101,
          "metadata": {},
          "output_type": "execute_result"
        }
      ],
      "source": [
        "L=[1,2,4,5,[1,3,4,6]]\n",
        "\n",
        "L.pop(2)\n",
        "L\n"
      ]
    },
    {
      "cell_type": "code",
      "execution_count": null,
      "id": "4f309d28",
      "metadata": {
        "id": "4f309d28",
        "outputId": "4921e031-bea2-42cb-f16c-f909b128d617"
      },
      "outputs": [
        {
          "data": {
            "text/plain": [
              "(1, 2, 3)"
            ]
          },
          "execution_count": 103,
          "metadata": {},
          "output_type": "execute_result"
        }
      ],
      "source": [
        "b=lambda *a : a\n",
        "b(1,2,3)"
      ]
    },
    {
      "cell_type": "code",
      "execution_count": null,
      "id": "ed2d36af",
      "metadata": {
        "id": "ed2d36af",
        "outputId": "c5f1a631-e356-412a-b574-7f1170ca90a7"
      },
      "outputs": [
        {
          "data": {
            "text/plain": [
              "(8, 8, 9, 9, 7, 7, 7, 3, 5, 7, 5)"
            ]
          },
          "execution_count": 105,
          "metadata": {},
          "output_type": "execute_result"
        }
      ],
      "source": [
        "def test5(*a,x,y,z):\n",
        "    return *a,x,y,z,\n",
        "test5 (8,8,9,9,7,7,7,3,x=5,y=7,z=5)\n"
      ]
    },
    {
      "cell_type": "code",
      "execution_count": null,
      "id": "07e180ef",
      "metadata": {
        "id": "07e180ef",
        "outputId": "53760ebd-b07f-4195-f391-baa615d4a5f7"
      },
      "outputs": [
        {
          "data": {
            "text/plain": [
              "'kapeeD'"
            ]
          },
          "execution_count": 108,
          "metadata": {},
          "output_type": "execute_result"
        }
      ],
      "source": [
        "s='Deepak'\n",
        "\n",
        "s[-1::-1]\n"
      ]
    },
    {
      "cell_type": "code",
      "execution_count": null,
      "id": "954d3347",
      "metadata": {
        "id": "954d3347",
        "outputId": "2acacaf9-1726-45c9-8e58-1519061c8988"
      },
      "outputs": [
        {
          "data": {
            "text/plain": [
              "''"
            ]
          },
          "execution_count": 107,
          "metadata": {},
          "output_type": "execute_result"
        }
      ],
      "source": [
        "s[0:6:-1]"
      ]
    },
    {
      "cell_type": "code",
      "execution_count": null,
      "id": "664a8d12",
      "metadata": {
        "id": "664a8d12"
      },
      "outputs": [],
      "source": [
        "def aad(a,b):\n",
        "    '''this is my functionde'''\n",
        "    z = a+b\n",
        "    return z\n",
        "    h = a*b\n",
        "    return h\n"
      ]
    },
    {
      "cell_type": "code",
      "execution_count": null,
      "id": "d7c8092d",
      "metadata": {
        "id": "d7c8092d",
        "outputId": "82c35d64-729f-4228-da6f-8c417640324b"
      },
      "outputs": [
        {
          "data": {
            "text/plain": [
              "3"
            ]
          },
          "execution_count": 110,
          "metadata": {},
          "output_type": "execute_result"
        }
      ],
      "source": [
        "aad(1,2)"
      ]
    },
    {
      "cell_type": "code",
      "execution_count": null,
      "id": "18c2a2d1",
      "metadata": {
        "id": "18c2a2d1"
      },
      "outputs": [],
      "source": [
        "def test10(*m , **sm):\n",
        "    return m,sm"
      ]
    },
    {
      "cell_type": "code",
      "execution_count": null,
      "id": "2427f5b7",
      "metadata": {
        "id": "2427f5b7",
        "outputId": "0823714e-534f-466b-c33f-85832616d022"
      },
      "outputs": [
        {
          "name": "stdout",
          "output_type": "stream",
          "text": [
            "*jezon\n",
            "aj*zon\n",
            "ajez*n\n"
          ]
        }
      ],
      "source": [
        "s=\"ajezon\"\n",
        "a=0 \n",
        "v='aeiou'\n",
        "while a < len(s):\n",
        "    if s[a] in v :\n",
        "        print(s.replace(s[a] ,\"*\"))\n",
        "    a = a + 1\n"
      ]
    },
    {
      "cell_type": "code",
      "execution_count": null,
      "id": "8a69dc27",
      "metadata": {
        "id": "8a69dc27",
        "outputId": "0f5259bf-75ef-4277-f9d2-f38976786e50"
      },
      "outputs": [
        {
          "ename": "SyntaxError",
          "evalue": "invalid syntax (Temp/ipykernel_7960/2806367668.py, line 1)",
          "output_type": "error",
          "traceback": [
            "\u001b[1;36m  File \u001b[1;32m\"C:\\Users\\win10\\AppData\\Local\\Temp/ipykernel_7960/2806367668.py\"\u001b[1;36m, line \u001b[1;32m1\u001b[0m\n\u001b[1;33m    find_status= lambda a: 'Low' if (a<5000) elif a>=5000 and a<=25000 'Standard' else 'High'\u001b[0m\n\u001b[1;37m                                             ^\u001b[0m\n\u001b[1;31mSyntaxError\u001b[0m\u001b[1;31m:\u001b[0m invalid syntax\n"
          ]
        }
      ],
      "source": [
        "find_status= lambda a: 'Low' if (a<5000) elif a>=5000 and a<=25000 'Standard' else 'High'\n"
      ]
    },
    {
      "cell_type": "code",
      "execution_count": null,
      "id": "7953aea0",
      "metadata": {
        "id": "7953aea0",
        "outputId": "33259926-b6e8-459a-ae22-3dfe0597fa49"
      },
      "outputs": [
        {
          "name": "stdout",
          "output_type": "stream",
          "text": [
            "ab\n",
            "cd\n",
            "ef\n"
          ]
        }
      ],
      "source": [
        "d={\"ab\":1,'cd':2,'ef':3}\n",
        "\n",
        "for k in d:\n",
        "    print(k)\n"
      ]
    },
    {
      "cell_type": "code",
      "execution_count": null,
      "id": "0c3659ba",
      "metadata": {
        "id": "0c3659ba"
      },
      "outputs": [],
      "source": [
        "# I want to perform multiplication using lambda functions, how can we do it?\n",
        "\n",
        "m=3\n",
        "b = lambda *args : [m=m*i for i in args]\n",
        "\n",
        "b(2,3)\n"
      ]
    },
    {
      "cell_type": "code",
      "execution_count": null,
      "id": "8310b48a",
      "metadata": {
        "id": "8310b48a",
        "outputId": "fb83ddba-ac32-4f27-f4eb-aa759c4f4d66"
      },
      "outputs": [
        {
          "name": "stdout",
          "output_type": "stream",
          "text": [
            "[3, 4, 5, 6, 78]\n",
            "[3, 4, 5, 6, 78]\n"
          ]
        }
      ],
      "source": [
        "t = (3, 4, 5, 6, 78)\n",
        "l = [i for i in t]\n",
        "print(l)\n",
        "ab = list(j for j in l)\n",
        "print(ab)\n"
      ]
    },
    {
      "cell_type": "code",
      "execution_count": null,
      "id": "98c5383e",
      "metadata": {
        "id": "98c5383e",
        "outputId": "96ebcbd0-0971-4a94-8820-f9af6ba08ed7"
      },
      "outputs": [
        {
          "name": "stdout",
          "output_type": "stream",
          "text": [
            "{'a': 7, 'b': 'Shan', 'c': 345, 'd': 'dd', 'l': [2, 3, 4, 5, 'Su']}\n",
            "dict_values([7, 'Shan', 345, 'dd', [2, 3, 4, 5, 'Su']])\n"
          ]
        },
        {
          "data": {
            "text/plain": [
              "3"
            ]
          },
          "execution_count": 121,
          "metadata": {},
          "output_type": "execute_result"
        }
      ],
      "source": [
        "def test14(**kwargs):\n",
        "    count = 0\n",
        "    print(kwargs)\n",
        "    print(kwargs.values())\n",
        "    for v in kwargs.values():\n",
        "        if type(v)==str:\n",
        "            count+=1\n",
        "        if type(v)==list:\n",
        "            count+=1\n",
        "    return count\n",
        "\n",
        "test14(a=7,b=\"Shan\",c=345,d=\"dd\",l=[2,3,4,5,\"Su\"])\n"
      ]
    },
    {
      "cell_type": "code",
      "execution_count": null,
      "id": "1721c3a3",
      "metadata": {
        "id": "1721c3a3"
      },
      "outputs": [],
      "source": [
        "def test15(**kwargs):\n",
        "    {i:j for i,j in kwargs.items()}"
      ]
    },
    {
      "cell_type": "code",
      "execution_count": null,
      "id": "fbafdc31",
      "metadata": {
        "id": "fbafdc31"
      },
      "outputs": [],
      "source": [
        "def test14(**kargs):\n",
        "    count=0\n",
        "    print(kargs.values())\n",
        "    for i in kargs.values():\n",
        "        print(i)\n",
        "        print(type(i) == str)\n",
        "        if type(i) == str:\n",
        "            count=count+1\n",
        "        if type(i) == list:\n",
        "            for j in i:\n",
        "                if type(j) == str:\n",
        "                    count=count+1\n",
        "    return count\n"
      ]
    },
    {
      "cell_type": "code",
      "execution_count": null,
      "id": "572273ce",
      "metadata": {
        "id": "572273ce",
        "outputId": "b118c3fc-3124-451a-dcef-5db239c65f1a"
      },
      "outputs": [
        {
          "data": {
            "text/plain": [
              "2"
            ]
          },
          "execution_count": 126,
          "metadata": {},
          "output_type": "execute_result"
        }
      ],
      "source": [
        "def func(**kwargs):\n",
        "    count = 0\n",
        "    for e in kwargs.values():\n",
        "        if type(e) == list:\n",
        "            for ele in  e:\n",
        "                if type(ele) == str:\n",
        "                    count += 1\n",
        "    return count\n",
        "func(v1 = 2,v2 = 3,v3=4, v4=5,name=\"Mohamed\", data=[\"ineuron\", \"MLDL\", 2021])"
      ]
    },
    {
      "cell_type": "code",
      "execution_count": null,
      "id": "4079e449",
      "metadata": {
        "id": "4079e449",
        "outputId": "d5e06b47-e166-47df-da76-5215448e5083"
      },
      "outputs": [
        {
          "data": {
            "text/plain": [
              "[4, 6, 8, 10]"
            ]
          },
          "execution_count": 127,
          "metadata": {},
          "output_type": "execute_result"
        }
      ],
      "source": [
        "l= lambda *x : [i*2 for i in x]\n",
        "l(2,3,4,5)\n"
      ]
    },
    {
      "cell_type": "code",
      "execution_count": null,
      "id": "3fe9d4a7",
      "metadata": {
        "id": "3fe9d4a7",
        "outputId": "1867e2cc-2e92-49d4-c961-4999853e2966"
      },
      "outputs": [
        {
          "data": {
            "text/plain": [
              "2"
            ]
          },
          "execution_count": 128,
          "metadata": {},
          "output_type": "execute_result"
        }
      ],
      "source": [
        "def func(**kwargs):\n",
        "    count = 0\n",
        "    for e in kwargs.values():\n",
        "        if type(e) == list:\n",
        "            for ele in  e:\n",
        "                if type(ele) == str:\n",
        "                    count += 1\n",
        "    return count\n",
        "func(v1 = 2,v2 = 3,v3=4, v4=5,name=\"Mohamed\", data=[\"ineuron\", \"MLDL\", 2021])\n"
      ]
    },
    {
      "cell_type": "code",
      "execution_count": null,
      "id": "3fe865b7",
      "metadata": {
        "id": "3fe865b7"
      },
      "outputs": [],
      "source": [
        "def test15(**kwargs):\n",
        "    return list(kwargs.values())\n"
      ]
    },
    {
      "cell_type": "code",
      "execution_count": null,
      "id": "6d6bc8d8",
      "metadata": {
        "id": "6d6bc8d8",
        "outputId": "da944c97-da87-4727-d1b1-3121af569a9b"
      },
      "outputs": [
        {
          "data": {
            "text/plain": [
              "[7, 'Abhi', 345, 'Abhi', [2, 3, 45, 'Abhi']]"
            ]
          },
          "execution_count": 131,
          "metadata": {},
          "output_type": "execute_result"
        }
      ],
      "source": [
        "test15(a=7,b='Abhi',c=345,d='Abhi',l=[2,3,45,'Abhi'])"
      ]
    },
    {
      "cell_type": "code",
      "execution_count": null,
      "id": "b69711d3",
      "metadata": {
        "id": "b69711d3",
        "outputId": "986f4d30-9d2c-4c57-dfd7-850f51a4502d"
      },
      "outputs": [
        {
          "name": "stdout",
          "output_type": "stream",
          "text": [
            "    \n",
            "\n",
            "  pawan   \n",
            "\n",
            " pawan  pawan   \n",
            "\n",
            "pawan  pawan  pawan   \n",
            "\n"
          ]
        }
      ],
      "source": [
        "n=3\n",
        "for i in range(n+1):\n",
        "    print(\" \"* (n-i) + 'pawan  '*i,\"\\n\")\n"
      ]
    },
    {
      "cell_type": "code",
      "execution_count": null,
      "id": "39d1ff7a",
      "metadata": {
        "id": "39d1ff7a",
        "outputId": "b6971467-9e14-4efe-ab19-828b8f79b920"
      },
      "outputs": [
        {
          "name": "stdout",
          "output_type": "stream",
          "text": [
            "k1\n",
            "k1\n",
            "k2\n",
            "k2\n",
            "k3\n",
            "k3\n",
            "sudh\n",
            "sudh\n",
            "ineuron\n",
            "ineuron\n",
            "kumar\n",
            "kumar\n",
            "ineuron\n",
            "ineuron\n",
            "data science\n"
          ]
        }
      ],
      "source": [
        "data = [1,\n",
        " 2,\n",
        " 3,\n",
        " 4,\n",
        " 2,\n",
        " 3,\n",
        " 4,\n",
        " 5,\n",
        " 6,\n",
        " 3,\n",
        " 4,\n",
        " 5,\n",
        " 6,\n",
        " 7,\n",
        " 45,\n",
        " 4,\n",
        " 5,\n",
        " 23,\n",
        " 'k1',\n",
        " 'k2',\n",
        " 'k3',\n",
        " 3,\n",
        " 7,\n",
        " 'sudh',\n",
        " 'ineuron',\n",
        " 'kumar',\n",
        " 6,\n",
        " 8,\n",
        " 'ineuron',\n",
        " 'data science']\n",
        "\n",
        "for i in data:\n",
        "    \n",
        "    if type(i) == str:\n",
        "        print(i)\n",
        "        if i.isalnum(): \n",
        "            print(i)\n"
      ]
    },
    {
      "cell_type": "code",
      "execution_count": null,
      "id": "20833d25",
      "metadata": {
        "id": "20833d25",
        "outputId": "841255fd-85ac-4769-a864-f9f187d3a1bb"
      },
      "outputs": [
        {
          "data": {
            "text/plain": [
              "(45, 5, 4, 5, 5, 6, 677)"
            ]
          },
          "execution_count": 139,
          "metadata": {},
          "output_type": "execute_result"
        }
      ],
      "source": [
        "b=lambda *sudh : sudh\n",
        "b(45,5,4,5,5,6,677)\n"
      ]
    },
    {
      "cell_type": "code",
      "execution_count": null,
      "id": "35ecbb5a",
      "metadata": {
        "id": "35ecbb5a"
      },
      "outputs": [],
      "source": [
        "def test11(*m):\n",
        "    n=1\n",
        "    for i in m:\n",
        "        if type(i)==int:\n",
        "            n=n*i\n",
        "        return n\n"
      ]
    },
    {
      "cell_type": "code",
      "execution_count": null,
      "id": "a70fc8f8",
      "metadata": {
        "id": "a70fc8f8"
      },
      "outputs": [],
      "source": [
        "def test13(**kwargs):\n",
        "    count = 0\n",
        "    for i in kwargs.values():\n",
        "        if type(i) == str or type(i) == list: \n",
        "            for j in i:\n",
        "                count += 1\n",
        "        return count"
      ]
    },
    {
      "cell_type": "code",
      "execution_count": null,
      "id": "382ffdde",
      "metadata": {
        "id": "382ffdde"
      },
      "outputs": [],
      "source": [
        "def test15(**s):\n",
        "    return {i:j for i,j in s.items()}\n"
      ]
    },
    {
      "cell_type": "code",
      "execution_count": null,
      "id": "b5c84313",
      "metadata": {
        "id": "b5c84313",
        "outputId": "e973d463-bf1a-4ee2-82d6-a21ff5d1b680"
      },
      "outputs": [
        {
          "data": {
            "text/plain": [
              "{'a': 1, 'b': 5, 'n': 4}"
            ]
          },
          "execution_count": 146,
          "metadata": {},
          "output_type": "execute_result"
        }
      ],
      "source": [
        "test15(a = 1 , b  = 5 , n = 4 )"
      ]
    },
    {
      "cell_type": "code",
      "execution_count": null,
      "id": "26a132d5",
      "metadata": {
        "id": "26a132d5"
      },
      "outputs": [],
      "source": []
    }
  ],
  "metadata": {
    "kernelspec": {
      "display_name": "Python 3 (ipykernel)",
      "language": "python",
      "name": "python3"
    },
    "language_info": {
      "codemirror_mode": {
        "name": "ipython",
        "version": 3
      },
      "file_extension": ".py",
      "mimetype": "text/x-python",
      "name": "python",
      "nbconvert_exporter": "python",
      "pygments_lexer": "ipython3",
      "version": "3.9.7"
    },
    "colab": {
      "provenance": [],
      "include_colab_link": true
    }
  },
  "nbformat": 4,
  "nbformat_minor": 5
}